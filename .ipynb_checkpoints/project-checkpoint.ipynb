{
  "cells": [
    {
      "cell_type": "markdown",
      "metadata": {
        "id": "3k-oUL5118qn"
      },
      "source": [
        "# Final project guidelines\n",
        "\n",
        "**Note:** Use these guidelines if and only if you are pursuing a **final project of your own design**. For those taking the final exam instead of the project, see the (separate) final exam notebook.\n",
        "\n",
        "## Guidelines\n",
        "\n",
        "These guidelines are intended for **undergraduates enrolled in INFO 3350**. If you are a graduate student enrolled in INFO 6350, you're welcome to consult the information below, but you have wider latitude to design and develop your project in line with your research goals.\n",
        "\n",
        "### The task\n",
        "\n",
        "Your task is to: identify an interesting problem connected to the humanities or humanistic social sciences that's addressable with the help of computational methods, formulate a hypothesis about it, devise an experiment or experiments to test your hypothesis, present the results of your investigations, and discuss your findings.\n",
        "\n",
        "These tasks essentially replicate the process of writing an academic paper. You can think of your project as a paper in miniature.\n",
        "\n",
        "You are free to present each of these tasks as you see fit. You should use narrative text (that is, your own writing in a markdown cell), citations of others' work, numerical results, tables of data, and static and/or interactive visualizations as appropriate. Total length is flexible and depends on the number of people involved in the work, as well as the specific balance you strike between the ambition of your question and the sophistication of your methods. But be aware that numbers never, ever speak for themselves. Quantitative results presented without substantial discussion will not earn high marks.\n",
        "\n",
        "Your project should reflect, at minimum, ten **or more** hours of work by each participant, though you will be graded on the quality of your work, not the amount of time it took you to produce it. Most high-quality projects represent twenty or more hours of work by each member.\n",
        "\n",
        "#### Pick an important and interesting problem!\n",
        "\n",
        "No amount of technical sophistication will overcome a fundamentally uninteresting problem at the core of your work. You have seen many pieces of successful computational humanities research over the course of the semester. You might use these as a guide to the kinds of problems that interest scholars in a range of humanities disciplines. You may also want to spend some time in the library, reading recent books and articles in the professional literature. **Problem selection and motivation are integral parts of the project.** Do not neglect them.\n",
        "\n",
        "### Format\n",
        "\n",
        "You should submit your project as a Jupyter notebook, along with all data necessary to reproduce your analysis. If your dataset is too large to share easily, let us know in advance so that we can find a workaround. If you have a reason to prefer a presentation format other than a notebook, likewise let us know so that we can discuss the options.\n",
        "\n",
        "Your report should have four basic sections (provided in cells below for ease of reference):\n",
        "\n",
        "1. **Introduction and hypothesis.** What problem are you working on? Why is it interesting and important? What have other people said about it? What do you expect to find?\n",
        "2. **Corpus, data, and methods.** What data have you used? Where did it come from? How did you collect it? What are its limitations or omissions? What major methods will you use to analyze it? Why are those methods the appropriate ones?\n",
        "3. **Results.** What did you find? How did you find it? How should we read your figures? Be sure to include confidence intervals or other measures of statistical significance or uncetainty where appropriate.\n",
        "4. **Discussion and conclusions.** What does it all mean? Do your results support your hypothesis? Why or why not? What are the limitations of your study and how might those limitations be addressed in future work?\n",
        "\n",
        "Within each of those sections, you may use as many code and markdown cells as you like. You may, of course, address additional questions or issues not listed above.\n",
        "\n",
        "All code used in the project should be present in the notebook (except for widely-available libraries that you import), but **be sure that we can read and understand your report in full without rerunning the code**. Be sure, too, to explain what you're doing along the way, both by describing your data and methods and by writing clean, well commented code.\n",
        "\n",
        "### Grading\n",
        "\n",
        "This project takes the place of the take-home final exam for the course. It is worth 35% of your overall grade. You will be graded on the quality and ambition of each aspect of the project. No single component is more important than the others.\n",
        "\n",
        "### Practical details\n",
        "\n",
        "* The project is due at **noon on Saturday, December 9** via upload to CMS of a single zip file containing your fully executed Jupyter notebook and all associated data.\n",
        "* You may work alone or in a group of up to three total members.\n",
        "    * If you work in a group, be sure to list the names of the group members.\n",
        "    * For groups, create your group on CMS and submit one notebook for the entire group. **Each group should also submit a statement of responsibility** that describes in general terms who performed which parts of the project.\n",
        "* You may post questions on Ed, but should do so privately (visible to course staff only).\n",
        "* Interactive visualizations do not always work when embedded in shared notebooks. If you plan to use interactives, you may need to host them elsewhere and link to them.\n",
        "\n",
        "---"
      ]
    },
    {
      "cell_type": "markdown",
      "metadata": {
        "id": "6hXOeZK218qo"
      },
      "source": [
        "Are signs of Mental health received differently across various languages? Can the \"emotionally involved\" semantics of a word be translated across various languages?\n",
        "\n",
        "https://www.kaggle.com/datasets/reihanenamdari/mental-health-corpus/data\n",
        "\n",
        "1) Data cleaning and visualization\n",
        "2) Build translation of english texts (using FlanT5 and M2M)\n",
        "\n",
        "- choose a easy translatable language (English -> Spanish) and then a hard one (English -> Farsi)\n",
        "\n",
        "3) Validate it (??? somehow, Google translate API, https://github.com/matheuss/google-translate-api)\n",
        "\n",
        "- comment on pitfalls of google translate's innaccuracy\n",
        "\n",
        "- discuss how well translation models are at translating emotionally charged texts\n",
        "    - compare it to a baseline (maybe google and see what the average performance is likee)\n",
        "\n",
        "4) Baseline models (log reg, random forest, naive bayes)\n",
        "\n",
        "5) Run BERT and attempt to compare labels\n",
        "\n",
        "6) repeat 4 and 5 for all the other languages we test\n",
        "\n",
        "7) validate scores\n",
        "\n",
        "8) Compare scores between languages (Perform some t-test shit idk)\n",
        "\n",
        "\n",
        "https://www.kaggle.com/datasets/reihanenamdari/mental-health-corpus/data"
      ]
    },
    {
      "cell_type": "markdown",
      "metadata": {
        "id": "6J6gtSPY18qo"
      },
      "source": [
        "## Your info\n",
        "* NetID(s): an448, ms2935\n",
        "* Name(s): Asad Nabi, Muhaimin Sarker\n",
        "---"
      ]
    },
    {
      "cell_type": "markdown",
      "metadata": {
        "id": "884kZHpg18qo"
      },
      "source": [
        "## 1. Introduction and hypothesis"
      ]
    },
    {
      "cell_type": "markdown",
      "metadata": {
        "id": "mEb8p3gc18qp"
      },
      "source": [
        "##### Introduction\n",
        "In the current technological advanced world that we live in, messaging and social media have become ways for us to express ourselves and communicate almost instantaneously. Due to this, often times, people find themselves \"chronically online\" and writing multiple messages to friends and people for many to see. As a result of COVID-19 and the variety of situations, mental health is on the decline and there is a necessity to understand what text messages people with mental health issues send so that we can help them before it is too late. However, mental health is not just an issue within the United States and it is imperative for us to analyze and understand how signs of mental health might be received across different languages. Additionally, within such texts, an active question comes out to whether or not we can translate \"emotionally involved semantics\" in English into different languages to allow for true understanding of the issue at hand. This is especially as some cultures may not readily communicate mental health issues within text messages due to various stigmas against it. As a result, there may not be datasets that record such instances within text messages and there is a need to understand this as well.\n",
        "\n",
        "#### Hypothesis\n",
        "In this analysis of text messages, we hypothesize that signs of mental health issues that received differently across different languages. We believe that this is because of difference in cultures and due to the reasoning that within each culture, mental health is treated differently. For example, based on an article from UCLA Health (https://www.uclahealth.org/news/confronting-mental-health-barriers-asian-american-and-2), Asian Americans are 50% less likely to seek mental health services due to an stigmatization of the topic. As a result, text messages from Asian langauges/cultures indicated mental health issues might be less pronounced than those in other cultures. We also hypothesize that translating from these English messages with \"emotionally involved semantics\" to different languages will not be successful. We believe that this is because during the translation process, the meaning behind the texts will be lost and unable to be conveyed in another language correctly due to the apparent linguistical differences.   \n",
        "\n",
        "We will create classification models to predict signs of mental health in English texts, French texts as well as Chinese Texts. The models will be trained in respective languages and we will see how well models perform at classifying texts as \"mental health concerns\" or \"no concern\" per language.\n"
      ]
    },
    {
      "cell_type": "markdown",
      "metadata": {
        "id": "sDsFX6a2Dc8s"
      },
      "source": [
        "## Installations and Imports"
      ]
    },
    {
      "cell_type": "code",
      "execution_count": 1,
      "metadata": {
        "colab": {
          "base_uri": "https://localhost:8080/"
        },
        "id": "4JDTbHA82Rzb",
        "outputId": "e02047e0-fb6a-4953-f21b-238547c2c723"
      },
      "outputs": [],
      "source": [
        "# Install packages that we need (GOOGLE COLAB only)\n",
        "# !pip install sentencepiece\n",
        "# !pip install transformers\n",
        "# !pip3 install transformers[torch]\n",
        "# !pip install googletrans"
      ]
    },
    {
      "cell_type": "code",
      "execution_count": 2,
      "metadata": {
        "id": "dIJH-qHl18qp"
      },
      "outputs": [],
      "source": [
        "# Importing necessary libraries\n",
        "from transformers import T5Tokenizer, T5ForConditionalGeneration, M2M100ForConditionalGeneration, M2M100Tokenizer\n",
        "import torch\n",
        "import numpy as np\n",
        "import pandas as pd\n",
        "import matplotlib.pyplot as plt\n",
        "import seaborn as sns\n",
        "import pickle\n",
        "import random\n",
        "from collections import defaultdict\n",
        "from sklearn.metrics import classification_report\n",
        "\n",
        "from sklearn.model_selection import train_test_split\n",
        "from transformers import DistilBertTokenizerFast, DistilBertForSequenceClassification, AdamW\n",
        "from transformers import Trainer, TrainingArguments\n",
        "\n",
        "from sklearn.metrics import f1_score, classification_report\n",
        "from sklearn.naive_bayes import MultinomialNB\n",
        "from sklearn.feature_extraction.text import TfidfVectorizer\n",
        "from sklearn.linear_model import LogisticRegression\n",
        "from sklearn.ensemble import RandomForestClassifier"
      ]
    },
    {
      "cell_type": "markdown",
      "metadata": {
        "id": "WjlU6EHO18qp"
      },
      "source": [
        "## 2. Data and methods"
      ]
    },
    {
      "cell_type": "markdown",
      "metadata": {
        "id": "fFtSb2pB18qq"
      },
      "source": [
        "##### Dataset\n",
        "We ended up using a Kaggle dataset called \"Mental Health Corpus\" which contains a corpus of text messages from people who have depression, anxiety, and other mental health issues. Each of these texts are labeled based on whether or not there is a mental health concern from the text message or if there isn't. We will use these text messages to allow us to answer our research questions and understand whether or not our hypothesis is correct. Additionally, we will translate these text messages into different languages to help us understand the \"emotionally involved semantics\" within these texts in different languages and whether or not that is lost in the translation process."
      ]
    },
    {
      "cell_type": "markdown",
      "metadata": {
        "id": "yKJLhZHqDrnP"
      },
      "source": [
        "## Loading and Cleaning Data"
      ]
    },
    {
      "cell_type": "code",
      "execution_count": 3,
      "metadata": {
        "colab": {
          "base_uri": "https://localhost:8080/",
          "height": 376
        },
        "id": "IK1HTrlf18qq",
        "outputId": "3bad1cf9-c35b-4d57-ddfa-6cd824ab17bc"
      },
      "outputs": [
        {
          "name": "stdout",
          "output_type": "stream",
          "text": [
            "Total number of texts in the dataset (Shape): (27977, 2)\n"
          ]
        },
        {
          "data": {
            "text/html": [
              "<div>\n",
              "<style scoped>\n",
              "    .dataframe tbody tr th:only-of-type {\n",
              "        vertical-align: middle;\n",
              "    }\n",
              "\n",
              "    .dataframe tbody tr th {\n",
              "        vertical-align: top;\n",
              "    }\n",
              "\n",
              "    .dataframe thead th {\n",
              "        text-align: right;\n",
              "    }\n",
              "</style>\n",
              "<table border=\"1\" class=\"dataframe\">\n",
              "  <thead>\n",
              "    <tr style=\"text-align: right;\">\n",
              "      <th></th>\n",
              "      <th>text</th>\n",
              "      <th>label</th>\n",
              "    </tr>\n",
              "  </thead>\n",
              "  <tbody>\n",
              "    <tr>\n",
              "      <th>0</th>\n",
              "      <td>dear american teens question dutch person hear...</td>\n",
              "      <td>no concern</td>\n",
              "    </tr>\n",
              "    <tr>\n",
              "      <th>1</th>\n",
              "      <td>nothing look forward lifei dont many reasons k...</td>\n",
              "      <td>mental health concern</td>\n",
              "    </tr>\n",
              "    <tr>\n",
              "      <th>2</th>\n",
              "      <td>music recommendations im looking expand playli...</td>\n",
              "      <td>no concern</td>\n",
              "    </tr>\n",
              "    <tr>\n",
              "      <th>3</th>\n",
              "      <td>im done trying feel betterthe reason im still ...</td>\n",
              "      <td>mental health concern</td>\n",
              "    </tr>\n",
              "    <tr>\n",
              "      <th>4</th>\n",
              "      <td>worried  year old girl subject domestic physic...</td>\n",
              "      <td>mental health concern</td>\n",
              "    </tr>\n",
              "    <tr>\n",
              "      <th>5</th>\n",
              "      <td>hey rredflag sure right place post this goes  ...</td>\n",
              "      <td>mental health concern</td>\n",
              "    </tr>\n",
              "    <tr>\n",
              "      <th>6</th>\n",
              "      <td>feel like someone needs hear tonight feeling r...</td>\n",
              "      <td>no concern</td>\n",
              "    </tr>\n",
              "    <tr>\n",
              "      <th>7</th>\n",
              "      <td>deserve liveif died right noone would carei re...</td>\n",
              "      <td>mental health concern</td>\n",
              "    </tr>\n",
              "    <tr>\n",
              "      <th>8</th>\n",
              "      <td>feels good ive set dateim killing friday nice ...</td>\n",
              "      <td>mental health concern</td>\n",
              "    </tr>\n",
              "    <tr>\n",
              "      <th>9</th>\n",
              "      <td>live guiltok made stupid random choice  its ge...</td>\n",
              "      <td>mental health concern</td>\n",
              "    </tr>\n",
              "  </tbody>\n",
              "</table>\n",
              "</div>"
            ],
            "text/plain": [
              "                                                text                  label\n",
              "0  dear american teens question dutch person hear...             no concern\n",
              "1  nothing look forward lifei dont many reasons k...  mental health concern\n",
              "2  music recommendations im looking expand playli...             no concern\n",
              "3  im done trying feel betterthe reason im still ...  mental health concern\n",
              "4  worried  year old girl subject domestic physic...  mental health concern\n",
              "5  hey rredflag sure right place post this goes  ...  mental health concern\n",
              "6  feel like someone needs hear tonight feeling r...             no concern\n",
              "7  deserve liveif died right noone would carei re...  mental health concern\n",
              "8  feels good ive set dateim killing friday nice ...  mental health concern\n",
              "9  live guiltok made stupid random choice  its ge...  mental health concern"
            ]
          },
          "execution_count": 3,
          "metadata": {},
          "output_type": "execute_result"
        }
      ],
      "source": [
        "# Loading and observing dataset\n",
        "mh_df = pd.read_csv(\"data/mental_health.csv\")\n",
        "mh_df['label'] = mh_df['label'].map({0: 'no concern', 1: 'mental health concern'})\n",
        "print(\"Total number of texts in the dataset (Shape):\", mh_df.shape)\n",
        "mh_df.head(10)"
      ]
    },
    {
      "cell_type": "code",
      "execution_count": 4,
      "metadata": {
        "colab": {
          "base_uri": "https://localhost:8080/",
          "height": 340
        },
        "id": "MD5rKKcr__45",
        "outputId": "fe39c868-0f88-43ac-f8a2-8122cfad5ced"
      },
      "outputs": [
        {
          "name": "stdout",
          "output_type": "stream",
          "text": [
            "Shape of random sampled dataset: (500, 2)\n"
          ]
        },
        {
          "data": {
            "text/html": [
              "<div>\n",
              "<style scoped>\n",
              "    .dataframe tbody tr th:only-of-type {\n",
              "        vertical-align: middle;\n",
              "    }\n",
              "\n",
              "    .dataframe tbody tr th {\n",
              "        vertical-align: top;\n",
              "    }\n",
              "\n",
              "    .dataframe thead th {\n",
              "        text-align: right;\n",
              "    }\n",
              "</style>\n",
              "<table border=\"1\" class=\"dataframe\">\n",
              "  <thead>\n",
              "    <tr style=\"text-align: right;\">\n",
              "      <th></th>\n",
              "      <th>text</th>\n",
              "      <th>label</th>\n",
              "    </tr>\n",
              "  </thead>\n",
              "  <tbody>\n",
              "    <tr>\n",
              "      <th>235</th>\n",
              "      <td>im tired watching porn literally want girl tel...</td>\n",
              "      <td>no concern</td>\n",
              "    </tr>\n",
              "    <tr>\n",
              "      <th>12172</th>\n",
              "      <td>guess forgot read countrys native language yep...</td>\n",
              "      <td>no concern</td>\n",
              "    </tr>\n",
              "    <tr>\n",
              "      <th>5192</th>\n",
              "      <td>ever achieved rock bottom never opportunity me...</td>\n",
              "      <td>mental health concern</td>\n",
              "    </tr>\n",
              "    <tr>\n",
              "      <th>17289</th>\n",
              "      <td>dear readers  space odyssey kubrick bestalthou...</td>\n",
              "      <td>no concern</td>\n",
              "    </tr>\n",
              "    <tr>\n",
              "      <th>10955</th>\n",
              "      <td>payingim gonna kill myself rn</td>\n",
              "      <td>mental health concern</td>\n",
              "    </tr>\n",
              "  </tbody>\n",
              "</table>\n",
              "</div>"
            ],
            "text/plain": [
              "                                                    text  \\\n",
              "235    im tired watching porn literally want girl tel...   \n",
              "12172  guess forgot read countrys native language yep...   \n",
              "5192   ever achieved rock bottom never opportunity me...   \n",
              "17289  dear readers  space odyssey kubrick bestalthou...   \n",
              "10955                      payingim gonna kill myself rn   \n",
              "\n",
              "                       label  \n",
              "235               no concern  \n",
              "12172             no concern  \n",
              "5192   mental health concern  \n",
              "17289             no concern  \n",
              "10955  mental health concern  "
            ]
          },
          "metadata": {},
          "output_type": "display_data"
        },
        {
          "name": "stdout",
          "output_type": "stream",
          "text": [
            "Labels:\n"
          ]
        },
        {
          "data": {
            "text/plain": [
              "235                 no concern\n",
              "12172               no concern\n",
              "5192     mental health concern\n",
              "17289               no concern\n",
              "10955    mental health concern\n",
              "Name: label, dtype: object"
            ]
          },
          "metadata": {},
          "output_type": "display_data"
        }
      ],
      "source": [
        "# IF too big, random sample the dataframe\n",
        "\n",
        "mh_texts = mh_df.sample(n=500, replace=True, random_state=1)\n",
        "print(\"Shape of random sampled dataset:\", mh_texts.shape)\n",
        "display(mh_texts.head())\n",
        "\n",
        "labels = mh_texts[\"label\"]\n",
        "print(\"Labels:\")\n",
        "display(labels.head())"
      ]
    },
    {
      "cell_type": "markdown",
      "metadata": {
        "id": "40kpJKiqDx8h"
      },
      "source": [
        "## Data Visualizations"
      ]
    },
    {
      "cell_type": "code",
      "execution_count": 5,
      "metadata": {
        "colab": {
          "base_uri": "https://localhost:8080/",
          "height": 442
        },
        "id": "6426Lczi18qq",
        "outputId": "b9ae65f1-5a86-40ea-fe2b-83069500cda1"
      },
      "outputs": [
        {
          "data": {
            "image/png": "[encoded data removed]",
            "text/plain": [
              "<Figure size 640x480 with 1 Axes>"
            ]
          },
          "metadata": {},
          "output_type": "display_data"
        }
      ],
      "source": [
        "# Plotting a pie chart\n",
        "freq_count = mh_texts['label'].value_counts()\n",
        "\n",
        "plt.pie(freq_count, labels=['no concern', 'mental health\\nconcern'], autopct='%1.1f%%', startangle=90, colors=['skyblue', 'lightcoral'])\n",
        "plt.title('Frequency of concerns')\n",
        "plt.legend(bbox_to_anchor=(.15, .15))\n",
        "plt.show()"
      ]
    },
    {
      "cell_type": "code",
      "execution_count": 6,
      "metadata": {
        "colab": {
          "base_uri": "https://localhost:8080/",
          "height": 472
        },
        "id": "atdtgVzY18qr",
        "outputId": "a780ff63-d60f-40fd-aa97-42b5b3d867c3"
      },
      "outputs": [
        {
          "data": {
            "image/png": "[encoded data removed]",
            "text/plain": [
              "<Figure size 640x480 with 1 Axes>"
            ]
          },
          "metadata": {},
          "output_type": "display_data"
        }
      ],
      "source": [
        "freq_count.plot(kind='barh', color=['skyblue', 'lightcoral'])\n",
        "plt.title('Frequency of concerns')\n",
        "plt.xlabel('Frequency')\n",
        "plt.ylabel('Concern')\n",
        "plt.show()"
      ]
    },
    {
      "cell_type": "markdown",
      "metadata": {
        "id": "aox-AkGXD1d9"
      },
      "source": [
        "## Performing Translations via M2M Model"
      ]
    },
    {
      "cell_type": "code",
      "execution_count": null,
      "metadata": {
        "id": "tUVXb5Lw18qr"
      },
      "outputs": [],
      "source": [
        "# Load models\n",
        "device = \"cuda\"\n",
        "m2m_model = M2M100ForConditionalGeneration.from_pretrained(\"facebook/m2m100_418M\")\n",
        "m2m_tokenizer = M2M100Tokenizer.from_pretrained(\"facebook/m2m100_418M\")"
      ]
    },
    {
      "cell_type": "code",
      "execution_count": null,
      "metadata": {
        "id": "xWO44hOOMZbj"
      },
      "outputs": [],
      "source": [
        "#Google T-5 model\n",
        "# model_id = \"google/flan-t5-large\"\n",
        "# model = T5ForConditionalGeneration.from_pretrained(model_id).to(device)\n",
        "# tokenizer = T5Tokenizer.from_pretrained(model_id)"
      ]
    },
    {
      "cell_type": "code",
      "execution_count": null,
      "metadata": {
        "colab": {
          "base_uri": "https://localhost:8080/"
        },
        "id": "bs8stW6_18qr",
        "outputId": "8d3f40af-3669-45e9-d239-61f98ba8814a"
      },
      "outputs": [
        {
          "name": "stdout",
          "output_type": "stream",
          "text": [
            "0) ['Im fatigué regarder porno littéralement veut la fille dire matter veut aimer im fatigué veut tuer aussi']\n",
            "1) [\"J'ai oublié de lire la langue maternelle des pays et j'ai oublié de lire la langue maternelle des pays et j'ai oublié de\"]\n",
            "2) [\"jamais atteint rock bottom jamais l'occasion de rencontrer des amis fait des temps probablement fucked phrase au-dessus im native alright ampxb amour tous les\"]\n",
            "3) ['chers lecteurs spatial odyssey kubrick bestalthough vraiment cant dire spatial odyssey film ive jamais regardé encore bon film étrange goodbr br']\n",
            "4) ['Je vais me tuer RN']\n",
            "5) ['La pureté du riz score la vie de Shell']\n",
            "6) ['ok redflagwatch ive ruled redflag fuck me ive la plupart misérable vie finalement résolu tuer avril dernier misérable déprimé miséra']\n",
            "7) [\"Tout le monde qui veut rejoindre discord serveur général de programmation de jeux discord lien description bio quoi qu'il veut appeler\"]\n",
            "8) ['wastei toujours face à la dépression désirant la mort sur moi-même due fait se sentir comme le gaspillage de la vie humaine plus âgée sœur sup']\n",
            "9) ['im même sure im postingi récemment diagnostiqué dysfonction bipolaire dragging girlfriend an comportement fathom moi-même im actuellement aller le traitement mais témoin']\n",
            "10) ['im terrible everythingim littéralement la valeur de la vie ive passions réelles choses complètement jeté en dehors se sent comme complet vide ive créer la musique']\n",
            "11) ['huey lewis newsfuck toutNothing mattershey dreadwolf coming live new york city nice cool summer night partiellement cloudy beautiful summer night making love almost']\n",
            "12) ['Les meilleurs jeux vidéo jamais awp power flicks']\n",
            "13) [\"remerciements modérateurs de rsuicidewatch pour permettre la publication ici partie de l'équipe des chercheurs de l'état de la psychiatrie\"]\n",
            "14) [\"ton soir nighti cant vivez chaque jour regrette partenaire mois depuis qu'il y a des années aimant une vie merveilleuse ensemble faute alcool dépression oc\"]\n",
            "15) ['savoir beaucoup plus de main sur besoin aide penser redflagive dépression vie a été pire récemment lire papa lettre a été fou lettre dire im faire stress p']\n",
            "16) ['Best friend committed redflagi attended funeral last week valentines always aesthetic way best friend peculiar relationship met mental hospital age immédiatement cliqué roomies']\n",
            "17) ['Mishima un des plus grands films jamais fait penser Paul Schrader le plus grand scénariste temps vraiment comme les films hes dirigé ive vu avec exception affliction']\n",
            "18) ['penser im en réalité gonna iti planifié août monoxyde de carbone poison penser faire une semaine non penser traiter un jour comme']\n",
            "19) [\"Dieu vie signifie histoire histoire de l'humanité souffrant de l'oppression mortso ce que im assis devant l'ordinateur parler les gars ive a été chargé\"]\n",
            "20) ['agréable amusant terrainschatting bon travail montrant derrière les scènes monde théâtre groupes vivent acteurs trois sorcières grand sur offstage']\n",
            "21) [\"Je veux boire de la bière, je veux l'odeur comme de l'alcool\"]\n",
            "22) ['Bonne nuit tout le monde bon midi matin tout le monde']\n",
            "23) ['adolescents mains type de clavier nés sans mains méthode de type de clavier laissez un commentaire ci-dessous']\n",
            "24) ['Rien ne fait jamais se sentir satisfait myselfi continuer à pousser les gens loin savoir ils sont mieux sans la vie im enfin seul fait les peuples vivent mieux']\n",
            "25) ['frère talk farts pooping excessivement ennuyeux comme apporte farts poops chaque conversation matériau im avec des choses aléatoires comme pourrait comme']\n",
            "26) ['voir comment commettre redflagi yo india sorry make mistakes idea commit redflag mind last year since rd juin exact yesterday enough made mind kill me dont figured way kill']\n",
            "27) [\"papa jus a dit quelque chose dans le monde réel supposé que la pandémie moyenne ici jouer chien j'ai procédé coupable écouter de la musique\"]\n",
            "28) ['voir sideis la vie demandant toute la vie fucking go im done fucking joke la vie ive im drogged drunk suffisamment sign off voir côté adieu']\n",
            "29) [\"échec de classe première fois en ligne école sucks fait toujours haute b étudiant mais voir les degrés s'échappent récemment mathématiques maintenant double crédit\"]\n",
            "30) ['Dames gentils peut le faire peut avoir une fille type comme moi peut ne pas avoir']\n",
            "31) [\"Tout le monde a vu le post chat hier aujourd'hui merci beaucoup de commentaires positifs gars littéralement fait le jour beaucoup mieux se sent bien connaître les gens s'\"]\n",
            "32) ['Le premier jour, les jours lent']\n",
            "33) [\"f n'importe qui veut parler comme parler hehe im horny n a besoin d'aide pls merci\"]\n",
            "34) ['Cant iti wasnt capable de passer par made noose belt a commencé à se pendre moi-même knot est arrivé undone tombé sur le sol balled yeux out im']\n",
            "35) ['im scared amis im lot amis vraiment étrange fétiches comme bdsm shit dont try hide theyre complètement public it dont know disturbs fétiches âge normal']\n",
            "36) ['film a commencé à confondre grandir un des meilleurs films vu acteur tout à fait superbes larmes sèches rapports meryl streep qui performance extraordinaire film de']\n",
            "37) ['im worth it im truly notim worth air breathe hate am hate ive become hate person see mirror ive become empty lifeless shell leech happiness everything i']\n",
            "38) [\"hit certain objectif probablement me tuer moi-mêmedonner autour des jours compléter autour de l'anniversaire fatigué moi-même fatigué monde fatigué\"]\n",
            "39) [\"a zoom bombardé aujourd'hui classe quelqu'un a rejoint la classe zoom apparemment différent district crié nword fermé bitch ass a été mut\"]\n",
            "40) [\"plan l'année prochaine vieux garçon vivant avec les parents ont besoin d'obtenir la fuite je vais économiser beaucoup d'argent les prochains mois je\"]\n",
            "41) ['shoot em up sang horror movies come way last little saw hostal saw hills eyes yes place get wrong went see when stranger calls buddy night why remake classic time excellent']\n",
            "42) ['première rejoint reddit trouvé place pensé kinda stupide encore im stupid assez à part ce que tout']\n",
            "43) ['étrange cope plutôt précieux choses annulées pandémie attente annulée a eu lieu depuis mars dernier variété de choses la vie annulée rona chaque fois que']\n",
            "44) ['connaître domale bientôt des années de vie depuis rencontrer la première petite amie quelque chose tbf comprendre les défis mentaux cependant vraiment fucked up jamais rencontrer']\n",
            "45) [\"des activités extrêmes et des gens hollywoodiens comme ufc xgames les gens poursuivent l'intérêt chercher doc outbr br cette une truthisstr\"]\n",
            "46) [\"wish gutswell am resorting post internet forum ce qui juge les interactions passées doute réponse m'aider à ressentir les choix rejeter Dieu me tuer ne\"]\n",
            "47) ['Je souhaite que les gens parlent des versets incompréhensibles discours en direction de parler clair la plupart du temps compréhensible la façon proche impossible mais il']\n",
            "48) [\"ifstrawberry champs éternellement gorrilaz chanson écouter question est venu à l'esprit savoir autrement demander oui\"]\n",
            "49) ['Rd time k krma spécial']\n",
            "50) [\"Laissez hypothétique dire avoir k étranger honnêtement se passe aujourd'hui rencontrer mrbeast tout comme walkart cible doit dépenser h\"]\n",
            "51) [\"première post rantive reddit compte années brisant lurking streak mine faire première fois officiel post cant garder plus l'an dernier mois novembre quelque chose m'est arrivé\"]\n",
            "52) ['id happy die sleep anytime soonampxb chose im ans vieux vie essentiellement toujours pointless lugglethe pire partie entendre supposé les meilleurs ans la vie']\n",
            "53) ['please tell gets betterim fired best job ever months ago reasons fault even unemployment judge agreed case favor took huge cut pay find work barely pay bills cant afford real']\n",
            "54) ['Les enfants tués par le chirurgien, les enfants tués par le chirurgien']\n",
            "55) ['Je suis fatigué, je suis fatigué, je suis fatigué, je suis fatigué.']\n",
            "56) ['Prendre la douche marche parents penser sexe dit apporter condom brosse les dents wouldnt écouter dit']\n",
            "57) ['Lire le temps guesshi besoin de tout le monde lire peut-être laisser un commentaire se sentir fou tout la vie shit show abusive père drogues vivant pauvreté tout']\n",
            "58) [\"non plan vivre voir je sens comme le fardeau drain tout le monde autour de moi im shit école de l'avenir un m'occupe ce qu'il va voir\"]\n",
            "59) ['sens trappedlet commence un peu de retour histoire jeune âge ive toujours deuxième pensée famille due malheureux choses vieux frère diagnostiqué cancer second vieux frère diagnosti']\n",
            "60) [\"quelqu'un d'autre a jamais l'impression de se réveiller en réalisant la mise en place d'alarme au lieu de craindre l'anxiété in\"]\n",
            "61) ['les gens hypocritesthey égoïste penser leur propre bully vous insulte makinf fun comparer comme type adversaire vient redflag soudain changement']\n",
            "62) ['im fatigué viefianc brisé il y a plusieurs mois déprimé déprimé jamais voulait voir jamais réellement ressenti comme aimé me visité chaque semaine']\n",
            "63) ['am décompressionnon amis désagréable solitaire famille inquiet penser fait paraître mauvais un vivant avec peur de mourir fuite espérance quelque chose change']\n",
            "64) ['Hey chavalesme presento soy un chaval de madrid espagnol creado esta cuenta pues supongo que para desahogarme algo asi xd se apetecia hacer']\n",
            "65) [\"L'histoire du nouveau plan de Jersey\"]\n",
            "66) ['La faute financière porte ma famille pauvre célèbre Noël année faute prêts étudiants déplacer les dépenses médicales factures im essentiellement une grande machine']\n",
            "67) ['permet de se sentir regrettable myselfi toujours fucking fort autour des gens agir comme des choses stuping matter shit comme tout tout tout tout tout tout tout tout tout tout tout tout']\n",
            "68) ['Il y a des semaines de karma']\n",
            "69) [\"ami spiral aide atteindre herhi ive assez un peu passé comptes ce qui est évidemment jeté aussi jamais suivre conseil moi-même les gens parlent m'a\"]\n",
            "70) ['Maman a essayé de tuer agagini malade tout wanna die hait tout le monde me hait']\n",
            "71) ['enseignants vêtements salle de classe les plus grandes douces jamais fait plaisir essayer de apporter la joie enseignants vêtements apporter la joie salle de classe']\n",
            "72) [\"pls souhaitent de la chance l'examen de l'anglais de demain besoin d'obtenir cependant suck l'anglais oui étudié\"]\n",
            "73) ['ive légitimement envisager récemment encore vivre à la maison super déprimé voiture travail école motivation obtenir les choses haï tout moi-même papa émotion']\n",
            "74) [\"spectacle de télévision regardé s enfant captivé il a passé beaucoup d'années souvent pensé show bon serait regarder à nouveau des choses sensibles passé toujours bon se sou\"]\n",
            "75) [\"gots question à quelqu'un d'autre naturellement remplacer l'amour sentir quelqu'un déteste me briser\"]\n",
            "76) ['suicidaire dont veut exister sometimesi cant un se sent comment parfois désirer commencer une nouvelle vie un sait frais canvas voir la famille voir adéquat mais sans photo']\n",
            "77) [\"Beaucoup d'amis qui vivent des miles loin de moi assez de voir les amis tous aussi meilleur ami transfert une autre école probablement voir comme deux fois par an aussi introvert\"]\n",
            "78) [\"vouloir commencer une bonne conversation crush besoin de conseils interagir crush général vouloir continuer la conversation va vouloir agréable nous merci à l'avance\"]\n",
            "79) [\"sentiment comme lateim a quitté l'école secondaire fait quoi que ce soit puisqu'il n'a jamais eu de travail nulle part jamais intentions aller à l'\"]\n",
            "80) ['Quelle est la façon la plus simple de vous rendre heureux titre im curious']\n",
            "81) ['le plus haut pvoted text post rteenagers k pvotes dude fuck jamais voir text post k pvotes']\n",
            "82) [\"_les acteurs_ absurde histoire jeanpierre marielle désespérément attendant coupe d'eau chaude histoire conspiration acteurs histoire vieillissant ac\"]\n",
            "83) [\"Les toxines sans douleur redflagi doivent savoir rapidement s'il vous plaît savoir\"]\n",
            "84) [\"Aujourd'hui mathématiques leçon sans enseignant école étudiante a eu youknowwhat fermé jour scolaire donc mathématiques leçon via skype aujourd'\"]\n",
            "85) ['savoir appeler fcking upso juste avertissement probablement terrible humain combattant relation sexuelle il y a quelques années essayer venir termes certains certainement réfléchir']\n",
            "86) [\"En fait, l'accès à l'argent croit pouvoir payer le moins doit honnêtement ne sait même pas obtenir le nombre de dettes doit craindre même commencer plusieurs\"]\n",
            "87) [\"La solitude a besoin d'un ami\"]\n",
            "88) ['pensées viehello tout dimanche dernier essayé de me tuer essayé couper le bras difficile échoué survivre après honte ou bien même essayer sucks beaucoup d']\n",
            "89) [\"wanna kill badi se sentir inutile tout le monde m'a abandonné tout le monde tente de rencontrer ne tente pas de me détester tout le monde me\"]\n",
            "90) [\"proposer quiconque veut se marier rencontres rien ne va aventures enfants s'installer cuz\"]\n",
            "91) ['latinos latinas ici les gens wjo parlent espagnol oui parlent espagnol']\n",
            "92) ['ressenti comme im gonna die man allergies suck nose plugged les deux nostrils barley respiration la gorge douleur respiration la bouche im essentiellement gas']\n",
            "93) ['choses ive appris la première relation et prendre en compte uh hi tout le monde ive réellement penser maintenant im sentiment comme partager garçons signifie aider à obtenir cette personne serait probab']\n",
            "94) [\"im actuellement années vieux penser toujours heureux actuellement années vieux savoir plus la vie savoir plus vivre dans le groupe très grands amis nous autour de la chose est beaucoup d'amis\"]\n",
            "95) ['fait subreddit appelé rpenciltricks subreddit montrant des trucs cool pénis ampxb tats ampxb lien lazy personnes rpenciltr']\n",
            "96) ['attendu attendu film sortant les trailers semblaient des années valable il im grand fan regarder des films cant wait come buy big fan jim convient parfaitement beaucoup voir']\n",
            "97) ['la technique utilisée de torture des personnes de la vie passée serait trop durable le réveil de nuit de sommeil quotidien seul suffisamment pour faire mourir']\n",
            "98) ['dans le monde oldschool kung fu films vengeance photos arrivé dime douze a pris beaucoup de film stand même faire fan préféré années probablement chang chehs meilleur film continue de']\n",
            "99) [\"Depuis ive herefinals arrivent brisés papa voiture aujourd'hui rien de grand besoin d'obtenir un nouveau front lumière cuz déchiré il est vraiment\"]\n",
            "100) [\"vu le film l'année de l'association nationale des journalistes noirs convention milwaukee wi première public screening film grand derek luke merveilleux ant\"]\n",
            "101) [\"idkmy mum a dit etc pacifié tué want die im scared don't know id im scared mort aurait aimé don't know don't want parents get\"]\n",
            "102) ['Les gens se sentent étranges des années plus jeunes auront permis des mois oh freaking bonté savoir les gens se sentent les enfants en arrière im commencer voir vraiment se']\n",
            "103) ['shootin shit mieux agir comme vous avez entendu drivin xannies pourrait frapper curb tee hee']\n",
            "104) ['chance guys intéressés à écouter alternative rock album band lance le premier album im keen espérons trouver des gens comme ça']\n",
            "105) ['amis vu san diego noir film festival grand tempête forte noire femme nana rappelle grand-mère br br rene fine voir prendre des vêtements certainement valable prix admission']\n",
            "106) ['discord serveur kinda chill principalement meme shitposting serveur lemme savoir vouloir']\n",
            "107) [\"tendons garde hanginga il y a des années a perdu quelqu'un important me conséquence finalement perdu des choses près de moi amis identité penser jamais séparés pens\"]\n",
            "108) ['Le jour des chèvres']\n",
            "109) ['retrouvé bébé toucan ressemble à ampxb httpspreviewredditrnqvxzlatjpgwidthampformatpjpgampautowebp']\n",
            "110) [\"Mme Mme, c'est ça que j'ai peur\"]\n",
            "111) ['Bonne personne veut être blessé va dire amie parler plus']\n",
            "112) [\"Quel bon moyen de gagner de l'argent l'école secondaire dit travail à temps partiel type travail à temps partiel pense bon\"]\n",
            "113) ['mode de mort lexaprois possible de mourir lexapro surdose shou mal prise combination xanax alcool merci']\n",
            "114) ['La fille serait lesbienne']\n",
            "115) [\"live thisshe a dit aimer chaque jour année me brisez contacté mois plus tard disant vouloir revenir a rebound relation a pris des mois l'emp\"]\n",
            "116) ['plan plan plan plan plan plan plan plan plan plan plan plan plan plan plan plan plan plan plan plan plan plan plan plan plan plan plan plan plan plan plan plan plan plan plan plan plan plan plan']\n",
            "117) ['Famille comédie meilleurs senses terme sans complication foi famille ann blyth aide tout le monde favori grand-père edmund gwenn obtient divine aide']\n",
            "118) ['Conversation débutant un obtient violé bloc de fromage']\n",
            "119) [\"Quel bon moyen de gagner de l'argent l'école secondaire dit travail à temps partiel type travail à temps partiel pense bon\"]\n",
            "120) [\"J'ai vraiment envie de voir que les futurs enfants nous déchirent\"]\n",
            "121) [\"j'ai toujours eu une personne qui se souvient de la fin de semaine de fumava et etc. j'ai toujours eu une personne qui se souvient de la fin de semaine de\"]\n",
            "122) [\"hang n'importe qui a besoin de parler savoir le mois semaine même aujourd'hui peut se sentir impossible arent essayer d'obtenir cela peut être douloureux peut\"]\n",
            "123) ['im tempted dire papa buy gun kill mei cant vraiment dire beaucoup au-delà penser vivre stressant maintenant âgé insurgence bull payer poche idiot ass did']\n",
            "124) ['se sentir isolé amis cant voir beaucoup im travail tour collèges cant parler beaucoup parler non répondre']\n",
            "125) ['wheres post Harry Potter citations remplacées wands pénis ive regardé partout cant trouver souvenir économiser vérifié sauvé sauvé un']\n",
            "126) ['opportunité regarder le film slavic villagebroadway zone attendez voir final copybr br regarder le film cleveland premier dernier fridayi rire lourd coméd']\n",
            "127) ['girlfriend découvert page essai frère écrit il y a des années va des détails utilisé vraiment déprimé années effets familys vie soi-même blessé tenté suic']\n",
            "128) ['cerveau fou adolescent fenêtres solitaire fenêtres strip poker win windowschan montré tits']\n",
            "129) [\"travail courage c'est la suite de la vie c'est c'est c'est c'est c'est c'est c'est c'est c'est c\"]\n",
            "130) [\"se sentir grand yr vieux papa meurt maman récemment handicapé violé il y a deux ans brisé cervix c'est suffisant des preuves malgr\"]\n",
            "131) ['penser tué im attendre une trois choses se passe quelque chose fait soin de la vie à nouveau alcool ferme les organes se sent assez brave acheter gunas titre']\n",
            "132) ['Wonderland spoilers br br july st cinq personnes ron launius josh lucas susan launius christina applegate billy deverell tim blake']\n",
            "133) ['gens heartlessa il y a longtemps posté question reddit poser des questions les gens mais principalement les femmes cas semble désagréable avoir des réponses haïssantes']\n",
            "134) ['cinéma cinéma cinéma cinéma cinéma cinéma cinéma cinéma cinéma cinéma cinéma cinéma cinéma cinéma cinéma cinéma cinéma cinéma cinéma cin']\n",
            "135) ['Tout le monde sait comment outim déprimé anxieux sait parents narcissistes manquent de puissance changement tout continuer à envisager de finir le im éc']\n",
            "136) ['rapport quarantiné due à des attaques de panique dépression des années passées point réel quarantine normal me fait honnête presque heureux voir repos monde pani']\n",
            "137) ['sure leave noteso im combatling place leave note évidente famille die find read it especially includes instructions funeral i want to waste money it shit like that need find soon can want to']\n",
            "138) ['déteste les gens commencent à se plaindre de quoi que ce soit leur plus grand problème légère constipation décide de porter tomorrowfck eux']\n",
            "139) ['Le désir de mourir pourrait mourir sous rn']\n",
            "140) [\"gonna kms a besoin d'aidergot bâti le toit de chambre à coucher a besoin de rope long assez fort pour obtenir une option d'achat en ligne\"]\n",
            "141) [\"fait la décision tuer August criant beaucoup de temps triste ressent comme l'option ressent triste famille trop haine le monde baille les yeux\"]\n",
            "142) [\"commencer l'école deux heures de fuite rn obtenir la salle propre aller attendre obtenir l'enseignant déteste toujours vouloir poulet nuggies\"]\n",
            "143) ['Pratiquement célèbre citation montre forteresse mal montre ruine ultramarine probablement']\n",
            "144) ['Tout tente de se sentir mieux échoue beaucoup de merde continue de me tourner malade devient un sentiment je veux cesser de mourir je veux fucking mourir']\n",
            "145) ['honnête opinion chanson une fois chanson httpsopenspotifycomtracklusdtcgsrhhpiaeiwlsigetfdqfqmbckxgilc']\n",
            "146) [\"Les pays communistes les plus réussis grâce à la lecture jusqu'à la fin des flaps\"]\n",
            "147) [\"Il faut que quelqu'un parle et qu'il faut que quelqu'un parle et qu'il faut que quelqu'un parle depuis personne\"]\n",
            "148) ['Painhello lycée senior ici savoir phase dépression se sent bien pire maintenant plus pensées suicidaires chaque jour se sent même inutile comme échec point douleur']\n",
            "149) ['Les gens qui aiment le golf vous aiment le golf bruh']\n",
            "150) [\"usmy ami veut mourir cant aide elle veut mourir ne me parle pas ami essaye d'équilibrer nous faisons deux nous sentons sans valeur nous voulons\"]\n",
            "151) [\"heureux Thanksgivingjust voulait espérer dire espérer trouver quelque chose qui rappelle certains penser vacances pourrait si jeunesse comme pourrait un autre étranger pourrait quelqu'un\"]\n",
            "152) [\"le jour de l'envoi obtient le jour de l'envoi de l'envoi de l'envoi de l'envoi de l'envoi de l\"]\n",
            "153) ['flashback temps earbuds décédé juste hit jouer de la musique caramelldansen a commencé à exploser son speaker']\n",
            "154) [\"Maman médecin a dit semaines enceinte aujourd'hui souhaitons bonheur\"]\n",
            "155) ['Le monoxyde de carbone meilleur option sans douleur plan brûler le charbon wqrm io place rend désagréable sommeil tout']\n",
            "156) ['ex amie brisée il y a deux jours relations de choses travailler plus commence à devenir peu toxique endommageant la santé mentale suicide longue distance vie']\n",
            "157) ['don nword pass hi guys could kindly don nword pass would really appreciate it always wanted to say nword would liberating finally able to say repressing long btw im hispan']\n",
            "158) [\"Donner le nom de reddit quelqu'un envoyer des photos des brebis dont l'utilisation u ping voir\"]\n",
            "159) [\"whys hardlast night got drunk a écrit redflag note laid journaux remplis chaque suicide dépressive pensée l'année dernière a essayé de me\"]\n",
            "160) ['Tout le monde gangsta till daddy problèmes commence talkin temps supposé vibre']\n",
            "161) ['dis kill myselfi cant trouve raison vivre peut-être yall peut']\n",
            "162) ['Pee stocké balls shit stocké ass checks fait cant deny sit fuck']\n",
            "163) [\"véritablement de l'humeur une raison la vie considérablement pire tout le monde n'est pas gentil fucked updoes tout le monde sait acquérir\"]\n",
            "164) ['heeey étiqueté donnée enfant problème mental gang vome partager histoire soo falls comme grades sports quoi que ce soit']\n",
            "165) ['aid pleaseim sure this im means part community though suppose wish anyone kinda wanna talk hope no friends family find this mother middle horrible divorce stepdad he life since years old biolog']\n",
            "166) [\"suggestions de musique s'il vous plaît aimer abt toutes les préférences se sentir gratuit des albums des artistes chansons\"]\n",
            "167) ['im mad contexte xbox ordinateur utilisant moniteur haut-parleur jack contrôleur plugged headset plugged play keyboard mouse minecraft im jouer minec']\n",
            "168) ['tumblr shitposts meilleurs shitposts sous besoin tumblrlike shitposts sous les gens comme pukicho gaud préférés ont besoin de meilleurs shitposts']\n",
            "169) [\"se sentir traînépour la dernière décennie j'ai ressenti rien honteuse colère tristesse solitude point ressenti comme quelque chose toujours fait heureux redf\"]\n",
            "170) ['vie minive penser semaine type vérité apparent long temps parents ont fait croire possession encore prisonnier maison im commencer accepter cela maintient la réalité folle']\n",
            "171) ['connaître bien émotionnellement fucking venting ranting ur professeur ur réflexion hebdomadaire essai véritable histoire deuxième semaine']\n",
            "172) ['haïs trop rêves stabbing poitrine finalement est allé maman essentiellement voulait me voir comme stroppy adolescent fait dire aller sur hed faire la mort']\n",
            "173) ['femmes détestent mewhy me déteste jamais me dire jamais me reconnaître la présence peut tirer devant la foule un serait préoccupé écouter les gens']\n",
            "174) ['Un ordinateur de musique à faible volume']\n",
            "175) ['Déclencheur Reddit ok pls montre la miséricorde']\n",
            "176) ['plus proche pour obtenir la position de la ligne de vie chat plus lent le nombre va en dessous devient étouffé se produit chaque fois que les minutes de téléphone plus grave do']\n",
            "177) [\"bruh im jouer vendredi soir funkin classe moyenne en ligne im se sentir assez bon yea thats post rien d'autre\"]\n",
            "178) [\"sœur a essayé des antidepresseurs la seconde fois de l'espace moisqu'est-ce qu'on pleure aide quelque chose d'autre ne parle\"]\n",
            "179) ['Reddit triangles plus cool']\n",
            "180) [\"gf broke dont savoir se sentir bien aujourd'hui gf broke date ans honnêtement dit veut se rompre didnt savoir sentir dont savoir se sentir triste émotions\"]\n",
            "181) ['Im considérant redflag im faibles points conduisant le temps de pensée folle']\n",
            "182) ['Dad shady shit partialy entendu téléphone appel heres choses entendu dont act dumb youll get fingers scanned argentin slang espending time locked up stupid jamais']\n",
            "183) [\"L'œil révèle son cool utod_ veut l'œil révèle\"]\n",
            "184) ['welp im supprimer reddit compte im supprimer reddit compte reddit utilisateurs virgins im plus bonjour']\n",
            "185) ['On sent que les choses se détériorent récemment']\n",
            "186) ['Le temps de nuit tout le monde aime regarder le ciel la nuit']\n",
            "187) [\"nièce maison im officiellement uncle maintenant soeur mari nouveau-né bébé retourné à la maison hôpital aujourd'hui les mots ne peuvent décrire excité il aid\"]\n",
            "188) [\"soins les gens disent plus une solution permanente problème temporaire n'importe quel point montre téléviseur comme il s'ouvre le lieu de regarder le problème d'\"]\n",
            "189) ['Im blocking whoever posts love stuff demain valentines jour bleh']\n",
            "190) ['tout garçon garçon bus stand reçoit texte garçon garçon garçon garçon garçon garçon garçon garçon garçon garçon garçon garçon garçon garçon']\n",
            "191) [\"im ending tonightim laissant beaucoup d'amis pets amie derrière dont le soin a dit les parents appelé égoïste im it\"]\n",
            "192) ['Les gens qui aiment vraiment ce personnage gay ajoute rien plot dude personnage straight ajoute plot lmao']\n",
            "193) ['Répondre tout mal demande v question sérieux text text text text text text text text text text']\n",
            "194) [\"Une autre année de merde vient juste pourquoi faire de merde même s'inquiéter de rester en vie finit enfin tout fait beaucoup de gens compétents remplacent l'\"]\n",
            "195) [\"besoin d'aide virgints theres fille classe comme im sure fait presque toujours rire blagues ressent comme peut-être comme de retour aussi boyfriend pourrait voir l'\"]\n",
            "196) ['knee chirurgie demain histoire dit-il tellement terrible narrateur aussi tldr top grapefruit cerveau tombe skateboard cripple backstory']\n",
            "197) [\"master kieslowsky est venu l'idée du portrait de la relation humaine monde aujourd'hui passant bleu un artiste visuel femmes vie blanche un film de\"]\n",
            "198) [\"European film nice throwback time student s expériences vivant à l'étranger interagissant nationalités bien que les circonstances légèrement différentes klapisch le directeur\"]\n",
            "199) ['God feel numb idk feel numb sad really happy either ever since crap happened girl like feel nothing wish able to feel something idk im feeling way fuck hormones screwing bruh']\n",
            "200) [\"Bonjour, tout le monde voulait adresser quelque chose peut avoir besoin d'entendre juste quelque temps futur voulait parler récemment entendre des histoires quelqu'un\"]\n",
            "201) [\"désirer plus tard après-midi im encore complètement suremy ami tenté redflag im constamment crainte quelqu'un d'autre sait aller son extrêm\"]\n",
            "202) ['comme sûrement mauvais comme sûrement mauvais enlever adolescents téléphone déprimé enlever de bons degrés terminer le travail droit la raison de parler amis terminer le travail']\n",
            "203) [\"Sentez un vide imbattable à l'intérieur de maim eidolon netherworld déjà rien ne me remplit dans l'ombre de l'ancien soi\"]\n",
            "204) [\"merci je l'ai posté il y a quelques jours stressant emploi femme ans disant amour plus encore ne fait pas du travail encore enfer im ok même un peu im plus en\"]\n",
            "205) ['adieu espoir fin mieux meim hanging hat im done apprécier aide ive gotten rdepression assez ebough prendre soin de vous-même espoir trouver']\n",
            "206) ['voter public exécution gender switchers déjà chance nous aussi les hommes comme les femmes comme les femmes mauvais désagrément']\n",
            "207) ['cant think titlemale job go school social life making one day time know see therapist dont know need something change cant also want to know the easiest way out know tell me know']\n",
            "208) ['alright im tout simplement curieux partie du corps pas de trous trous trouver attractif ampxb je dois spécifier la cause yall horny hell']\n",
            "209) ['savoir doi failurei cant école travail fardeau familyi veut vivre plus puisque savoir la quantité nothingi antidepressifs aide la sorcière beaucoup de']\n",
            "210) ['comprendre les filles post made midnight cant go sleep cant stop thinking this yo guy likes age girl one day conversation text says i like relationship guy friend worry feelings shit know say answer cool month']\n",
            "211) ['avis médias sociaux suck dick merci coming ted talk']\n",
            "212) ['N’importe qui sait se débarrasser des pensées négatives ne peut se débarrasser de celles qui deviennent insupportables veut savoir profiter des choses comme']\n",
            "213) ['un identifie succubus curieux meow meow nyah a rempli le mot limit meow meow nyah']\n",
            "214) ['reddit a été interdit raskreddit donc heres prochaine meilleure chose bébé']\n",
            "215) ['hanger threadhi im vraiment sûr bon endroit demander aller long post avant avancé regret shitty formatting im actuellement fille nous havent ensemble long heureux temps vie loin im']\n",
            "216) ['film un meilleur américain bmovies s regarder sérieux film regarder ailleurs mais regarder action beaucoup rires langue check variation policiers combattant gangsters bien val']\n",
            "217) [\"bruh grand cerveau yall connaît l'université d'Oxford âgée aztec empire par années\"]\n",
            "218) ['ami maintient texting ami maintient texting dont savoir pourquoi essayé distancing mix mental santé shit messing cerveau essayer de se déplacer un peu vrai problème']\n",
            "219) [\"seul anniversaire supposé vie dépenser des jours de naissance des vacances soloi a obtenu des cartes cadeaux parties les gens passent l'anniversaire avec voir\"]\n",
            "220) ['La fille serait lesbienne']\n",
            "221) [\"J'aimerais que j'aimerais que j'aimerais être plus triste\"]\n",
            "222) ['voix faisant suicidali harcelé école secondaire chaque jour problème cant fix voix sons comme bloqué nez discuter assez arrêté parler fait déprimé graisse']\n",
            "223) [\"particulièrement apprécier les histoires similaires expériences telles que l'espoir de tout le monde bon jour tldr finit redflag due à\"]\n",
            "224) ['OMG États-Unis font bald eagle national dinosaur bald eagle le plus froid dinosaur en tout cas']\n",
            "225) [\"mal début relatifs à la première rencontre princes de la musique bar la fille d'anniversaire danse bare mammifères joueurs a demandé les gens chanteur\"]\n",
            "226) ['sub die temps gênant parfois les gens familiers américains peut-être ce qui ne les voit pas']\n",
            "227) [\"amis ont eu lieu hier en ce qui concerne les amis ont eu lieu hier en ce qui concerne le centre de vaccination d'injection de l'ami a commencé à\"]\n",
            "228) ['les armes vues comme les gens pensent généralement interdite moins restreint']\n",
            "229) ['im fatid world find meaning lose it find something enjoy goes away say ok im comfortable find something destroys it try communicate gets muddy again world ive experiencing since im still feel']\n",
            "230) ['lady tramp ii scamps aventure penser bon film penser première lady tramp film mieux original penser des films originaux comparés séquelles mieux lady tramp ii prend']\n",
            "231) [\"drowningim essayer de crier dur commence connaître les heures stop biting à l'intérieur des checks dur peut espérer la douleur choc pensées\"]\n",
            "232) ['aller brûler vivant douleur ive heardi dont désir fucking corps dont désir fucking transition féminin désir naissance féminin wasnt dont désir fu']\n",
            "233) ['unsten a dit résoudre le problème penser utilisé pour créer le problème ocd hell comment outwhat do please talk mei nice family loves much know deserve émo']\n",
            "234) [\"sum pls tell go study need make good grade rn pass don't want parents dropkick cliff making\"]\n",
            "235) ['Questions importantes pls réponses anyones anniversaire 1er juin exactement']\n",
            "236) ['Hold now wait minute come on let catch breath ive heard promesses ive seen errors ive fair share hard break need new voice new law new way take time revalue time']\n",
            "237) ['Je sais pourquoi je suis toujours vraiment triste je sais vraiment je me sens triste heureux amies de soutien enfin ouvertement gay je me améliore raison je me sens vraiment triste je veux']\n",
            "238) ['échec lycée veut tuer soi-même honneur étudiant depuis grade im actuellement grade ive écoles déplacés temps jamais rester maison années bientôt passe famille mouvements']\n",
            "239) [\"Essayer de trouver des raisons de chercher des façons de finir c'est la famille des amis a commencé à soulager le stress boire essayer de socialiser\"]\n",
            "240) [\"non plan vivre voir je sens comme le fardeau drain tout le monde autour de moi im shit école de l'avenir un m'occupe ce qu'il va voir\"]\n",
            "241) ['Im assez fatigué yalls hobbies a commencé à jouer le quitar']\n",
            "242) ['penser jeter devant trainim fuite pathétique perdant']\n",
            "243) ['Le temps dit bonjour le soir parfait fin tout le monde voulait dire merci les gens ont donné des conseils de motivation des années sans faire loin la paix']\n",
            "244) [\"Im même horny veut vraiment l'irréprochable haine de la bouche comme bfs occupé\"]\n",
            "245) ['temps crush prochaine classe élémentaire joli bord aide salué hello sourire finit tomate rouge']\n",
            "246) [\"Dumb storyjust typing form therapy guess tried kill lighting house fire don't remember anything told fifteen days induced coma months burn unit half body burned arson\"]\n",
            "247) ['Deux théories viennent affirmant que les femmes ne travaillent pas']\n",
            "248) ['im aller quelque chose de amusant amusant im aller essayer de commencer à jouer air doux papa me laisse raison voulez des amis jouer au sport quelque chose de jouer']\n",
            "249) [\"libre une scène un autre une histoire un autre comme marche sombre chemin ouvert comme l'arbre des feuilles du vent un autre beaucoup de sons différents comme les voyageurs rencontrent\"]\n",
            "250) ['im va tuer assez sooni vraiment hait vivant im horrible personne terriblement insecure complètement inutile probable trouble amis voir beaucoup de valeur vivant ach']\n",
            "251) ['ventrantpositvity rend malade colère haine voir cela en particulier en ligne se sent forcé chaque fois que la haine les gens observe lurk dont soin lire']\n",
            "252) [\"l'ère moderne un aime la pièce de theres laissé hermiti annoie tout le monde peut-être d'abord peut-être alors que vieux amis nouveaux\"]\n",
            "253) ['penser tuer soi-même tous les jours ne veux pas utiliser arme bc idée obtenir un plus savoir ne peut pas aller la plupart crainte ne peut pas tirer correctement fin']\n",
            "254) ['recevoir notification scrolling pensée texte rapide téléphone disant left im lonly']\n",
            "255) ['im déjà deadi pointé arme tête hier sat étoilé barrel un tir chambre a senti rien peur de mourir veut libérer la mort héroïne savoir obtenir héro']\n",
            "256) ['Je suis fatigué de dire quelque chose de drôle rire']\n",
            "257) [\"bien toute la vie aller shit se sentir outcast deux meilleurs amis j'ai connu des années maintenant avoir une seule aspiration pas de crush rêves objectifs légèrement moyen chaque\"]\n",
            "258) ['Hope money worth it really do reputation wellat stage id déçu apprendre en considérant beaucoup clairement ruine enfants vie au-delà des années parents en fait shit fucking']\n",
            "259) ['besoin bonked im étrange pensées caractère ive déjà parlé temps besoin bonked umegathiccc chose']\n",
            "260) ['autre serait dire ne pas se sentir confiant utilisé pour im regarder en arrière cringe choses dit comme quoi que la pensée de douche fait réalise en arrière puis']\n",
            "261) [\"Lauren Himmels film de débuts bien dirigé agréable polished ressenti que c'est theres fort histoire aller sensible point même fin rien résolu donc le nom tra\"]\n",
            "262) ['lpt heres plus courte façon les filles coeur chidori raikiri weebs']\n",
            "263) ['regardé ami dit peut essayer le père a demandé wed watch il veut vieux film peut bien enfin regarder ami papa ami aimait le film chansons grands acteurs cool']\n",
            "264) ['ive tiktok et savoir im gonna être voté tout comme il ive défini goûts vraiment drôle les gens kinda se sent comme le vin maintenant sauf si vous']\n",
            "265) [\"moi quelqu'un souhaite la chance quoi que ce soit en principe aujourd'hui bouger un autre pays à nouveau comme la troisième fois bouger des pays im littéralement jet\"]\n",
            "266) ['fait subreddit appelé rpenciltricks subreddit montrant des trucs cool pénis ampxb tats ampxb lien lazy personnes rpenciltr']\n",
            "267) ['tight l certainement suicide homicide vie a disparu s sentir tout le système soutient trahi tout le monde aide à revenir la raison']\n",
            "268) [\"dont know doive suicidal long ive jamais capable raison une chose de garder peur c'est passé tout autre vie va mal im far home way back fucking lundi cant deal rien point th\"]\n",
            "269) ['Cant trust peopleand going lead death wife talking guy facebook merci supportive supporting what brings me husband support through ex wife started cheating me hell trust people literally want track kill him']\n",
            "270) [\"Je suis enceinte et je vais faire l'idée de freakin\"]\n",
            "271) ['bizarre parfois im suicidaux enfer parfois penser allon jours réel suicidaux point établi balcon prêt à sauter les mains pleines pilules prêts à']\n",
            "272) ['une chose im goneits fil ouvert bouteilles lysol juste à côté de la salle de bains im prêts heures agonizing douleur culminate blasphème']\n",
            "273) ['certainement se sentir comme optionto copy paste pensées raw gti se sentir im absolument va pouvoir aller nulle part la vie juste même si im huit-huit vrais droits']\n",
            "274) ['bruh en fait needa faire alt alt besoin cesser de créer la controverse jdjdjdjdjdjd']\n",
            "275) ['préféré horreur film close nd poltergeist voir une nuit nocturne coups de soleil une nuit nocturne coups de soleil une nuit nocturne']\n",
            "276) ['Voir chat HTTPSimgurcomaykseunq jolie']\n",
            "277) [\"skydivingits anniversaire jeudi fait en vie un morceau peut paraître à l'intérieur slalom anxiété tristesse essayant de prendre sur l'espo\"]\n",
            "278) [\"Hey think crush best friend im girl shes girl ive amis trois ans vraiment nice vraiment gentil type doux compliment bleu doux non parler souvent l'anxiété sociale\"]\n",
            "279) [\"ami a décidé hell commettre redflag l'anniversaire suivant j'ai vraiment besoin d'aide ive essayer de l'année maintenant chaque fois que je dis\"]\n",
            "280) ['rompre proche rompre amour suffisamment passions respectées rêves épuisés obtenir lit manquant collège manquant être vouloir aller médecin vouloir']\n",
            "281) [\"famille croit mei a utilisé la blague tuer comment faire face à des amis famille im straight dire dont croire plus essayer de demander de l'aide cant quelque chose im min\"]\n",
            "282) ['étrange rapide ajouter les gens hasard snap got fatigué a été rapide ajouter comme les gens hasard dont savoir commencer penser réalisé peut venir en face vraiment étrange']\n",
            "283) [\"serait schizophrénie aveugle entendre les voix en tête les parler im incapable de trouver une réponse n'importe où il faut savoir\"]\n",
            "284) ['sens comme échec ma mère me crains me dit ne sait pas agir ma mère perdre vous ne devriez pas mourir amis collègues va haïer le travail']\n",
            "285) [\"Je voudrais que les filles s'éteignent et qu'ils s'éteignent\"]\n",
            "286) ['odd yesterdayyea presque suffisamment tuer go hôpital im back home awkward famille a pris toutes les aiguilles manquées stashed ceux a pris pens']\n",
            "287) [\"besoin de motivation de pensées suicidaires probablement des années récentes j'ai senti fatigué la vie triste nulle part la semaine dernière presque commencé à couper\"]\n",
            "288) [\"Il s'est passé uh marcher parents sexe im broken homme bonne chose lumières oh god cleanse soul\"]\n",
            "289) ['Valentines jour bon gf long distance relation miles exact nerveux Valentines jour tournes a été brillant resté vraiment tard soir matin Valentines jour vraiment doux réveillé t']\n",
            "290) ['film gets guts tension son fatherbr br le brillant dialogue adorable scénario grand acting serve excellent mode présent onion maintient peeling back layersbr br les']\n",
            "291) ['savoir plus il a utilisé appeler survivant savoir un savoir les temps de fonctionnement mei vraiment savoir beaucoup mais il suffirait de temps de savoir cheat mort long recevra']\n",
            "292) ['voir les classes peut être extrêmement étrange vouloir aller la salle de conseil couper la porte leur session im probablement va nerveusement rire marcher dans les enseign']\n",
            "293) ['parents comment les normes élevées surbeur conseil traiter les parents toujours surbeur hypocrites parents traiter comme prodigy vient quelque chose académique']\n",
            "294) ['creep sérieux horreur film fixé en temps réel ne veut rien montrer les gens reçoivent attaqué vide métro plateforme mutant minutes que rien de plus rien']\n",
            "295) ['wow bras obtenus musculaire récemment flex bras défini inch forme dente côté près du corps voir muscle hausse inch']\n",
            "296) ['amie redflag descion amie mine mademy meilleurs amis amies planifient sucide second choisi au lieu de besoin de conseils rapidement obtiennent bien que les amis']\n",
            "297) [\"La première fois que j'ai vu le poster étonné la tranquillité de la beauté de la ville d'Istanbul hunting mind jamais sincebr br pas beaucoup de\"]\n",
            "298) ['Vous avez déjà décidé la quantité de douleur que vous allez mais décidez de finir la plus grande douleur que vous avez duré la perte de bonheur']\n",
            "299) ['dont know anymoreim broke réellement point de dette détention lies im fucked réellement comme im sérieusement fucked dont know fuck im going do next paycheque gonna']\n",
            "300) [\"réellement problème post herepeople ok utilisez une personne pire ils ont envoyé pm quelqu'un a répondu dimanche heres conversation finit gt me probablement st\"]\n",
            "301) ['Tout le monde se sent faux, rien ne se sent correct']\n",
            "302) [\"im tuer la semaine prochaine veut que quelqu'un maintient la compagnie gocan n'importe qui petit ami tandis que ive jamais ami im fatigué\"]\n",
            "303) ['Nouveaux années il y a quelques mois il y a quelques mois il y a quelques mois il y a quelques mois il y a quelques mois il y a quelques mois il y a quelques mois']\n",
            "304) ['Jackie Chan considère beaucoup de films arts martiaux fans une grande action stars jamais grâce argent écran policier histoire cimentée réputation probable successeur tard grand bruce lee']\n",
            "305) ['pensées commencent arriver backhey reddit regrette texte récemment il y a des semaines donc pensé redflag devient beaucoup plus fort ive jamais ressenti avant']\n",
            "306) ['ive donnée espérance humanité poured soul post hard write got downvotedi posted night httpswwwredditcomrredflagwatchcommentsdlsdyou_win']\n",
            "307) ['wtf bébés manger cousin âgés élevé médecine ballons wtf lait une fois comme des mois tombe lit haut tombe lit n fra']\n",
            "308) [\"S'asseoir brisé cœur tenté shit farted\"]\n",
            "309) [\"dire les gens suicidaires parler au lieu de dire à tous les autres liste chaque texte essayant d'empêcher le redflag dit la victime des problèmes de conversation en fait\"]\n",
            "310) ['vouloir y avoir plus de voyages aller des vues scénariales utilisées aide bit vouloir se réveiller demain toutes les raisons de chat encore viv']\n",
            "311) [\"j'aimerais vraiment pouvoir disperser tenté redflag fois hier mangé jour peu d'heures de sommeil nuit dernière maux de soi pleurer jour\"]\n",
            "312) ['garçons jacked classe moyenne tourner la caméra et sans tout lié pornographie bloqué les ordinateurs portables scolaires et im asexual bdsm kinki']\n",
            "313) ['j j j j j j j j j j j j j j j j j j j j j j j j j j j j j j j j j j j j j j j']\n",
            "314) [\"pls prendre une enquête pour le projet de classe merci à l'enquête basée sur les systèmes d'enseignement américain la plupart d'entre eux se\"]\n",
            "315) [\"enseignant l'anglais enseignant super stuck grades étrange doced grade participation anglais savoir ce qui signifie avoir de la chance enseignant merci dieu\"]\n",
            "316) [\"J'ai blessé quelqu'un\"]\n",
            "317) ['vie honnêtement purgatoire non suicide orphelins curieux ur garçons réponses se sentent comme peut-être fucked vie peut-être im supposé']\n",
            "318) [\"note n'a jamais utilisé reddit idk im juste hier communauté im ganged un enfant écrans ont fait sembler raciste idk ils sont réels voulaient dire\"]\n",
            "319) ['Voidthe void sentiment continue de devenir plus grand chaque jour les pensées deviendront pire pire se sent bien hier désirer fin rn']\n",
            "320) ['jamais spell word fucked google ne sait même pas que vous parlez de prendre figure spell asterisk']\n",
            "321) ['dire devenir mieux aujourd’hui, faire de la merde, ne peut plus pleurer ce soir, dormir serait mieux sans se retirer, ne peut plus charger les bien-aim']\n",
            "322) ['Quiconque veut smash signifie jouer smash bros']\n",
            "323) ['toute la vie souffert jamais amie grandit loin pauvre argent travail peu amis haine beaucoup obtenir triste nuit manger beaucoup jour connaître le problème est sentir malheureux monde ha']\n",
            "324) [\"congrats m'a atteint le premier karma voyage dur j'ai perdu le karma total puisque j'ai rejoint encore fait\"]\n",
            "325) ['date crush date crush date crush date crush date crush']\n",
            "326) ['Les rteenagers interdits alt jours chers mods pensent faire arrêter antisémite']\n",
            "327) [\"Septembre nous a dit avoir divorce Septembre parents a dit frère j'ai divorce mois plus tard rien ne s'est passé parler nous plans divorce rien im sure demandez\"]\n",
            "328) ['whats pointyr vieux garçon ici récemment décidé de prendre semestre collège im commencer réalise sans but la vie est haïs premier semestre merci collège']\n",
            "329) [\"un autre revueur appelé manque de développement de caractère appelle sous-statement film bash une tête surexplication inutile backstory oui beaucoup d'histoires\"]\n",
            "330) [\"L'enfance meilleur ami a quitté amp im redflag regarde essentiellement grandit ensemble depuis que j'ai déménagé ici terrible enfance étape papa\"]\n",
            "331) [\"si mauvais endroit depuis idk beaucoup de temps beaucoup d'argent même travailler plus vraiment besoin d'aide voulait obtenir de l'aide payée séances psychologue priv\"]\n",
            "332) [\"Les avantages d'un ami signifient vraiment penser que quelqu'un d'un ami mange de l'argent\"]\n",
            "333) ['jour crossing rue presque a touché la voiture voir im extrêmement agité obtenir hitthis premier post ici se sentir coupable écrire mental énergie stick autour essayer de']\n",
            "334) ['ce soir sera fini hopim honnêtement fait wanna réveil essayé de pendre la nuit dernière échoué malade essayé ce soir peut-être malade enfin']\n",
            "335) ['je voudrais dieignore dernier post je veux mourir je veux les lois sur les armes stricte']\n",
            "336) [\"dms ouvert permet d'intéressant chat tout ce que j'aime obtenir stickbugged préfère les filles plat poitrine bon entretenir chat\"]\n",
            "337) ['goodbyei dont savoir anymore spill tous les détails de la vie hereso longue histoire courte ne peut plus ive arrêté couper il y a longtemps raison aujourd']\n",
            "338) [\"ive suffisamment alivehi im en utilisant throwaway compte puisque les gens connaissent le compte aussi pardonner spellinggrammar erreurs puisque l'ang\"]\n",
            "339) ['theres gotta vivre ce droit se sent capturé sans fin cycle abandonner soi-même pitié im fatigué il y a des mois réalise vraiment amis sûrs']\n",
            "340) ['Pas de temps idk im vraiment fatigué droit']\n",
            "341) ['parents ont divorcé maintenant a continué à dire des choses terribles encore utilisé visite papa semaine vraiment beaucoup de mémoire il se souvient de dire maman monstre toute maman']\n",
            "342) ['Je me sens heureux et je sais que je vais mourir bientôt plan va se passer im surchauffé tout se passe moment de vie im regret avancée']\n",
            "343) [\"prison cellfour prisonnierscarrerea jeune directeur d'entreprise accusé de fraude année vieux processus transsexuel transformation daisya yearold\"]\n",
            "344) ['amie dépendante pattes faits im pattes dispensaire']\n",
            "345) [\"la fille aimait longtemps gardé la messe étaient ensemble aujourd'hui je vais à la maison bien seul donc pensez le premier baiser aujourd'hui heureux\"]\n",
            "346) ['Il y a deux jours, la révolution se déroule sur WTF.']\n",
            "347) ['un film préféré temps aimé homme de pluie dustin hoffman tom croisière films faisait homme de pluie semblable artificiel faible trivial']\n",
            "348) [\"J'ai trouvé ma petite amie\"]\n",
            "349) ['au cours des deux derniers mois vraiment mauvaise douleur tendresse au-dessus de la gorge arrière parfois obtient rigide peu de mouvement de la tête']\n",
            "350) [\"Im fucking fait tout les gars fucking utilisation hait beaucoup de bien suffisamment personne ne veut jamais causer clairement ceci super fucking cool u veut quelqu'un fu\"]\n",
            "351) [\"Je n'ai jamais vraiment honte personne masturbation orgasme se sent bien\"]\n",
            "352) [\"quelqu'un qui sait compulsivement chatte les dents dit commencé pourrait sentir les dents wobble petit clenched les dents ensemble sentir le doigt nous savons\"]\n",
            "353) [\"Sentez-vous comme il n'y a pas assez de posts post k personnes en ligne portant sous hard man\"]\n",
            "354) ['Sentez-vous comme si vous ressentez une vie malheureuse en ce moment, vous sentez-vous heureux seul']\n",
            "355) ['im sad im vraiment triste coucher bien réellement vide numb point est triste']\n",
            "356) ['école en ligne faisant constamment stressé malheureux deux jours par semaine personne à distance maintient livrer des tonnes de travail dont le temps papa ne laisse pas les week']\n",
            "357) [\"véritablement adult ft faute leursmy maman a demandé chercher un emploi parce que j'ai touché un adulte capable des choses comme dit tout le monde a\"]\n",
            "358) [\"Gonna second anniversaire jours peut célébrer la santé vouloir arrêter tout a été parfait plus heureux jamais la vie beaucoup d'amis très fréquemment\"]\n",
            "359) [\"cant keep goingthis vie hell cant tout même bon plus petites choses piss dont tout autre fait des messages comme les gens message disant qu'ils vérifieront toujours oublier\"]\n",
            "360) ['atteindre la fin de la route ici-bas la vie a fourni point de protection des compétences idée fend moi-même a encore un autre sous-paié shitty']\n",
            "361) [\"mariage upscale New York City couple enfant tombe à l'écart femme veut qu'il a pris beaucoup de courage marche à la porte le voisin nous dit occup\"]\n",
            "362) ['dire devenir mieux aujourd’hui, faire de la merde, ne peut plus pleurer ce soir, dormir serait mieux sans se retirer, ne peut plus charger les bien-aim']\n",
            "363) ['Bill curieux George assez raciste toujours appelé George un bébé de la ville de singes o_o']\n",
            "364) ['donner des idées des choses draw plz donner des choses draw try draw theyre good might post']\n",
            "365) ['problem film rode coattails scrapé concept comic livres pouvait faire camp ie s batman show tv film ainsi combat séquences sous-titres viennent sur inconsciemment']\n",
            "366) [\"Personne ne parle se sentir déadi savoir im post ce n'importe qui vie parler peut-être vouloir quelqu'un reconnaître l'existence peut-être\"]\n",
            "367) ['conseil sneaking nuit yr vieux super fatigué quarantine mac maintient amusé jeux fenêtre je construis pc novembre la semaine prochaine obtenir longboard idée serait']\n",
            "368) ['Le café qui ne veut pas']\n",
            "369) ['xans alcoolwhy hard kill yourself ive tentatives maintenant ans vieux shit ne reçoit jamais de meilleure douleur chronique anxiété plus la dépression semble']\n",
            "370) [\"amies amp familyi souvent lire penser redflag penser semble croiser l'esprit des moments difficiles imaginant facilement douleur un peu donc lire beaucoup commettre\"]\n",
            "371) ['ressenti comme im drowningnot kind gasping air fighting hang kind moment finding bottom lake stuck mud giving up year absolutely terrible ive lost friends work people grasp want everyone']\n",
            "372) ['regarder de nouveaux visages amicaux hey im henry im regarder folk serait prêt à essayer la main relativement petit serveur mod équipe mieux garder tout le monde heureux']\n",
            "373) ['rantlike même gf exhausting overshared parfois réaction agréable prudent beaucoup de pensées affichant maintenir rambling mauvais sentiment mauvais gens semb']\n",
            "374) [\"J'ai toujours senti une bonne fin de semaine pensant peut-être psychotique\"]\n",
            "375) ['im gonna tuer soi-même se sent comme tout le monde hait pousser tout le monde loin rien de bon idk im pleurer temps cant hang anymore im killing']\n",
            "376) ['im confusedso ive lecture postes beaucoup semble assez court im regret faire assez long auteurs comment deviner tout de même laissez commencer à dire ce im nouveau ces erreurs']\n",
            "377) ['rant hauts hauts bas très faible creeping back in unable comprendre accidentel chaotique mental maintenant comment facile un mauvais garçon hait abusateur molesterwhat']\n",
            "378) ['Hello teens im officiellement teen know compte tats an vieux fuck cares']\n",
            "379) ['N’importe qui n’a jamais déprécié suffisamment d’utiliser le papier de toilette des heures auparavant déprécié suffisamment d’']\n",
            "380) ['La dépression incurable incurable']\n",
            "381) [\"l'hiver fait tout pire déprimé année entière sanglante haine saison im vraiment luttant savoir combattre la misère misère devient pire\"]\n",
            "382) [\"le fait que je n'ai jamais frappé donuts dick étonnant comme une raison que Dieu a donné mf coochie collapser fait smh demander top donut\"]\n",
            "383) ['playlist dry af recommande des chansons écouter à mal écouter tout sauf pays thx playlist dry le mois dernier sentir libre donner des recommandations de musique comme']\n",
            "384) ['bép oiseau jeté cucumber slice cant find jouer décidé essayer cucumber jeté im stuck crawling floor find']\n",
            "385) [\"Dormir des heures veut récupérer ne peut s'arrêter de penser abt a été violé tout-petit mauvais parent abusé me bousculé\"]\n",
            "386) [\"fwen désirez vous besties mais devinez que c'est la richesse\"]\n",
            "387) [\"recensement dédié tard keith moon john entwistlebr br l'original drum bassbr br il semble peu d'avance images autour des jours la\"]\n",
            "388) ['vraiment penser vouloir me tuer im énorme échec voir comment pourrait finir raisonnable matière sans gonei dont job live mom manque revenu gros fardeau ménage']\n",
            "389) ['gf contemplant redflag savoir doive fille près de mois la plus douce considéré personne ive jamais rencontré famille mess parents divorcé père inconsidérée']\n",
            "390) [\"Le chien de minecraft ne sait pas qu'il ne revient pas\"]\n",
            "391) ['désir serait parti endive lutté années de dépression a été beaucoup pire au cours des deux dernières années se sentir comme im fardeau sur les amis de la famille se']\n",
            "392) [\"fucile schooleveryone dit l'avenir important quoi que ce soit wanna fucking die don't want future im bored give shit quoi que ce soit\"]\n",
            "393) [\"dont wanna réveille l'hôpital dont wanna réveille tout wanna jump campus semaine jamais ressenti rien jamais à nouveau planifier jump building université campus tuer\"]\n",
            "394) [\"im ennuyeux amie texte fait irrégulier ticking loin moments fait dull jour fritter déchets heures offhand chemin kicking autour d'un morceau\"]\n",
            "395) [\"ne peut rester toujours des problèmes de dépression puisque jeune état mental mauvais amp veut gâcher n'importe qui buts de motivation quelque chose la famille aime beaucoup amp\"]\n",
            "396) [\"j'ai peur de la mort en dehors j'ai eu des jours de panique constants des semaines des mois ont besoin de mourir ont besoin de fuir mourir\"]\n",
            "397) ['lol partie de la vie grand guess perdu contact lens thats right me im désespéré im même en utilisant wiki comment im littéralement aller autour de toute la maison quelque chose']\n",
            "398) [\"im enfin prêt pour des semaines j'ai ressenti comme des choses n'a pas eu lieu rien ne se sent réel mort il y a des années la vie sans sens monde serait\"]\n",
            "399) [\"im plus proche jamais avant j'ai vraiment mauvais temps fiancée m'a dit tout ce qu'il fallait jamais savoir beaucoup de terrible personne je veux mourir\"]\n",
            "400) ['Principe accidentellement appelé papa lol porte ouverte dit go papa kinda awkward']\n",
            "401) [\"philo vance beaucoup d'affinités bulldog drummond gentleman type polonais élégance généralement associé britannique haut classes aussi indépendamment rich\"]\n",
            "402) ['vie finit il y a des années il y a des années il y a des années il y a des années il y a des années il y a des années il y a des années il']\n",
            "403) ['Noui se sent comme de continuer à réchauffer une longue histoire courte agoraphobe interaction humaine passe le temps due au fait la femme évitant terrible']\n",
            "404) ['m partenaire f non-diagnosticé redflag moins penser faire quoi que ce soit trop ruiné romantique notredflag en rejoignant fou tête encore']\n",
            "405) ['A l’extérieur, il est blessé à l’intérieur']\n",
            "406) ['Bris Bris Bris Bris Bris Bris Bris Bris Bris Bris Bris Bris Bris Bris Bris Bris Bris Bris Bris Br']\n",
            "407) [\"Je préfère savoir qu'un ami est mort et qu'un drapeau rouge préfère penser à un accident tragique et qu'une famille d'amis\"]\n",
            "408) [\"parler quelqu'un im vraiment mauvais pensée rn im effrayé atteindre amis penser finir la vie peut parler quelqu'un une personne\"]\n",
            "409) ['voir tout le monde méprisant quarantine quelques semaines imaginer vivre personne veut des amis finalement fantôme dont savoir fait mérite que peut-être im bon assez monde veut mo']\n",
            "410) ['knife hand itgtan audiobook joué background switchblade skull print stuck gorge corps convulsé spurté sang bouche blessure sur le sol bois lent']\n",
            "411) [\"remerciements modérateurs de rsuicidewatch pour permettre la publication ici partie de l'équipe des chercheurs de l'état de la psychiatrie\"]\n",
            "412) ['contempler tout va descendre obtenir pire jour im mieux penser positif prendre action fix choses tout essayer échoue prend beaucoup de calme travail problèmes actions échouent obtenir même dé']\n",
            "413) [\"Tout le monde dit que c'est be betteri rappeler la première fois que j'ai senti déprimé autour d'avoir le premier téléphone parler amis un jour dit savoir vivre plus\"]\n",
            "414) ['Sentez-vous déçus chaque fois que vous vous réveillez le matin comme oh prenez le sommeil s’éteigne brutal cycle chaque jour id']\n",
            "415) ['dont know doim combat medic ptsd ive dating girl little three years today broke up never felt horrible life ive married kid another chick thought got everything good ish any']\n",
            "416) ['jamais réellement parler en arrière maman regrette plus tard comme toujours fin regrette semble lowkey douleur faute demander manger im manger des choses importantes nourriture appar']\n",
            "417) [\"n'importe qui a fait clonidine apparemment mortelle dose mgkg quantité\"]\n",
            "418) ['Idée avril st terraria minecraft switch logos jour']\n",
            "419) [\"rompu mémoire toujours brisé souvent demander maman avorté m'a toujours déclaré presque appris elle parfois fait wonder laissez les voisins violer des choses horribles\"]\n",
            "420) ['le sommeil a mis au hasard crap commentaires se réveiller la nuit ish prétendant écrire quelque chose est supprimé prétendant écrire quelque chose est']\n",
            "421) [\"amour malheureux devient désespéré déprimé voir le thérapeute souffre beaucoup seul amis trouvant l'expérience gfs jamais même seule fille malheureux\"]\n",
            "422) ['Lire probablement la vie']\n",
            "423) ['jour post getting girlfriend ill ajouter intérêt jour cuisson minecraft vieillesse scrolls napping big bagg théorie montre la théorie scientifique apprentissage']\n",
            "424) ['frères normaux ok toute la vie fraternelle relation reçoit le long de la lutte des temps frères normaux choses quel étrange punch kick pull down im sure pun']\n",
            "425) ['God sake let diei cant anymore want therapy want anything wanted gone lack so nobody let get drunk know lose fucking survival instinct rien stop so im fatigu']\n",
            "426) [\"Une heure d'entraînement je suis vraiment fier oui je suis heureux\"]\n",
            "427) [\"wanna tatouage coupe main hello collègues déprimés redditors problèmes de mal à soi à chaque fois qu'ils regardent coupe ressent inutile\"]\n",
            "428) [\"pog pog montagnes poggers discord poggers n'importe qui wanna joindscord amis made sharing memes meeting new ppl guys girls included also cupcakes jk\"]\n",
            "429) [\"n'importe qui Ottawa ontario im regarder les gens Ottawa région parler à\"]\n",
            "430) ['house mate acting manic récemment comme clockwork locked bathroom knife got drunk instigated combat partenaire b choses bitchy funny soudain j va la']\n",
            "431) [\"besoin de quelqu'un répondre questionim jobless habe direction amis les gens font anxieux ive comment beaucoup de drame les gens peuvent faire confiance à n'importe qui à nouveau\"]\n",
            "432) [\"j'ai voulu papa premier pensé redflag im adulte waymy papa boss récemment devenir malade fréquemment briser un an de longue relation à venir\"]\n",
            "433) ['im breaking pointim commencer réalise triste réalité vivent injuste matière beaucoup essayez mieux vous-même beaucoup pensez que vous êtes quel que soit le meilleur encore probablement']\n",
            "434) ['aller brûler vivant douleur ive heardi dont désir fucking corps dont désir fucking transition féminin désir naissance féminin wasnt dont désir fu']\n",
            "435) ['aide-moi im peur les filles ont décidé de faire le changement essayé yubo sheesh belle fille me waved me respnd']\n",
            "436) [\"im ennuyeux amie texte fait irrégulier ticking loin moments fait dull jour fritter déchets heures offhand chemin kicking autour d'un morceau\"]\n",
            "437) ['Afraidi vraiment veut mourir savoir stupide sans sens problèmes vont loin savoir que les gens ne devraient pas être ennuyeux juste la présence de la pièce id jamais']\n",
            "438) [\"Obtenir une meilleure dépression sévère toute la vie j'ai obtenu le traitement prendre des médicaments tous les jours j'ai jamais obtenu de meilleurs jours\"]\n",
            "439) [\"L'enseignant enseigne des choses mais sait déjà ce qu'il y a dans l'enseignement im sam onella\"]\n",
            "440) ['écrit note pense porter beaucoup de longévité jour devient pire ressemblant matériel difficile essayer de rester positif devient pire jour senti im va vite quelque chose garder vivant']\n",
            "441) [\"quelqu'un pm me vie mess oneim complète mess im atteindre fin ligne dont savoir le désir peut parler quelqu'un donne shit besoin d'aide\"]\n",
            "442) ['Ce qui rend heureux plus la scène de la pluie se lève surtout mooses partie im gonna regarder les films étape']\n",
            "443) ['partie finale kieslowskis trilogie basée sur les couleurs drapeau français trouve directeur paix métaphysique transcendante nature cinéma image rouge paramount']\n",
            "444) [\"accidentellement mettre la machine de lavage d'oreilles en quelque sorte encore faux travail ils sonnent mieux avant ce qu'on fure\"]\n",
            "445) ['saint shittyt barber didnt couper les cheveux courts']\n",
            "446) [\"bientôt se sentir confortable la vie reçoit un autre lapin trou existentiel peur se sentir stupide penser quelque chose de mort espérant que personne d'autre\"]\n",
            "447) [\"J'ai pris beaucoup de pillsim effrayé surdosé\"]\n",
            "448) ['Hey guys im fatigué guitare brisé il y a deux semaines havent pu beaucoup de choses de musique encore ukulele penser à la couverture chanson dont savoir la cou']\n",
            "449) [\"vraiment vouloir revenir à l'hôpital difficulté d'exprimer le texte personne ive assez ferme tout le monde depuis janvier méds thérapie année même\"]\n",
            "450) ['désirer mourir dur im vivre constamment douleur commencer sentir la vie physique sucks devenir pire haine penser tout le monde vivant la meilleure vie']\n",
            "451) [\"im jours mal à soi hello tout le monde beaucoup se demander l'enfer il y a des semaines a le téléphone a été retiré laissez passer du temps famille ive addiction mal\"]\n",
            "452) ['penser ami mine tenté redflag matin dowere freshmen lycée ensemble btw matin réveil frantic appels ami mine bien appeler joe vie demi heure amie']\n",
            "453) ['Question existentielle opposée à la mémoire ptsd']\n",
            "454) ['retour de Noël eve shopping trip abusé suburban housewife basinger trouve la lutte survie désaccord groupes criminels jeunes prennent violent turnbr br souff']\n",
            "455) ['redflag prévention jour heres histoire im assis voiture maintenant attente classes commence collège secondaire spécifiquement autour de thth grade être pinnacle problèmes devenus']\n",
            "456) ['demandez des choses plz im fatigué se sentir comme venir fancy post mal de laisser les gars content']\n",
            "457) ['im done care anymore im ending sooni hate me hate world hate life supposé être ive suicidal puisque jeune moins th grade toujours pensé les choses vont mieux dont tout']\n",
            "458) [\"les seniors sont revenus plein école moins d'une semaine école en ligne td bc covid cas wow moins d'une semaine huh\"]\n",
            "459) [\"J'ai envie de chanter quelqu'un\"]\n",
            "460) ['sculpté peinture graphitelead école joke explication assis arts artisanat classe parlant amis réguliers adolescent shit sculpting peinture a']\n",
            "461) ['petit film apporte beaucoup de souvenirs fond foul se passe un travailleur musicien agréable hébergements band management site sauter dire jouer sheer ecstasy appla']\n",
            "462) [\"moins d'année littéralement le plus bas homme planète vraiment croient accepter notion bonne mauvaise adaptation serait la dernière toujours asshole littéralement\"]\n",
            "463) ['Même le soutien sous un souci loli savait la vie joke test voir mal break']\n",
            "464) [\"lookin jeux amis hi im regarder quelqu'un jouer des jeux cause de jouer du plaisir quelqu'un d'autre juste jeux im actuellement jouer rn sont les légendes de la\"]\n",
            "465) [\"espérons que quelqu'un lit ce livre d'existence note-tête espérons que quelqu'un lit pleinement reçoit removedno matière difficile essayer\"]\n",
            "466) ['jamais marcher autour de la nuit penser facile serait pas de rue laisser la voiture te frapper malheureux belle nuit voir les étoiles odeur parfum frais pluie facile tuer']\n",
            "467) ['breaks cœur parler membres de la famille aime meim véritablement reconnaissant famille connaître soin me ive seul loin famille autre pays années ont eu la chance de parler couple']\n",
            "468) ['please wake up miss you ive trying to reach years now seems like dreams im normal social media user im husband miss you please wake up']\n",
            "469) [\"point ne peut plus rien de s'asseoir sans aide rien d'autre que peur pleurer\"]\n",
            "470) ['ive aérospatiale ingénierie classe secondaire une fille pensé doux souvent a été paré ensemble travail puisque un top étudiant classe efficace ensemble temps travaillé ensemble']\n",
            "471) [\"Même si des choses irréalistes se produisent à la fin, c'est-à-dire la police tirant des armes foulées merrygoround\"]\n",
            "472) [\"pensées intrusives malade merde aller l'esprit récemment vividement imaginez l'ami aurait l'air de pendre la ceinture continuer à\"]\n",
            "473) [\"Bitch a travaillé le premier jour plein McDonald's très occupé l'entraînement lent connaît l'heure de la journée assez facile\"]\n",
            "474) [\"j'ai peur de la mort en dehors j'ai eu des jours de panique constants des semaines des mois ont besoin de mourir ont besoin de fuir mourir\"]\n",
            "475) [\"none moins probablement va ramble peu attendre tout le monde en fait lire cela en utilisant quelqu'un parle à quelque part décharger des pensées au lieu de se\"]\n",
            "476) ['Les amis se tournent vers vouloir seuls, il y a plus de conseils pour faire des amis en personne']\n",
            "477) ['préféré horreur film close nd poltergeist voir une nuit nocturne coups de soleil une nuit nocturne coups de soleil une nuit nocturne']\n",
            "478) [\"jamais ressenti vide meilleur ami hôpital j'ai dit non mettre couteau sauter fenêtre a récupéré l'hôpital ressent rien tous les yeux proches\"]\n",
            "479) [\"libre une scène un autre une histoire un autre comme marche sombre chemin ouvert comme l'arbre des feuilles du vent un autre beaucoup de sons différents comme les voyageurs rencontrent\"]\n",
            "480) [\"im suicidal im nonlike wanna die tue me tbh quelqu'un me tue soin im devient paranoïde amis me hait ive convaincu im terrible\"]\n",
            "481) ['les filles se plaignent de porter autour de la catégorie big tits porter massive nuts filer fichier rgiler jfksndnfj djdjjd']\n",
            "482) ['Essayez de rester positif, essayez d’établir des choses de routine, faites de bonnes choses, faites de bonnes choses, faites de bonnes choses, faites de bonnes choses']\n",
            "483) ['je neurodiverse les gens part lgbt comme les gens autistes choses comme je pense que ce serait bon']\n",
            "484) ['enfin gangster movie worth watchingbr br jennifer tily get nominated role hard murdering femme fatalbr br ce film flies like bird fast paced non stop gangster']\n",
            "485) [\"minim fucking triste dieu hait les gens affectent vous hait horrible les gens obtiennent les choses horribles obtiennent puni qu'ils veulent les choses ok\"]\n",
            "486) [\"Hate alli haine les gens se plaignent vie cant acheter quelque chose vraiment coûteux d'autres dont même savoir ils vont manger le lendemain ils vont manger\"]\n",
            "487) ['mmm contrôleur jambes toot potatoa kimchee sepsis tintin shit stain']\n",
            "488) [\"premier deux films johnny à film beaucoup de récompenses pas de prestigieux cannes palme d'or nominationbr br le triade choisit le leader très dé\"]\n",
            "489) ['oh im sanglant finethe blade bit sharper attendu douloureux get shit frère im fucking inutile cant même sh correctement mabye go une veine']\n",
            "490) ['Imma réel absolument fuite terrifiés parents particulièrement terrifiés dire la santé mentale demander quoi que ce soit']\n",
            "491) ['Walt disney old men put spin classic step fairy tale cinderella point de repentance point de repentance point de repentance point de repentance point de rep']\n",
            "492) ['im survivant jour de la vie veut douleur endim vivant paquistan parents un frère les derniers mois émotions mélangées ive réalisé place fo']\n",
            "493) ['tbh havent trouvé la bonne personne ne veut pas dire']\n",
            "494) [\"Tout le monde aime le suicide, personne ne s'inquiète\"]\n",
            "495) ['house mate acting manic récemment comme clockwork locked bathroom knife got drunk instigated combat partenaire b choses bitchy funny soudain j va la']\n",
            "496) ['Je veux mourir Je veux mourir Je veux mourir Je veux mourir Je veux mourir']\n",
            "497) ['bien im légal adulte im espérons voir beaucoup plus']\n",
            "498) ['amical rappel dont date douze ans vieux mauvaise idée recommande']\n",
            "499) ['Tout le monde appelé bullshitlike sérieusement im pire jamais même proche gf amis réels en principe rien de jour des compétences discernables les gens ins']\n"
          ]
        }
      ],
      "source": [
        "# Translate from English to French (easy language)\n",
        "french_texts = []\n",
        "\n",
        "for i, en_text in enumerate(mh_texts['text']):\n",
        "  m2m_tokenizer.src_lang = \"en\"\n",
        "  encoded_en = m2m_tokenizer(en_text, return_tensors=\"pt\")\n",
        "\n",
        "  generated_tokens = m2m_model.generate(\n",
        "      **encoded_en, # input ids and attention mask\n",
        "      forced_bos_token_id=m2m_tokenizer.get_lang_id(\"fr\"), # to French\n",
        "      max_new_tokens=40\n",
        "  )\n",
        "  translation = m2m_tokenizer.batch_decode(generated_tokens, skip_special_tokens=True)\n",
        "  french_texts.append(translation)\n",
        "  print(f\"{i}) {translation}\")"
      ]
    },
    {
      "cell_type": "code",
      "execution_count": null,
      "metadata": {
        "colab": {
          "base_uri": "https://localhost:8080/"
        },
        "id": "TkSImGCK18qs",
        "outputId": "ada32ecb-91f1-4fae-8ab9-c157296b84c9"
      },
      "outputs": [
        {
          "name": "stdout",
          "output_type": "stream",
          "text": [
            "0) ['im 累 观看 色情 字面上 想 女孩 说 想 想 想 想 想 想 想 想 想 想']\n",
            "1) ['假设忘记阅读乡村母语Yep假设正确Kingqueen meeeeeeeeeeeeeeeee']\n",
            "2) ['從未達到岩底 從未有機會 相遇 朋友 做 時 可能 被 他媽的 句子 上 im native alright amp']\n",
            "3) ['亲爱的读者 太空 Odyssey Kubrick Bestalthough 真的 Cant 说 太空 Odyssey 电影 Ive 曾经 观看']\n",
            "4) ['金正恩将自杀']\n",
            "5) ['米饭纯度评分 生活 Shell 生活']\n",
            "6) ['ok redflagwatch ive ruled redflag fuck me ive mostly miserable life finally resolved kill last April miserable depressed miserable although life job']\n",
            "7) ['此分類上一篇: Hi beat clingy bastard']\n",
            "8) ['任何人想要加入Discord服务器一般编程游戏Discord链接描述生物任何人想要呼叫']\n",
            "9) ['哈哈哈哈哈哈哈哈哈哈哈哈哈哈哈哈哈哈哈哈哈哈哈哈哈哈哈哈哈哈哈哈哈哈哈哈哈哈哈哈哈哈哈哈哈哈哈哈哈哈哈哈哈哈哈哈哈哈哈哈哈']\n",
            "10) ['wastei 总是面对抑郁 渴望死亡 在我自己 因为事实 感觉 如 im 浪费 人类 生活 老 妹妹 假设 双']\n",
            "11) ['im even sure im postingi 最近诊断出双极障碍拖女朋友年行为 fathom我自己 im 目前正在接受治疗 虽然见证了第一场狂热的']\n",
            "12) ['im terrible everythingim 字面上值生活 ive 真实的激情 事物完全扔掉 感觉像完整的空虚 ive 创作音乐 年']\n",
            "13) ['huey lewis newsfuck everythingnothing mattershey dreadwolf coming live new york city nice cool summer night partly cloudy beautiful summer night making love almost']\n",
            "14) ['評價文章 uwholesomecuddlesuwu 可能有一個最有智慧的人 看過 subreddit uwutalk cringe 可能 idk 使用時間']\n",
            "15) ['几乎承诺结束,所以我接近终于承诺完成事情我自己几乎仍然保留我关心的儿子影响他时间 im 结尾 绳子挂 最']\n",
            "16) ['im doneim 终于到达终身生活 shitfirst 搬到另一个国家 去年 10 月 南非白年 老男孩 女朋友 女朋友']\n",
            "17) ['最佳武器 视频游戏 awp power flicks']\n",
            "18) ['谢谢 rsuicidewatch 的 moderators 允许在这里 部分 团队 研究人员 时间限制 新约州 精神病学研究所 哥伦比亚']\n",
            "19) ['今晚 nighti cant 生活 每日 遗憾 伴侣 月 以来 留年 爱 美好 生活 一起 错 酒精']\n",
            "20) ['知道多长时间保持需要帮助 想想想想想想想想想想想想想想想想想想想想想想想想想想想想想想']\n",
            "21) ['最好的朋友承诺 redflagi 出席葬礼上周 圣诞节 总是美观的方式 最好的朋友 特殊关系 遇见精神医院 年龄 立即点']\n",
            "22) ['mishima 一部最伟大的电影曾经做过思考Paul Schrader 最伟大的编剧时间真的像电影 hes 导演 ive 看到与例外']\n",
            "23) ['希望最快的种族主义者']\n",
            "24) ['gonna die weekits 最后时间 我知道事实 病 永远不会到达 幸福 病 怀孕 测试 案例 原因 想 想 想']\n",
            "25) ['想想想想想想想想想想想想想想想想想想想想想想想想想想想想想']\n",
            "26) ['生命的意思是人民休息我们 观众生活 什么点生活 工作 工作 更追求 梦想 职业 什么点不吸引 女人 想要 日期']\n",
            "27) ['Wanna leaveeee 像任何人一样']\n",
            "28) ['神生命的意思 故事 人类的故事 痛苦 压迫 死亡 所以我坐在前面 计算机 说话 男孩 已充电']\n",
            "29) ['可爱的有趣的地面吸引好工作展示背后的场景世界剧院团体生活演员三位巫师在舞台上很棒的会假设电影']\n",
            "30) ['lmao im 老 老 老 老 老 老 老 老 老 老 老 老 老 老 老 老 老']\n",
            "31) ['想喝啤酒,想被抓住,想闻起来像酒']\n",
            "32) ['天天天天天天天天天天天天天天天天天天天']\n",
            "33) ['青少年 手 键盘 出生 没有手 键盘 方法 留言 下面的评论']\n",
            "34) ['什么都不会让自己感到满意 想想想想想想想想想想想想想想想想想想想想想想想想想想想想想想']\n",
            "35) [\"有时 im cringy person don't stop talking also make lot jokes end talking time me especially around girl like embarrassing idk ppl shy opposite problem overshare g\"]\n",
            "36) ['哥哥谈话的速度跳动过度令人不安,如带来的速度跳动,每一次谈话都会有偶然的事情,如可以像战斗的男孩']\n",
            "37) ['看方式承诺 redflagi yo india sorry make mistakes idea commit redflag mind last year since rd June exactly yesterday enough made mind kill me dont figured way']\n",
            "38) ['爸爸Jus告诉了一些现实世界假设中间流行病在这里玩小狗我走错听音乐它不认为父母理解一些听别的东西']\n",
            "39) ['看 sideis 生活 要求 整个 生活 他妈的 去 做 他妈的 玩笑 生活 ive im drogged 喝醉 足够']\n",
            "40) ['失败的班级第一次在线学校的折磨总是高 b 学生 但是看到 学位 滑 最新 数学 现在 双 信用 大学']\n",
            "41) ['女士 先生 可能 可能 可能 得 女孩 类型 我 可能 可能 不能 得 得 得']\n",
            "42) ['第一 最后 帖子 不知道 决定 帖子 今晚 目前 另一个 持续 精神 破裂 年老 妇女 今晚 去']\n",
            "43) ['每个人都看过文章猫昨天今天 谢谢很多积极的评论 男孩 字面上做了一天 感觉更好 了解 人们 关心']\n",
            "44) ['第一天 延迟日程']\n",
            "45) ['f 任何人 想 想 想 想 想 想 想 想 想 想 想 想 想 想']\n",
            "46) ['cant iti wasnt 能通過 做 噪音 帶 開始 吊 自己 鼻子 來 來 來 來 來 來 來 來']\n",
            "47) ['可怕的朋友 可怕的朋友 可怕的朋友 可怕的女孩 可怕的女孩 可怕的女孩 可怕的女孩 可怕的女孩 可']\n",
            "48) ['電影開始混亂 成長 一 最佳電影 觀看 演出 完全 精彩 乾燥 眼淚  Meryl Streep 其表演 非凡']\n",
            "49) ['真真真真真真真真真真真真真真真真真真真真真真真真真真真真真真真真真真真真真真']\n",
            "50) ['攻击一定的目标 可能杀了自己 周围的日子 完成 周围的 生日 疲惫 自己 疲惫 世界 疲惫 感觉']\n",
            "51) ['得到 zoom 爆炸 今天 班 有人 加入 zoom 班 显然 不同 区 尖叫 nword 关闭 屁股 被']\n",
            "52) ['计划 明年 年 年 年 年 年 年 年 年 年 年 年 年 年 年 年 年 年 年 年 年 年 年 年 年 年 年 年 年 年 年 年 年 年 年']\n",
            "53) ['射 em up 血 恐怖 電影 來 來 來 來 來 來 來 來 來 來 來 來 來 來']\n",
            "54) ['原因 Livei 任何人 依赖我 重要 工作 知道 不受欢迎 但 生活 这个 案例 严肃 什么 点 假设']\n",
            "55) ['第一 加入 雷迪特 找到 地方 想 Kinda 愚蠢 仍然 im 愚蠢 足够 除了 它 所有']\n",
            "56) ['奇怪的']\n",
            "57) ['知道 domale 快 年 年 年 年 年 年 年 年 年 年 年 年 年 年 年 年 年 年 年 年 年 年 年 年 年 年 年 年 年 年 年 年 年']\n",
            "58) ['极端活动和中等好莱坞人如UFC xgames人追求兴趣寻找doc outbr br 这是一个 truthisstrangerthanfiction 故事']\n",
            "59) ['祝你好,祝你好,祝你好,祝你好,祝你好,祝你好,祝你好,祝你好,祝你好,祝你']\n",
            "60) ['希望人們談話高不可理解的句子說話向說話清晰,大多理解的方式近不可能,但似乎需要社交事件玩得很好,但']\n",
            "61) ['ifstrawberry fields forever gorrilaz song listening question came mind know other ask it yes']\n",
            "62) ['尝试 rd time k krma 特殊']\n",
            "63) ['喜欢 罗马 波兰人 拒绝 可能 检查 租户 因为 类似 概念 波兰人 步行 玩 精神分裂']\n",
            "64) ['假设假设说有 k 陌生人 诚实发生 现在见 mrbeast 打破一切 如 walkart 目标需要花费 h 它']\n",
            "65) ['第一篇文章 rantive reddit 帐户 动机 年 打 打 打 打 打 打 打 打 打 打 打']\n",
            "66) ['id happy die sleep anytime soonampxb thing im years old life basically always pointless strugglethe worst part hear supposed the best years life know real fight I agree']\n",
            "67) ['才华使用他们总是选项 mindi 甚至知道 subreddit im 好 解释 特别 键盘 病 试试 理解 感觉 高中 给']\n",
            "68) ['請告訴我得到更好的解雇最好的工作 每個月前 原因 錯甚至失業 法官 同意 決定 案例 請大減薪']\n",
            "69) ['杀了孩子他们基本上手术手术手术杀了孩子']\n",
            "70) ['一天 lefti know missed the one im tired im 等待一切结束']\n",
            "71) ['洗澡 散步 父母 想 性 说 带 避孕套 刷 牙 不会 听 说']\n",
            "72) ['阅读时间 guesshi 需要任何人 阅读 也许 留下评论 感觉 他妈的 单身 整个生活 他妈的 显示 虐待 父亲']\n",
            "73) ['不要计划生活看我感觉像负担排水 周围的每个人 我的 学校 未来 一个 关心我 这是 我的 去看 谢']\n",
            "74) ['感覺 trappedlet 開始一點 故事 年輕 Ive 總是第二 想法 家庭 由於 不幸 事 老 哥哥 診斷 癌症']\n",
            "75) ['任何人都感到醒来意识到设置警报,而不是害怕无法解释的焦虑不可比拟']\n",
            "76) ['人 假冒 自私 想 自己的 他妈的 你 侮辱 Makinf 有趣 比较 如 类 对手 到 红旗 突然']\n",
            "77) ['我疲惫的生活恋人打破了几个月前 抑郁的抑郁的从来没有想过见到实际上感觉像我爱我访问了每周几乎']\n",
            "78) ['am decompressionnot friends disgustingly lonely family worried think makes look bad one live with fear dying fucking hope something changes sooni tried fkin hard']\n",
            "79) ['哈哈哈哈哈哈哈哈哈哈哈哈哈哈哈哈哈哈哈哈哈哈哈']\n",
            "80) ['新杰西计划历史']\n",
            "81) ['好,从幼儿的父母从来没有走过好,最艰难的部分选择的侧面 现在生活小哥哥妈妈年轻的选择的侧面 父亲']\n",
            "82) ['财务罪负负负负负负负负负负负负负负负负负负负负负负负负负负负负负负负负负负负']\n",
            "83) ['试图自杀 第三级 为什么 病 父母 争论 病 一个 奇怪 孩子 学校 没有人 谈论 太 病']\n",
            "84) ['允许感到抱歉 myselfi 总是 他妈的 强 周围 人 行动 如 事物 他妈的 物 物 物 物']\n",
            "85) ['']\n",
            "86) ['我渴每当喝水喝水喝水喝水喝水喝水喝水喝水喝水喝水喝水喝水喝水喝水喝水喝水']\n",
            "87) ['朋友螺旋帮助到达赫希 ive 很久很久很久很久很久很久很久很久很久很久很久很久很久很']\n",
            "88) ['媽媽 試圖 殺 阿加尼 病 一切 想 死 恨 每個人 恨 我']\n",
            "89) ['教師服裝 教室 最大的甜蜜心 從來有趣 試圖帶來樂趣 教師服裝 帶來樂趣 教室 最甜']\n",
            "90) ['pls wish luck English exam tomorrow need to get however suck 英语是学习的']\n",
            "91) ['ive 合法考虑 最近 仍然 生活 家 超 抑郁 汽车 工作 教育 动机 得到 事物 恨 所有 我 爸爸']\n",
            "92) ['放弃有趣的事实评论一些坏事提供有趣的事实评论拒绝的事实可能不是有趣的,我总是可以错了']\n",
            "93) ['電視節目觀看的 s 孩子 吸引它 過去很多年 經常 想 好 會 再 觀看 思考 事 過去']\n",
            "94) ['Gots 問別人 自然 取代 愛 感覺 某人 恨 打破 我']\n",
            "95) ['自杀不想要存在 sometimesi cant 一感觉方式 有时想开始新生活 有人知道新鲜的<unk>子看家庭看合适但没有图像 某']\n",
            "96) ['很多朋友的人生活在几英里远离我几乎看朋友所有也最好的朋友转换另一个学校可能看起来像每年两次也引进硬使朋友停止抑']\n",
            "97) ['想开始好聊天 需要提示 互动 想保持聊天 想愉快 谢谢前进']\n",
            "98) ['最后一周去杀了梅真的唱了,想我去杀了我,对不起。']\n",
            "99) ['眼镜 眼镜 眼镜 眼镜 眼镜 眼镜 眼镜']\n",
            "100) ['感觉像Lateim落下高中做任何事情,因为从来没有得到工作,从来没有去学校的意图选择什么不坏的孤立而不是花']\n",
            "101) ['什么是最简单的方式让你快乐的标题 im curious']\n",
            "102) ['首頁 〉外文書 〉文學 〉文學 〉Highest pvoted text post rteenagers k pvotes dude fuck never see text']\n",
            "103) ['_les actors_ absurd story jeanpierre marielle desperately waiting cup hot water story conspiracy actors story aging actors whose careers slowly less']\n",
            "104) ['无痛毒药红花需要快速知道,请知道']\n",
            "105) ['今天数学课没有老师学生学校得到 youknowwhat关闭学校日所以数学课通过Skype今天好老师有点晚开始课 但是线 echo']\n",
            "106) ['知道呼叫 fcking upso 公平警告 可能 可怕 人 性 性 关系 几年前 试图 来 条款 一些']\n",
            "107) ['事实上,获得金钱相信可以付出最少的债务诚实不甚至知道得到债务的数量必须害怕甚至开始一些原因担心可能实际上法律问题']\n",
            "108) ['孤独需要朋友']\n",
            "109) ['感覺人們想殺 themselvesi 感覺人們想殺 cant 死亡 硬 痛苦 vent 挫折 sub reddit 如 願望 死']\n",
            "110) ['想想想想想想想想想想想想想想想想想想想想想想想想想想想想想想想想想想想想想想']\n",
            "111) ['wanna kill badi feel worthless everyone abandoned me everyone try meet doesnt care hate me everyone hates me fuckin keep going try get better drives farther cliff']\n",
            "112) ['bois 小 pps 好 昨天 花 天 gf 家 瞬间 想要 性别 ate 试图 放 甚至 大 英寸 didnt']\n",
            "113) ['提议 任何人 想 结婚 约会 什么 去 冒险 孩子 安定 cuz']\n",
            "114) ['拉丁语 拉丁语 拉丁语 拉丁语 拉丁语 拉丁语 拉丁语 拉丁语']\n",
            "115) ['感觉像 im gonna die 男人 过敏 鼻子 连接 两个 鼻子 气息 气息 喉<unk> 疼痛 气']\n",
            "116) ['事物 肯定 课程 是 青少年 课程 我 做 朋友 会 首先 开始 聊天 冰雪 肯定 章 事物']\n",
            "117) ['事物 ive 學到 第一 關係 和 考慮 哦 大家 真的 想 現在 感覺 如 分享 男孩 意思 幫']\n",
            "118) ['此时此刻 年 想 想 想 想 想 想 想 想 想 想 想 想 想 想 想 想']\n",
            "119) ['']\n",
            "120) ['做 subreddit 叫 rpenciltricks subreddit 显示酷的技巧 笔 ampxb 这些 ampxb 链接 可爱的人 r']\n",
            "121) ['等待 等待 電影 來 來 來 來 來 來 來 來 來 來 來 來 來 來 來']\n",
            "122) ['使用的技巧折磨过去生活的人会很容易忍受的夜晚觉醒 日常睡眠缺乏单独足够杀死']\n",
            "123) ['恐惧 醒来 早晨 无生命 无意义 夜晚 开始 感觉 幸福 大多数 得睡 得睡 得睡 得睡']\n",
            "124) ['在世界老学校 kung fu 电影复仇图片来了 dime 十多 多 多 多 多 多 多 多 多 多 多 多']\n",
            "125) ['因为 ive herefinals 到 到 到 到 到 到 到 到 到 到 到 到 到 到']\n",
            "126) ['看电影 八月 年 国家 黑人 记者 会议 米尔瓦基 威 第一 公共 扫描 电影 伟大 德雷克']\n",
            "127) ['idkmy mum 說 說 說 說 說 說 說 說 說 說 說']\n",
            "128) ['感覺奇怪的人年年年年年年年年年年年年年年年年年年年年年年年年年年年年']\n",
            "129) ['射击 屁股 更好的 行动 如 你 听到 drivin xannies 可能 打 曲线 tee hee']\n",
            "130) ['幸运的是,有兴趣听到替代摇滚专辑乐队发布了第一张专辑,希望能找到喜欢的人。']\n",
            "131) ['朋友看过圣迪戈黑色电影节伟大风暴强烈的黑色女人娜娜想起奶奶 br br 清洁好看拿着衣服肯定值得']\n",
            "132) ['discord 服务器 kinda chill 主要是 meme shitposting 服务器 lemme know want']\n",
            "133) ['条条条条条条条条条条条条条条条条条条条条条条条条条条条条条条条条条条条条条条']\n",
            "134) ['你牛之日']\n",
            "135) ['找到了 婴儿 Tucan 看起来像 ampxb httpspreviewredditrnqvxzlatjpgwidthampformatpjpgampautow']\n",
            "136) ['ive 等待 年 看 电影 只是 從未 看 廣告 電視 最終 捕 好 值得 等 好 好 好']\n",
            "137) ['']\n",
            "138) ['im bad mood want friends tiktoker 想 想 想 想 想 想 想 想 想 想 想 想 想 想 想']\n",
            "139) ['可爱的人想要得到伤害去说朋友谈话更多']\n",
            "140) ['什么好方法赚钱高中说兼职工作类型兼职工作认为好']\n",
            "141) ['I want crack skull open big rock fucking badly normal people beach fun sea sandcastles waves excitement']\n",
            "142) ['死亡方式 lexaprois 可能死亡 lexapro 过量 shou 病 服用 结合 xanax 酒精 谢谢']\n",
            "143) ['女孩会是女同性恋']\n",
            "144) ['live thisshe 說 愛 每日 年 打 打 打 打 打 打 打 打 打 打 打 打 打']\n",
            "145) ['计划计划计划计划计划计划计划计划计划计划计划计划计划计划计划计划计划计划计划计划计划计划计划计划计划计划计划计划计划计划计划计划计划计划计划计划计划计划']\n",
            "146) ['神 Cant 等待 移动 去 著名 大学 大 城市 群 富 孩子 落 爱 亿 儿子 爸爸 低 黑']\n",
            "147) ['家庭喜剧 最佳感官 术语 无缝 信仰 家庭 Ann blyth 帮助 所有人 最喜欢的 祖母 Edmund Gwenn']\n",
            "148) ['首頁 〉外文書 〉文學 〉西洋文學 〉Conversation starter one gets raped block cheese']\n",
            "149) ['什么好方法赚钱高中说兼职工作类型兼职工作认为好']\n",
            "150) ['我真的想看到我未来的孩子们打破我们']\n",
            "151) ['天天天天天天天天天天天天天天天天天天天天天天天天天天天天天天天天天天天天天天']\n",
            "152) ['抓住任何人需要谈话知道月周甚至今天可能觉得不可能 试试 得到 可能伤害 可能生气 这里得到 得到 更好 保持']\n",
            "153) ['im tempted tell father buy gun kill mei cant really say much beside think living stressful right now 老保险人付钱口袋屁股 didnt set obgyn appointment still']\n",
            "154) ['感到孤立的朋友 cant 看得多 工作之旅大学 cant 说得多 说得多 没有回复']\n",
            "155) ['wheres 发表 哈利·波特 引用 取代 Wands 阴茎 Ive 看 到 到 到 到 到 到']\n",
            "156) ['機會 觀看 電影 斯拉夫人 Villagebroadway 區域 等待 觀看 最終 copybr br 觀看 電影 cleveland']\n",
            "157) ['媽媽 發現 帳戶 會 殺 無 無 無 無 無 無 無 無 無']\n",
            "158) ['女朋友 發現 頁面 論文 哥哥 寫 幾年前 去 詳細 使用 實際上 抑鬱 年 效果 家庭 生活']\n",
            "159) ['脑 疯狂 青少年 窗口 Solitaire 窗口 棒 扑克 win windowschan 显示 乳房']\n",
            "160) ['工作勇气 后生活 只是停止被埋葬 家庭痛苦 最终移动 每个人都知道 孩子们 生活 死亡 人性 消失 岩']\n",
            "161) ['感觉很老 老 老 老 老 老 老 老 老 老 老 老 老 老 老 老 老 老']\n",
            "162) ['想想想想想想想想想想想想想想想想想想想想想想想想想想想想想想想想想想想想想想']\n",
            "163) ['我希望有人说话,有趣的今天,有什么错误的行为,像小鸡很多情绪感觉坏的东西总是有助于切断我的出血正确的感觉更好']\n",
            "164) ['奇怪之地 spoilers br br july st 五人 ron launius josh lucas susan launius christina applegate billy deverell']\n",
            "165) ['很久很久很久很久很久很久很久很久很久很久很久很久很久很久很久很久很久很久很久']\n",
            "166) ['珠宝电影四 生产预期质量 事实上 交付 射击 伟大 风格 提醒 errol morris 电影 精心安排 简单']\n",
            "167) ['每个人都知道如何 outim 抑郁 焦虑 知道 父母 纳粹 缺乏 权力 改变 什么 继续 考虑 结束 它']\n",
            "168) ['關於 因 恐慌 攻擊 抑鬱 過去幾年 點 現實 四角形 正常 我 事實 誠實 幾乎']\n",
            "169) ['']\n",
            "170) ['肯定留下 noteso im 斗争的地方留下留下留下留下留下留下留下留下留下留下留下留下留下留下']\n",
            "171) ['好方法 杀自杀 观看选项 没有什么看起来很容易 得到 武器 硬 原因 什么 处方 药物 可以 总是']\n",
            "172) ['仇恨的人开始抱怨他们最大的问题轻微的堵塞决定穿明天Fck他们']\n",
            "173) ['知道 doi 起床 早上 感觉 自杀 如何 学校 知道 会得到 坏 妈妈 留下 2 天 睡眠 学习 日子']\n",
            "174) ['sub deaddd 愿望可以死 sub rn']\n",
            "175) ['需要 pp 肉手 schlongs dig dongs']\n",
            "176) ['gonna kms need helpgot 建造 豪克 卧室 天花板 need rope long strong enough get one online shopping option me']\n",
            "177) ['blade runner deckard replicant br br br city lost children augmented senses whatever used abused most well giving us much less might dream of andbr br dark city br']\n",
            "178) ['做出決定殺死八月大喊大叫很久很久很久很久很久很久很久很久很久很久很久很久很久']\n",
            "179) ['假设真正的助手']\n",
            "180) ['開始 學校 兩個 他媽的 時間 RN 得到 清潔 房間 去 等 得到 老師 恨 總是 想 雞']\n",
            "181) ['相当著名的引用展示堡垒恶劣展示废墟超海可能']\n",
            "182) ['物理学教师发现错误 httpsimgurcomaqtgxrzhttpsimgurcomaqtgxrz']\n",
            "183) ['一切都试着感觉更好 失败 很多 屁股 继续 转 我的 病 变 感觉 想 想 想 想 想 想']\n",
            "184) ['诚实的意见歌曲一次歌曲 httpsopenspotifycomtracklusdtcgsrhhpiaeiwlsigetfdqfqmbckxgilc']\n",
            "185) ['顶级成功的共产主义国家感谢阅读到终点闪烁']\n",
            "186) ['需要有人说话,有时杀人,现在需要有人说话,从来没有人说话。']\n",
            "187) ['painhello高中高中在这里知道阶段抑郁感觉更糟现在更长自杀的想法每天感觉甚至无用如失败点疼身体知道失败永远独自']\n",
            "188) ['跑的人喜欢高尔夫 他妈的 你喜欢高尔夫 布鲁']\n",
            "189) ['物理学教师发现错误 httpsimgurcomaqtgxrzhttpsimgurcomaqtgxrz']\n",
            "190) ['usmy 朋友 想 想 想 想 想 想 想 想 想 想 想 想 想 想 想 想 想']\n",
            "191) ['幸福的感恩节正想希望说希望找到一些提醒一些人思考假期可以,如果年轻人喜欢可以另一个陌生人可以有人意想不到可以有人年轻']\n",
            "192) ['im prohet 但知道人阅读呼吸快乐新年']\n",
            "193) ['im scaredi wish tomorrow weekday could schedule doctors appointment got inpatient place committed took emergency room suicidal weeks ago love myself know happening me ruining life cant']\n",
            "194) ['发送日 得到 英国 GF 日 pog 仍然 申请 要求 可选 会 pog 理解 可能 女性 形式 英国 偏好']\n",
            "195) ['flashback time earbuds died right hit play music caramelldansen 开始爆炸电话扬声器']\n",
            "196) ['妈妈医生说怀孕几周今天祝你好运']\n",
            "197) ['二氧化碳最佳无痛的选项计划燃烧煤炭wqrm io地方使恶性睡眠所有']\n",
            "198) ['想想 时间 扔 Toweli 良好 建立 redditor 知道 很多 人 人 扔 偶然 说 扔 东西 离开 这 决定 自己']\n",
            "199) ['前女友打破了两天前事情关系工作现在开始变得有点有毒伤害精神健康自杀的长距离生活英国生活我们担心很多帮助原因仍然关心什么']\n",
            "200) ['give nword pass hi guys could kindly give nword pass would really appreciate it always wanted to say nword would liberating finally able to say repressing long btw im hispan']\n",
            "201) ['给 Reddit 姓名 有人 发送 图片 羊 不要使用 U Ping 看']\n",
            "202) ['谁最近晚上喝醉了写红旗笔记放日记填满了每个自杀抑郁的想法去年试图抓住自己 Ive 抗抑郁者周']\n",
            "203) ['每个人都被困到爸爸问题开始谈话时间假设振动']\n",
            "204) ['鸟 电话 hes biting 案例 帮助 得到']\n",
            "205) ['說 kill myselfi cant find reason live maybe yall can 說 kill myselfi cant find reason live maybe yall can']\n",
            "206) ['pee 存储 球 他妈的 存储 屁股 检查 事实 cant deny sit 他妈的']\n",
            "207) ['真正的情绪列表百万一个原因 生活 相当糟糕 每个人 没有 性别 性别 性别 性别 性别 性']\n",
            "208) ['永远不会 他妈的 好 Enoughi 恨 他妈的 很多 愿望 勇气 说 也许 病 发送 知道 真的 感觉']\n",
            "209) ['heeey 标签 礼物 孩子 心理 问题 团伙 Vome 分享 故事 soo 落 如 级 体育 任何']\n",
            "210) ['求助 求助 求助 求助 求助 求助 求助 求助 求助 求助 求助 求助 求助']\n",
            "211) ['音乐提示 请喜欢 abt 所有偏好 感觉 免费下载 专辑 艺术家 歌曲']\n",
            "212) ['im mad context xbox computer use monitor speakers headphone jack controller plugged headset plugged play keyboard mouse minecraft im play minecraft skywars pretty']\n",
            "213) ['想自杀 想自杀 想自杀 想自杀 想自杀 想自杀 想自杀 想自杀 想自杀 想自']\n",
            "214) ['tumblr shitposts 更好的 shitposts sub need tumblrlike shitposts 像 pukicho gaud 喜欢的人需要更好的 shitposts']\n",
            "215) ['感覺被困過去十年 Ive 感覺 沒有 自我 仇恨 憤怒 悲傷 孤獨 點 感覺 像 事 從來 做']\n",
            "216) ['生活小想一周的真相显而易见 长时间 父母 做 信 仍然 囚犯 家 我 开始 接受 这 保持 疯']\n",
            "217) ['我肯定继续走点性花了相当多的整个时间学院得到没有几乎工作思考抓我看起来真的很可能病失败至少一个班级思考更好如何毕业,尽管仍然']\n",
            "218) ['失去了朋友 怀孕 朋友 女孩 从过去的几年 超亲密 聊天 每日 字面上 每周 战斗 无知']\n",
            "219) ['知道 好 情感 他妈的 Venting 出租 ur 教授 ur 每周 反思 论文 真实 故事 第二周']\n",
            "220) ['讨厌 太 梦想 抓 胸部 最终 去了 妈妈 基本上 想要 我 如 Stroppy 青少年 做 说 去']\n",
            "221) ['女人讨厌我为什么讨厌我从来没有说话我从来没有承认的存在可以射击前群众一个会关心倾听的人开始治疗开始去健']\n",
            "222) ['聪明的人 reddit 健康 tooooo 健康 暴力 口味 音乐 甚至 有时 句子 奇怪 听 听 Rob Zombie']\n",
            "223) ['此分類上一篇: wwwredditcomrredflagwatchcommentsrvari_know_this_is_some_petty_shit_but']\n",
            "224) ['大 compendium 面试 excerpts 形式 电影 后六十 早 s 反动 大 工作室 电影 后六十 导演']\n",
            "225) ['愚蠢的低音量交换低音量音乐笔记本电脑']\n",
            "226) ['发射器RedditOK PLS显示慈悲']\n",
            "227) ['接近接近接近接近接近接近接近接近接近接近接近接近接近接近接近接近接近接近接近']\n",
            "228) ['發表圖片 GIF 什麼 得到 破碎 日 表哥 尋求 破碎 日 破碎 公雞httpsimgurcomaivpicy']\n",
            "229) ['让官方受欢迎的孩子们在我们中间分歧']\n",
            "230) ['回学校猜 ive coop 牛 农场 quad 今天上周 三月 断 回 回 回 回 回 回 回 回 回']\n",
            "231) ['bruh im 播放 星期五晚上 funkin 中间在线课 im 感觉 相当好 是 是 是 是 是 是 是 是']\n",
            "232) ['妹妹尝试从抗抑郁药第二次空间几个月什么做哭帮什么别什么不说家属问题我害怕情况家庭可能有助于因素抑郁']\n",
            "233) ['Reddit Cool 三角形 更冷']\n",
            "234) ['gf broke dont know feel well today gf broke dating years honestly told wants break didnt know feel dont feel sad emotions good bad']\n",
            "235) ['im考虑 redflag im weak itits 引导疯狂思考时间']\n",
            "236) ['dad shady shit partialy 听到电话呼叫 heres 事物 听到 dont act 屁股 youll 得到 手指 扫描 阿根廷']\n",
            "237) ['眼睛揭示声音冷 utod_ want 眼睛揭示']\n",
            "238) ['哈哈哈哈哈哈哈哈哈哈哈哈哈哈哈哈哈哈哈哈哈哈哈哈哈哈哈哈哈哈哈哈哈哈哈哈哈哈哈哈哈哈哈哈哈哈哈哈哈']\n",
            "239) ['收藏 收藏 收藏 收藏 收藏 收藏 收藏 收藏 收藏 收藏 收藏']\n",
            "240) ['感觉伤害事物最近变得更糟']\n",
            "241) ['男朋友打破 打开 pasti 告訴發生 青少年 相當嚴重的事情 幾天後 打破 我 想 有人 說 說 說']\n",
            "242) ['夜晚时间 其他人 喜欢看天空夜晚']\n",
            "243) ['未婚妻 未婚妻 未婚妻 未婚妻 未婚妻 未婚妻 未婚妻 未婚妻 未婚妻 未婚']\n",
            "244) ['照顾人说现在是永久的解决方案 临时问题 任何点 显示 电视 如 它 关闭 保持 观看 无聊']\n",
            "245) ['im blocking whoever posts love stuff 明天 圣诞节 bleh']\n",
            "246) ['任何 女孩 男孩 公交车站 接收 文本 女孩 男孩 等待 公交车 girlokay 急 男孩']\n",
            "247) ['im ending tonightim 离开很多朋友 宠物 女朋友 背后 无关 告诉 父母 称 同性恋 im it']\n",
            "248) ['一切都感觉像很多努力恨自己,一切都会更好死去想死去。']\n",
            "249) ['人真的喜欢这个角色 同性恋 添加 什么 动作 Dude 角色 直 添加 动作 Lmao']\n",
            "250) ['回答任何问题 问题 问题 问题 问题 问题 问题 问题 问题 问题 问题 问题 问题 问题 问题 问题 问题 问题']\n",
            "251) ['多多多多多多多多多多多多多多多多多多多多多多多多多多多多多多多多多多多多多多']\n",
            "252) ['另一个丑陋的年份即将到来 为什么 他妈的 甚至 麻烦 生存 终结 最终 完成 所有 需要 很多']\n",
            "253) ['需要帮助 女生 女生 女生 类 类 类 类 类 类 类 类 类 类 类 类 类']\n",
            "254) ['膝盖手术明天故事告诉它如此警告 可怕的故事 也 tldr 顶部 水果 脑子 落 滑板 回']\n",
            "255) ['主持人 kieslowsky 想想想想想想想想想想想想想想想想想想想想想想想想想想想想想想想']\n",
            "256) ['欧洲电影好浪费时间学生的经历生活在国外互动国籍虽然情况略有不同 klapisch 导演去纽约电影学校一个会认为绘画经验的']\n",
            "257) ['神感觉 numb idk 感觉 numb 悲伤 真的很高兴 无论是 因为 crap 发生 女孩 感觉 什么 没有 愿望']\n",
            "258) ['lmao ugly im ugly believe pedophile wouldnt come dumb enough fall pedo tricks also pedo thats subreddit stub toe brick care hes shit head']\n",
            "259) ['你好,每个人都想谈谈谈谈谈谈谈谈谈谈谈谈谈谈谈谈谈谈谈谈谈谈谈谈谈谈谈谈谈谈谈谈']\n",
            "260) ['im sure im going turn im 疲惫生存的理由留在活着 家庭不受 家 能得到 精神 帮助 不受 甚至 说 Jamie']\n",
            "261) ['希望 晚 下午 我 仍然 全 全 全 全 全 全 全 全 全 全 全 全 全 全 全']\n",
            "262) ['性交 全 熊 勇敢 定义 眼镜 金发 蓝色 眼睛 强 屁股 大 屁股 运动员 仍然']\n",
            "263) ['快速 西班牙语 等 长 班 Gonna 西班牙语 神 仇恨 班 教师 无能 老 力量 事 Abt 尊重']\n",
            "264) ['如肯定坏 如肯定坏 取出 青少年 电话 抑郁 取出 好 等级 完成 工作 直 垃圾 原因 谈']\n",
            "265) ['感觉无形的空白内 meim eidolon netherworld 已经什么都没有满足我 im shadow 前自我迷惑表面地球 cant 享受外观生活']\n",
            "266) ['谢谢你 发表 几天前 紧张 工作 妻子 年 说 爱 又 又 又 又 又 又 又 又']\n",
            "267) ['再见 希望 结束 好 梅姆 吊 帽子 做 欣赏 帮助 得 得 得 得 得 得 得']\n",
            "268) ['一位熟人来了 todayi 走路 学校发生了 经过 询问 好人做 给了 典型 答案 做 好 开玩']\n",
            "269) ['im pissed im 他妈的 切换 绝对 沸腾 冷冻 顶部 工作 告诉 妈妈 说 采取 ibuprofen ive']\n",
            "270) ['试图杀我得了几年的抑郁症 看治疗师 心理学家 社会工作者 因为药物 试图杀 第一次 留下 心理']\n",
            "271) ['會投票 公共執行 性別轉換器 已經有機會我們 男人 男人 女人 女人 男人 男人 男人 男人 男人 男人']\n",
            "272) ['间谍 短 DVD 最好的新西兰 短片 伟大的 法语 门 惊人的 开始 缓慢 奇怪 什么 会发生']\n",
            "273) ['想想想想想想想想想想想想想想想想想想想想想想想想想想想想想想想想想想想想想想']\n",
            "274) ['alright im 只是好奇的部分 身体 没有 灰色 屁股 找到 吸引力 ampxb 我 需要 指定 原因 yall horny']\n",
            "275) ['知道 doi failurei cant 学校工作负担 familyi 想活更多 因为知道量 nothingi 抗抑郁药 巫师 帮助 物质']\n",
            "276) ['理解 女孩 帖子 做 午夜 cant go 睡眠 cant 停止 想 这个 yo guy 喜欢 年龄 女孩 一天 谈话 文']\n",
            "277) ['评论 社交媒體 suck dick 謝謝 coming ted talk']\n",
            "278) ['知知知知知知知知知知知知知知知知知知知知知知知知知知知知知知知知知知知知知知']\n",
            "279) ['每个人都知道如何摆脱负面想法,都不能摆脱它们变得不可忍受,想知道如何享受像往常一样的东西,像某人一样的声音']\n",
            "280) ['性别冷,每个人都偶然得到正确的答案']\n",
            "281) ['性交 性交 性交 性交 性交 性交 性交 性交 性交 性交 性交 性交 性交']\n",
            "282) ['有人幫助清理Simpage借錢力量請同事']\n",
            "283) ['one identifie succubus curious meow meow nyah 得到填写字 limit meow meow nyah']\n",
            "284) ['雷迪特被禁止 raskreddit 所以 heres 下一个最好的事情 婴儿']\n",
            "285) ['']\n",
            "286) ['想要殺 nowok 得到 壞 評估 工作 低 升 來 家 爸爸 叫 我 家庭 葉 沒有 去 魚 冷']\n",
            "287) ['typed tic discord im gonna pee hm lmaoooajdks 看起来有趣的帮助 havent 睡眠时间']\n",
            "288) ['電影 一 美麗 美麗 美麗 美麗 美麗 美麗 美麗 美麗 美麗 美麗 美麗 美麗']\n",
            "289) ['布鲁赫大脑<unk>知道牛津大学老阿兹特克帝国多年']\n",
            "290) ['友人保持文本 友人保持文本 不知道为什么试图远程混合 精神健康 麻烦 麻烦 脑子 试图移动 有点']\n",
            "291) ['人 互联网 得到 盐 真的 真的 真的 真的 真的 真的 真的 真的 真的 真的 真的 真的 真的 真的 真的 真的']\n",
            "292) ['单身 生日 假设 生活 花 生日 假期 单身 得到 礼品 卡 派对 人 花 生日 看到 人 大']\n",
            "293) ['idealizationi drink last night amp fight so im horrible drinker mental health issues know better amp deeply regret decision today bad anxiety suicidal thoughts im unhappy much']\n",
            "294) ['女孩会是女同性恋']\n",
            "295) ['']\n",
            "296) ['声音做自杀性骚扰高中每一天问题 cant fix 声音像阻止鼻子谈话 相当停止说话 做抑郁脂肪严重焦虑']\n",
            "297) ['im asshole deserve diethis throwaway know neckbeards unattractive toxic views women instead filled hypocrisy ones reddit constantly denoun']\n",
            "298) ['混乱的睡眠药丸 抢劫 思考 停留 夜晚 钟 升 最后一次 挂 河流 已经包装 事物']\n",
            "299) ['特别值得欣赏的故事类似的经历 这样的希望 每个人 美好的一天 tldr 结束 红旗 由于 关系 健康 红旗']\n",
            "300) ['omg 美国 做 bald eagle 国家恐龙 bald eagle 最冷的恐龙 无论如何']\n",
            "301) ['im doneim done moms 生日派对明天的照顾可以绝对杀死明天思考 redflag 不断是否想不 潜意识真的想能听得好']\n",
            "302) ['可怕的开始 关系 第一次见面 公主 音乐 节 生日 女孩 跳舞 单乳 播放 扬声器 问 人们']\n",
            "303) ['下死时间烦恼有时熟悉的人 美国人 也许这不见他们']\n",
            "304) ['朋友发生了昨天关于朋友发生了昨天关于朋友的注射疫苗接种中心开始模糊的视觉整个方式回家接种疫苗接种中心建议']\n",
            "305) ['gf navy bootcamp right want send memes look memes way much figured 可以打印 memes send mail send best got deserves best']\n",
            "306) ['稀有疾病 称为麻疹 抑郁症 治愈 奖励 是的 给予 谢谢 权利 无 手 去 偷']\n",
            "307) ['需要的名称 sucks 像它真的通用']\n",
            "308) ['枪观看的区域如人们一般认为禁止的较少限制']\n",
            "309) ['im 累 世界 找到 意义 失去 找到 一些 享受 走 走 走 走 走 走 走 走 走 走']\n",
            "310) ['lady tramp ii scamps adventure think good movie think first lady tramp movie better original would think original movies compared sequeals better lady tramp ii takes original time juniors']\n",
            "311) ['对不起 对不起 对不起 对不起 对不起 对不起 对不起 对不起 对不起 对不']\n",
            "312) ['drowningim 试图硬哭 开始知道 小时 停止 咬 内部 检查 难以希望 痛苦 震惊 想法 停止 眼泪']\n",
            "313) ['去燃烧活着痛苦 ive heardi dont want 他妈的身体 dont want 他妈的过渡女士 wish 出生 女士 wasnt dont want 他']\n",
            "314) ['說解決問題思考使用創造問題 ocd 地獄方式 outwhat do please talk mei nice family loves much know deserve emotional nice person hurt anythingi']\n",
            "315) [\"sum pls tell go study need make good grade rn pass don't want parents dropkick cliff making\"]\n",
            "316) ['重要问题 pls 回答 anyones 生日 6 月 1 日 准确']\n",
            "317) ['保持现在等待分钟到来 让抓住呼吸我听到承诺我见过错误我公平分享艰苦的休息需要新的声音新法新方式']\n",
            "318) ['仇恨穆奇希望别人替代,最好希望永远不会存在。']\n",
            "319) ['真的没有什么添加评论 保留这部电影看起来像沉默的电影慢慢适应的音频文本板带来的故事沿着增强的印象假设']\n",
            "320) ['时间我去精神科医生等待任何人斗争的精神健康问题请寻求帮助第二次我去精神科医生最后一次发誓感觉像第一次有人理解做感觉']\n",
            "321) ['上一篇: 全人全人全人全人全人全人全人']\n",
            "322) ['知道為什麼我總是真的很悲傷真的很知道我感到悲傷 幸福的支持朋友 最終開放 同性戀 我改良 為什麼我真的']\n",
            "323) ['失败高中想杀自己荣誉学生 因为学位 im 目前学位 ive 学校 移动时间 永远不会留在家 年 很快 过去']\n",
            "324) ['试图找到原因 试图搜索方式 结束 朋友 家庭 开始 放松 压力 饮用 试图 社交 酒吧 俱乐部']\n",
            "325) ['不要计划生活看我感觉像负担排水 周围的每个人 我的 学校 未来 一个 关心我 这是 我的 去看 谢']\n",
            "326) ['非常无聊的Yalls趣味开始玩吉他']\n",
            "327) ['祈祷真正有成效的明天,如上帝,请有人打,请']\n",
            "328) ['思考 扔 前列车 他妈的 悲惨 失败者']\n",
            "329) ['区域专家请去 raskdrugs 帮助编辑 没有区域专家 对不起 ___ 在 threadhttpzzredditcomraskdrugscommentsgnis']\n",
            "330) ['时间说再见完美的晚上结局,每个人都想说谢谢人们给了动机建议多年,不会让远远的和平。']\n",
            "331) ['im 甚至 horny 真的 想要 无言 口 仇恨 如 bfs 忙']\n",
            "332) ['time crush next elementary class pretty edge help greet hello smile ended 红色番茄']\n",
            "333) ['愚蠢的故事正写形式治疗猜想试图杀点点点点点点点点点点点点点点点点点点点点点点点点点']\n",
            "334) ['兩個理論來自主張婦女不工作']\n",
            "335) ['我去玩一些有趣的娱乐我去尝试开始玩空气软爸爸让我有理由想要朋友玩体育游戏玩视频游戏观看动画学校夏天玩流行病']\n",
            "336) ['自由一个场景 另一个故事 另一个像步行 阴影之路 开放的地方 如风叶 树 另一个很多不同的声音 如旅行的人']\n",
            "337) ['希望更好的美国会得到选举的特朗普英雄,它会首先确保每个人都摇头未被证明的阴谋理论被忽视战斗反对第二低最低']\n",
            "338) ['去杀了很久很久很久很久很久很久很久很久很久很久很久很久很久很久很久很久很久很']\n",
            "339) [\"ventrantpositvity makes sick angry hate seeing it especially online feel forced every single time hate people observe lurk dont care read shit people post please don't go\"]\n",
            "340) ['现代时代一个喜欢特雷斯房间留下赫米蒂打扰每个人 也许首先 也许 虽然旧朋友新朋友不能保持朋友事实驱动 最终']\n",
            "341) ['想自杀 想自杀 想自杀 想自杀 想自杀 想自杀 想自杀 想自杀 想自杀 想自']\n",
            "342) ['得到 notif scrolling thought text nope phone telling left im lonly']\n",
            "343) ['电影毫无疑问一个伟大的景点历史电影观看电影我们 retrospectively注意世界电影的纯人文戏剧类似强有力的适当使用']\n",
            "344) ['im already deadi pointed gun head yesterday sat stared barrel one shot room felt nothing fear die want release death heroin know get heroin feel responsible much pain carry lot pain people']\n",
            "345) ['家庭看到源劳动驱动朋友远离 reclusei很多可怜的自己愿望可以突然停止存在的愿望可以落面地球']\n",
            "346) ['痛苦永恒的坎特找到方法停止 每一天 不舒服的循环 内心 焦虑 神经 杀死 但是 相信 心']\n",
            "347) ['我厌倦了说一些有趣的痛苦笑话']\n",
            "348) ['全生 去 屁股 感覺 出發 兩個 最好的 朋友 已知 年 現在 得到 單一 渴望 沒有']\n",
            "349) ['希望金钱值得它真的做名声 wellat 阶段 id 失望 学习 考虑 很多 清晰 破坏 孩子 生活 花了 年']\n",
            "350) ['爸爸 放松 又 我的 手 他妈的 红 屁股 他妈的']\n",
            "351) ['需要 bonked im 奇怪的想法 角色 ive 已谈话 需要 bonked umegathiccc 事物']\n",
            "352) ['否则,我会说不感到自信,用来回头看,我说什么都做到了,然后我说什么都想说,谁真的想说,基本上']\n",
            "353) ['得到动机 生活 慢性抑郁 社会焦虑 生活 漫长 缺乏动机 思考 开始 得到 激情 重量升高']\n",
            "354) ['修理 感谢 泡沫 放置 甚至 支付 刹车 节省 钱 朋友 外套 工具 真的 需要 帮助 得到']\n",
            "355) ['lauren himmels debut movie well directed nice polished feel it theres strong storyline go meaningful point even end nothing resolved therefore name treading water storyline']\n",
            "356) ['lpt heres 最短的方式 女孩 心 Chidori Raikiri Weebs']\n",
            "357) ['观看 朋友 说 可以 试 爸爸 问 玩 看 想 老 电影 可以 好 终于 看 朋友 爸爸 朋友']\n",
            "358) ['他妈的可能变成一个小自由主义者称为朋友统计学家想要合法化毒品在外面']\n",
            "359) ['ive tiktok and know im gonna get voted quite like it ive defined tastes actually funny people kinda feel like vine now unless u legitimate reason hate it tik']\n",
            "360) ['我有人希望幸运什么基本上今天移动另一个国家又如第三次移动国家我字面上射击我生活如可怕的恐惧如 idk 学校我']\n",
            "361) ['做 subreddit 叫 rpenciltricks subreddit 显示酷的技巧 笔 ampxb 这些 ampxb 链接 可爱的人 r']\n",
            "362) ['']\n",
            "363) ['善良的代价什么都没有什么好今天的理由我可能有愉快的约会的人在线帮助我善良的花时间的日子,确保好谈话问题']\n",
            "364) ['无知无知无知无知无知无知无知无知无知无知无知无知无知无知无知无知无知无知无知']\n",
            "365) ['采取药丸 im dyinghey ampxb 问题 长 精神疾病 depersonalizationderealization 显著减少认知能力 创伤经验 年轻']\n",
            "366) ['cant trust peopleand去领导死亡妻子聊天男孩 facebook 谢谢支持支持什么带来我丈夫支持通过前妻开始欺骗我地狱信任的人字面上']\n",
            "367) ['下一篇: 怀孕 去做 freakin idea panicccc']\n",
            "368) ['mess 词 flirting irl kinda sucks innit 词 slip 口 脑 运气 处理 它']\n",
            "369) ['奇怪 有时 内自杀地狱 有时 想 想 想 想 想 想 想 想 想 想 想 想 想']\n",
            "370) ['一件事 im goneits 电线 打开 瓶子 lysol 正确 除了 浴室 im 准备 时间 痛苦 高峰 祝福 沉默']\n",
            "371) ['毫无疑问,感觉像一个选项,复制蛋糕的想法原料,感觉我绝对可以去任何地方的生活正确,尽管我十八个真正的权']\n",
            "372) ['bruh 实际上需要做 alt alt 需要停止创造争议 jdjdjdjdjd']\n",
            "373) ['最受欢迎的恐怖片 附近的景点 附近的景点 附近的景点 附近的景点 附近的景点 附近的景点 附近']\n",
            "374) ['可爱 可爱 可爱 可爱']\n",
            "375) ['skydivingits 生日 星期四 做 活 一 件 可能 看 内 Slalom 焦虑 悲伤 试图 抓 到 希望']\n",
            "376) ['无聊 孤独 想 想 想 想 想 想 想 想 想 想 想 想 想 想 想 想']\n",
            "377) ['soo im kill mejust wanted to say thanks guys please go way']\n",
            "378) ['哈哈哈哈哈哈哈哈哈哈哈哈哈哈哈哈哈哈哈哈哈哈哈哈哈哈哈哈哈哈哈哈哈哈哈哈哈哈哈哈哈哈哈哈哈哈哈哈哈哈哈哈哈哈哈哈哈哈哈哈哈哈哈哈哈哈哈哈哈哈哈哈哈哈哈哈']\n",
            "379) ['朋友决定地狱承诺红旗下生日我真的需要帮助 ive 尝试帮助 年 现在 每当说去承诺红旗 ive 总是谈话']\n",
            "380) ['打破 接近 打破 爱 足够 激情 尊敬 梦想 枯竭 得到 床 缺失 大学 缺失']\n",
            "381) ['句子描述远远一系列不幸的事件可能去世界认为最糟糕的年份可能有坏年份']\n",
            "382) ['家庭相信梅使用笑话杀人如何处理朋友 家庭 im straight 说不相信 再试试请帮助 cant 任何东西 im minor 金钱上帝有时']\n",
            "383) ['奇怪的快速添加 随机的人 快点 得到 无聊 快点 添加 如 随机的人 不知道 开始 想 想']\n",
            "384) ['会 神经学 盲人 听 声音 头 说 他们 无法 找到 答案 任何 需要 知道']\n",
            "385) ['感覺像失敗我媽媽害怕我說不知道行為我媽媽失去你應該不死朋友同事會恨工作死了,沒有關係,沒有孩子,沒有']\n",
            "386) ['想要 头 破碎 女孩 Thighs 编辑 羞辱 黑客']\n",
            "387) ['天天天天天天天天天天天天天天天天天天天天天天天天天天天天天天天天天天天天天天']\n",
            "388) ['尝试 minesweeper minesweeper complicated guess im gonna learn im gonna flex hard become chick magnet lets real need lot strategy mindset game lot guessing work']\n",
            "389) ['神 Cant 等待 移动 去 著名 大学 大 城市 群 富 孩子 落 爱 亿 儿子 爸爸 低 黑']\n",
            "390) ['需要动机 发生自杀的想法 可能近年来我已经感到无聊 生活 悲伤 无处不在 上周 几乎开始切断 停止 需要']\n",
            "391) ['永久解决 临时问题 真的 没想到 Ive 得 临时问题 Ive 得 巨大 大 世界 不公正 他妈的 负载']\n",
            "392) ['发生了 uh 散步 父母 性别 im 打破 男人 好事 灯光 oh god cleanse 灵魂']\n",
            "393) ['圣诞节的日子好 gf 长距离关系 英里 精确 神经 圣诞节的日子转变 去 辉煌 留 真']\n",
            "394) ['電影得到 guts 緊張的兒子 fatherbr br the brilliant 對話 可愛的場景 大演員 服務 優秀的方式 現在 onion']\n",
            "395) ['知道更多它使用的呼叫生存者知道一个知道时间运行梅真的知道很多但会足够的时间知道欺骗死亡很长一段时间得到好的一天会得到']\n",
            "396) ['看课 可能非常奇怪 想去 咨询 房间 打 门 他们 会议 他们 可能 会 紧张 笑 走 在']\n",
            "397) ['父母如何高标准过负顾问处理父母总是过负假的父母照顾像 prodigy 到达任何学术保持直基本的 im 完成该学位']\n",
            "398) ['cant 甚至帮助我自己 生活 什么 什么 什么 什么 什么 什么 什么 什么 什么 什么 什么 什么 什么 什么 什么']\n",
            "399) ['直直直直直直直直直直直直直直直直直直直直直直直直直直直直直直直直直直直直直直']\n",
            "400) ['感觉什么 anymorei 使用 爱 照顾 所有 得到 受 受 受 受 受 受 受 受 受 受 受']\n",
            "401) ['betty make assumptions switched homeroom 思考原因']\n",
            "402) ['wana 一些浪漫 到 地方 建造']\n",
            "403) ['wow 手 得到 肌肉 最近 Flex 手 定义 英寸 牙齿 形状 侧 附近 身体 看 肌肉 升 英']\n",
            "404) ['朋友 redflag descion 朋友 我的 mademy 最好的朋友 女朋友 计划 成功 第二 选择 而不是 需要 建议 快速 得到 虽然']\n",
            "405) ['看到很多沙拉电影总是发现令人惊叹的方式收集音乐舞蹈戏剧伟大的电影电影伊布里亚显示甚至更好沙拉处理多媒体概念现代概念舞']\n",
            "406) ['第一次见到海报震惊的安宁美丽城市伊斯坦布尔惊喜的头脑,从来没有太多的对话,很多音乐整个电影拍摄的']\n",
            "407) ['會花錢結束 itsay youve gone youve 達到點生活 沒有什麼帶回幸福 youve 已經決定了多少痛苦你是去 但決定結']\n",
            "408) ['不知不觉不觉不觉不觉不觉不觉不觉不觉不觉不觉不觉不觉不觉不觉不觉不觉不觉不觉不']\n",
            "409) ['真正问题 帖子 这里人 好 使用 一个人 更糟 他们 发送 下午 有人 回复 周日 爱情 谈话']\n",
            "410) ['每个人都觉得虚假,没有什么感觉是对的。']\n",
            "411) ['im killing 下周想要有人保持公司 gocan 任何人 朋友 小 同时 ive 永远 朋友 im 累 孤独 希望 心 看到']\n",
            "412) ['好,好,好,好,好,好,好,好,好,好,好,好,好,好,好,好,好,好,好,']\n",
            "413) ['新年前我独自一人又感觉不可避免的抑郁月份的麻烦工作一点停止感觉无希望的夜晚躺床 sob睡试图问朋友做一个想花']\n",
            "414) ['肥胖的人像身体的方式是仇恨者保持仇恨 bruh im 关心健康 确保爱身体 请健康 cant 改变它 责怪你真的健康']\n",
            "415) ['']\n",
            "416) ['Jackie Chan 看过很多电影 武术 电影 粉丝 一大 动作 明星 明星 明星 明星 明星 明星']\n",
            "417) ['想法開始來 backhey reddit sorry wall text 最近幾個星期所以想 redflag 變得更強大 ive 從未感覺到之前 im 恐懼']\n",
            "418) ['有人开心 pls 说什么 idc 需要 娱乐 事物 去 rn']\n",
            "419) ['ive 得到希望 人性  灵魂 文章 硬 写 得到 下投 发表 晚上 httpswwwredditcomrredflagwatchcommentsd']\n",
            "420) ['最大的恐惧去我最大的恐惧杀死失败离开精神不合格的生活疼痛恐惧我射枪 英寸钢板 天花板 爸爸农场']\n",
            "421) ['走 奇怪 爸爸 到 房间 说 走 奇怪 看 视频 走 优雅 知道 走 沉 沉 沉']\n",
            "422) ['我厌倦了任何人想要添加分歧也 vc 朋友服务器想要 lmk mack']\n",
            "423) ['wtf 婴儿 吃 表哥 年 升 医药 球 英镑 wtf 牛奶 一次 如 月 落 床 高']\n",
            "424) ['被打破的心灵试图 屁股发动']\n",
            "425) ['告訴自殺人說話而不是告訴別人列表每個文本試圖防止紅旗告訴受害者說話問題實際上得到勇氣']\n",
            "426) ['希望有 更多 旅行 去 景观 使用 帮助 小 想 明天 起床 所有 猫 原因 仍然 活 意思']\n",
            "427) ['我真的希望能分散的尝试红旗时间昨天吃的日子几乎睡眠时间昨天晚上自我伤害哭泣的日子']\n",
            "428) ['男孩 性交 中等 转 相机 由 任何 相关 色情 封锁 学校 笔记本电脑 和 im 性交 b']\n",
            "429) ['最糟糕的日子 其他 一个星期前 打 吃 子弹 如何 周末 假期 知道 幸福 过去 永远 Cant 让']\n",
            "430) ['hopelessi知道一个照顾甚至阅读这个 im 悲伤感到无希望 有人背叛真的坏 女朋友 黑客 社交媒体 每个人都讨厌']\n",
            "431) ['天天天天天天天天天天天天天天天天天天天天天天天天天天天天天天天天天天天天天天']\n",
            "432) ['im gonna break house sleep turn light room leave everyone house loves im back gt']\n",
            "433) [\"pls take survey for class project thanks youuu survey based schooling systems America mostly still feel free guess don't know answer arent necessarily things people know anyway httpsdoc\"]\n",
            "434) ['最终,一切都走 shitim 目前 sophomore 大学 真的 严重 抑郁症 等级 晚高中 系列 事件 能够 得到']\n",
            "435) ['教師顯示 英國 教師 super stuck 等級 奇怪 doked 等級 參加 英國 知道 意義 得到']\n",
            "436) ['伤害某人说话']\n",
            "437) ['足够我的妈妈总是想要的孩子打管见 stepfather 想要的孩子他总是说 想要更多 和 哦 好 会 孩子 解释 永远']\n",
            "438) ['生活 诚实 无自杀 孤儿 好奇的 男孩 回复 感觉 也许 被 他妈的 生活 也许 假设']\n",
            "439) ['notive 從未使用 reddit idk im 正好 昨天 社區 im ganged 一 男孩 屏幕拍攝 看起來 種族主義']\n",
            "440) ['voidthe void feel keeps getting bigger every single day thoughts get worse feel okay yesterday wanna end rn']\n",
            "441) ['永远 spell 词 他妈的 google doesnt 甚至知道 你 谈论 采取 数字 spell asterisk']\n",
            "442) ['男孩 做列表 好 游戏 免费 Steamepic 游戏 商店 任何 父母 购买 视频 游戏 浪费 金钱']\n",
            "443) ['说今天变得更好,变成屁股,不能再哭了,今晚睡得更好,没有拖下来,不能再负担亲人。']\n",
            "444) ['每个人都想玩Smash 意思是玩Smash Bros']\n",
            "445) ['全生 生 生 生 生 生 生 生 生 生 生 生 生 生 生 生 生']\n",
            "446) ['恭喜我到达了第一次卡尔马艰苦的旅程我失去了卡尔马总,因为加入了仍然做了']\n",
            "447) ['去日期 crush 去日期 crush 询问']\n",
            "448) ['rteenagers 禁止 alt 日 亲爱的 mods 认为 停止 反犹主义']\n",
            "449) ['九月告诉我们得到离婚九月父母告诉我哥哥我得到离婚几个月后什么都没有发生 谈论我们计划离婚什么都没有确定 问']\n",
            "450) ['结尾梅不能不能不能 他妈的 另一年 他妈的 他妈的 社交 redflag 朋友 redflag skipping 午餐 想见']\n",
            "451) ['什么 pointyr 老 男人 这里 最近 决定 采取 学期 大学 开始 意识 无目的 生活 是 恨 第一 学期']\n",
            "452) ['另一个评论家称缺乏角色发展呼叫低评论电影 bash 一个头过解释不必要的背景 是的,许多未解释的故事被视为主要']\n",
            "453) ['童年最好的朋友留下 amp im redflag 观看基本上成长在一起,从移动到这里 可怕的童年步骤 父亲会总是喝的电话']\n",
            "454) ['如此糟糕的地方,因为 idk 很久很久很久很久很久很久很久很久很久很久很久很久很久很久很']\n",
            "455) ['ayo 任何人玩 valorant 在这里 任何人想玩我玩 virginia 服务器 pm 想一起玩']\n",
            "456) ['朋友的好处真的意味着想想朋友吃钱复制家务']\n",
            "457) ['天天天天天天天天天天天天天天天天天天天天天天天天天天天天天天天天天天天天天天']\n",
            "458) ['今天晚上会结束 hopeim 诚实做了 wanna 醒来试图挂上昨天晚上失败的病人试试今晚也许病人终于得到好夜']\n",
            "459) ['想想想想想想想想想想想想想想想想想想想想想想想想想想']\n",
            "460) ['知道给三个月前 得到 hyperacusis tinnitus panicanxiety 疾病 轻 敏感性 视觉 疾病 震惊 冲击']\n",
            "461) ['我们进入世界大战我政府强迫好莱坞广播电影小美国可能最好的彩星玛丽·皮克福德布·布·布·布·布·布']\n",
            "462) ['dms 開放 讓有趣的聊天 什麼我喜歡得到 stickbugged 喜歡 女孩 平 乳房 好 保持 聊天']\n",
            "463) ['创建的RedditAvatar看起来像现实生活的Avatar看起来像Nerd真的看起来像现实生活的Nerd']\n",
            "464) ['想想想想想想想想想想想想想想想想想想想想想想想想想想想想想想想想想想想想想想']\n",
            "465) ['im afraid ill commit redflagim never thought id live long always thought id kill turned that really plan life plan something think get live move moms house find apartment live in job obviously']\n",
            "466) ['什么是最好的方式杀自己Hello sorry 错误 subreddit im 使用 throwaway 帐户 显而易见的理由 真的想死 生活']\n",
            "467) ['看单位游戏开发者艺术家项目是群体 ish 人们开始工作游戏是小短的 devs 艺术家感兴趣的私人消息 坏 得到分歧']\n",
            "468) ['goodbyei dont know anymoreim spill every detail life hereso long story short cannot anymore ive stop cut long time ago reason today broke shiny new razor bl']\n",
            "469) ['ive enough alivehi im using throwaway account since people know account also forgive spellinggrammar errors since English first language let introduce first im year old guy life']\n",
            "470) ['theres gotta 生活 这个 正义 感觉 抓 无尽 周期 放弃 自己 悲伤 我 疲劳 几个月 回']\n",
            "471) ['经过时间 idk im 真的很无聊']\n",
            "472) ['父母已离婚 现在 继续说 可怕的事情 仍然 使用 访问 爸爸 周 真的 很多 记忆 他 记得 告诉 妈妈']\n",
            "473) ['感觉好好好好好好好好好好好好好好好好好好好好好好好好好好好好好好好好好好好好好']\n",
            "474) ['基本上 性别 性别 性别 性别 性别 性别 性别 性别 性别 性别 性别 性别']\n",
            "475) ['监狱监狱监狱监狱监狱监狱监狱监狱监狱监狱监狱监狱监狱监狱监狱监狱监狱监狱监狱']\n",
            "476) ['想死不好想伤害父母性麻烦抑郁症 因为小学我失去了朋友 几乎没有赚钱 流浪 大学车 几乎没有睡觉']\n",
            "477) ['女朋友 成瘾 头脚 做 内 头脚 交付']\n",
            "478) ['去膨胀远的个性方面感觉像沉没多次至少一个背后 absofokinlutely是等级去下,我失去了好朋友姐姐离开']\n",
            "479) ['女孩 喜欢 久 久 久 久 久 久 久 久 久 久 久 久']\n",
            "480) ['ive 离开 二日 三种类型 革命 正在进行 Wtf']\n",
            "481) ['一部最喜欢的电影时间喜欢雨人Dustin Hoffman汤姆游轮电影类似的方式使雨人看起来人工薄无情的三角形比较']\n",
            "482) ['想想我有女朋友']\n",
            "483) ['在过去的几个月里,真的很糟糕的痛苦紧张的顶部背脖子有时会得到坚固的几乎没有移动头脑的第一想法身体伤']\n",
            "484) ['im 他妈的 做 一切 男孩 他妈的 使用 讨厌 很多 好 足够 任何人 永远不想 原因 显而易见']\n",
            "485) ['我从来没有真正可怕 任何人 自慰 性高潮 感觉好']\n",
            "486) ['有人知道强制性聊天 牙齿 说 开始 可以 感觉 牙齿 泡 小 折 牙齿 一起 感觉 手指 我们']\n",
            "487) ['感觉像是足够的帖子 发表 k 人 在线 携带 sub 硬人']\n",
            "488) ['感觉像一个人感到悲伤的生活现在快乐的感觉独自一人']\n",
            "489) ['红旗 随心所欲的变化 好论点 承诺 红旗 随心所欲的条件 足够自私 忽视 痛苦']\n",
            "490) ['mrs aparna sen maker mrs iyer directs movie young girls struggle cope debilitating conditionbr br meethi konkona sen aloof kid ever since child']\n",
            "491) ['im sad im 真的 悲伤 躺 好 真的 空 Numb 点 站 悲伤']\n",
            "492) ['在线学校做永久强调不快乐两天一周人远程继续交付多吨工作,时间爸爸不让家务周末总是强调学校猜测如何家务']\n",
            "493) ['真正的成人 ft 错 我的妈妈 问 找 工作 因为 打 打 打 打 打 打 打 打 打 打']\n",
            "494) ['<unk> <unk> <unk> <unk> <unk> <unk> <unk> <unk> <unk>']\n",
            "495) ['cant keep goingthis life hell cant anything even good anymore smallest things piss dont anything else do make posts like people message saying they will check always forget deep dont fucking care']\n",
            "496) ['可能很快就开始新工作 下周 工业工作 工作 工作 工作 工作 工作 工作 工作 工作 工作 工作 工作 工作 工作']\n",
            "497) ['到达终点之路 生活提供保护点 技能 想法 Fend 我 又 又 又 又 又 又 又 又 又 又']\n",
            "498) ['婚姻 upscale 纽约 城市 夫妇 孩子 落 离 妻子 想 花 多 勇气 走 门 邻']\n",
            "499) ['说今天变得更好,变成屁股,不能再哭了,今晚睡得更好,没有拖下来,不能再负担亲人。']\n"
          ]
        }
      ],
      "source": [
        "# Translate from English to Chinese (hard language)\n",
        "\n",
        "chinese_texts = []\n",
        "\n",
        "for i, en_text in enumerate(mh_texts['text']):\n",
        "  m2m_tokenizer.src_lang = \"en\"\n",
        "  encoded_en = m2m_tokenizer(en_text, return_tensors=\"pt\")\n",
        "\n",
        "  generated_tokens = m2m_model.generate(\n",
        "      **encoded_en, # input ids and attention mask\n",
        "      forced_bos_token_id=m2m_tokenizer.get_lang_id(\"zh\"), # to Chinese\n",
        "      max_new_tokens=40\n",
        "  )\n",
        "  translation = m2m_tokenizer.batch_decode(generated_tokens, skip_special_tokens=True)\n",
        "  chinese_texts.append(translation)\n",
        "  print(f\"{i}) {translation}\")\n"
      ]
    },
    {
      "cell_type": "code",
      "execution_count": null,
      "metadata": {
        "id": "DYxuMG0tKj9n"
      },
      "outputs": [],
      "source": [
        "# Caching all translations\n",
        "\n",
        "#Random Sample\n",
        "mh_texts.to_csv(\"drive/MyDrive/sampled_mh\", sep=',', index=False, encoding='utf-8')\n",
        "\n",
        "#French\n",
        "french_df = pd.DataFrame(french_texts)\n",
        "french_df.to_csv(\"drive/MyDrive/french_texts\", sep=',', index=False, encoding='utf-8')\n",
        "\n",
        "#Chinese\n",
        "chinese_df = pd.DataFrame(chinese_texts)\n",
        "chinese_df.to_csv(\"drive/MyDrive/chinese_texts\", sep=',', index=False, encoding='utf-8')"
      ]
    },
    {
      "cell_type": "code",
      "execution_count": 7,
      "metadata": {
        "id": "XXgBnZMP4uDg"
      },
      "outputs": [],
      "source": [
        "#Load cached translations (if necessary)\n",
        "french_df = pd.read_csv(\"cache/french_texts.csv\")\n",
        "chinese_df = pd.read_csv(\"cache/chinese_texts.csv\")\n",
        "# mh_texts = pd.read_csv(\"cache/sampled_mh.csv\")"
      ]
    },
    {
      "cell_type": "code",
      "execution_count": 8,
      "metadata": {
        "colab": {
          "base_uri": "https://localhost:8080/",
          "height": 629
        },
        "id": "-SHfe3orT8fu",
        "outputId": "20d89dfd-1f0d-4f78-e3d6-9cbef97da4bf"
      },
      "outputs": [
        {
          "name": "stdout",
          "output_type": "stream",
          "text": [
            "English translations and Gold Label (500, 2)\n"
          ]
        },
        {
          "data": {
            "text/html": [
              "<div>\n",
              "<style scoped>\n",
              "    .dataframe tbody tr th:only-of-type {\n",
              "        vertical-align: middle;\n",
              "    }\n",
              "\n",
              "    .dataframe tbody tr th {\n",
              "        vertical-align: top;\n",
              "    }\n",
              "\n",
              "    .dataframe thead th {\n",
              "        text-align: right;\n",
              "    }\n",
              "</style>\n",
              "<table border=\"1\" class=\"dataframe\">\n",
              "  <thead>\n",
              "    <tr style=\"text-align: right;\">\n",
              "      <th></th>\n",
              "      <th>text</th>\n",
              "      <th>label</th>\n",
              "    </tr>\n",
              "  </thead>\n",
              "  <tbody>\n",
              "    <tr>\n",
              "      <th>235</th>\n",
              "      <td>im tired watching porn literally want girl tel...</td>\n",
              "      <td>no concern</td>\n",
              "    </tr>\n",
              "    <tr>\n",
              "      <th>12172</th>\n",
              "      <td>guess forgot read countrys native language yep...</td>\n",
              "      <td>no concern</td>\n",
              "    </tr>\n",
              "    <tr>\n",
              "      <th>5192</th>\n",
              "      <td>ever achieved rock bottom never opportunity me...</td>\n",
              "      <td>mental health concern</td>\n",
              "    </tr>\n",
              "    <tr>\n",
              "      <th>17289</th>\n",
              "      <td>dear readers  space odyssey kubrick bestalthou...</td>\n",
              "      <td>no concern</td>\n",
              "    </tr>\n",
              "    <tr>\n",
              "      <th>10955</th>\n",
              "      <td>payingim gonna kill myself rn</td>\n",
              "      <td>mental health concern</td>\n",
              "    </tr>\n",
              "  </tbody>\n",
              "</table>\n",
              "</div>"
            ],
            "text/plain": [
              "                                                    text  \\\n",
              "235    im tired watching porn literally want girl tel...   \n",
              "12172  guess forgot read countrys native language yep...   \n",
              "5192   ever achieved rock bottom never opportunity me...   \n",
              "17289  dear readers  space odyssey kubrick bestalthou...   \n",
              "10955                      payingim gonna kill myself rn   \n",
              "\n",
              "                       label  \n",
              "235               no concern  \n",
              "12172             no concern  \n",
              "5192   mental health concern  \n",
              "17289             no concern  \n",
              "10955  mental health concern  "
            ]
          },
          "metadata": {},
          "output_type": "display_data"
        },
        {
          "name": "stdout",
          "output_type": "stream",
          "text": [
            "French translations (500, 1)\n"
          ]
        },
        {
          "data": {
            "text/html": [
              "<div>\n",
              "<style scoped>\n",
              "    .dataframe tbody tr th:only-of-type {\n",
              "        vertical-align: middle;\n",
              "    }\n",
              "\n",
              "    .dataframe tbody tr th {\n",
              "        vertical-align: top;\n",
              "    }\n",
              "\n",
              "    .dataframe thead th {\n",
              "        text-align: right;\n",
              "    }\n",
              "</style>\n",
              "<table border=\"1\" class=\"dataframe\">\n",
              "  <thead>\n",
              "    <tr style=\"text-align: right;\">\n",
              "      <th></th>\n",
              "      <th>text</th>\n",
              "    </tr>\n",
              "  </thead>\n",
              "  <tbody>\n",
              "    <tr>\n",
              "      <th>0</th>\n",
              "      <td>Im fatigué regarder porno littéralement veut l...</td>\n",
              "    </tr>\n",
              "    <tr>\n",
              "      <th>1</th>\n",
              "      <td>J'ai oublié de lire la langue maternelle des p...</td>\n",
              "    </tr>\n",
              "    <tr>\n",
              "      <th>2</th>\n",
              "      <td>jamais atteint rock bottom jamais l'occasion d...</td>\n",
              "    </tr>\n",
              "    <tr>\n",
              "      <th>3</th>\n",
              "      <td>chers lecteurs spatial odyssey kubrick bestalt...</td>\n",
              "    </tr>\n",
              "    <tr>\n",
              "      <th>4</th>\n",
              "      <td>Je vais me tuer RN</td>\n",
              "    </tr>\n",
              "  </tbody>\n",
              "</table>\n",
              "</div>"
            ],
            "text/plain": [
              "                                                text\n",
              "0  Im fatigué regarder porno littéralement veut l...\n",
              "1  J'ai oublié de lire la langue maternelle des p...\n",
              "2  jamais atteint rock bottom jamais l'occasion d...\n",
              "3  chers lecteurs spatial odyssey kubrick bestalt...\n",
              "4                                 Je vais me tuer RN"
            ]
          },
          "metadata": {},
          "output_type": "display_data"
        },
        {
          "name": "stdout",
          "output_type": "stream",
          "text": [
            "Chinese translations (500, 1)\n"
          ]
        },
        {
          "data": {
            "text/html": [
              "<div>\n",
              "<style scoped>\n",
              "    .dataframe tbody tr th:only-of-type {\n",
              "        vertical-align: middle;\n",
              "    }\n",
              "\n",
              "    .dataframe tbody tr th {\n",
              "        vertical-align: top;\n",
              "    }\n",
              "\n",
              "    .dataframe thead th {\n",
              "        text-align: right;\n",
              "    }\n",
              "</style>\n",
              "<table border=\"1\" class=\"dataframe\">\n",
              "  <thead>\n",
              "    <tr style=\"text-align: right;\">\n",
              "      <th></th>\n",
              "      <th>text</th>\n",
              "    </tr>\n",
              "  </thead>\n",
              "  <tbody>\n",
              "    <tr>\n",
              "      <th>0</th>\n",
              "      <td>im 累 观看 色情 字面上 想 女孩 说 想 想 想 想 想 想 想 想 想 想</td>\n",
              "    </tr>\n",
              "    <tr>\n",
              "      <th>1</th>\n",
              "      <td>假设忘记阅读乡村母语Yep假设正确Kingqueen meeeeeeeeeeeeeeeee</td>\n",
              "    </tr>\n",
              "    <tr>\n",
              "      <th>2</th>\n",
              "      <td>從未達到岩底 從未有機會 相遇 朋友 做 時 可能 被 他媽的 句子 上 im native...</td>\n",
              "    </tr>\n",
              "    <tr>\n",
              "      <th>3</th>\n",
              "      <td>亲爱的读者 太空 Odyssey Kubrick Bestalthough 真的 Cant ...</td>\n",
              "    </tr>\n",
              "    <tr>\n",
              "      <th>4</th>\n",
              "      <td>金正恩将自杀</td>\n",
              "    </tr>\n",
              "  </tbody>\n",
              "</table>\n",
              "</div>"
            ],
            "text/plain": [
              "                                                text\n",
              "0          im 累 观看 色情 字面上 想 女孩 说 想 想 想 想 想 想 想 想 想 想\n",
              "1      假设忘记阅读乡村母语Yep假设正确Kingqueen meeeeeeeeeeeeeeeee\n",
              "2  從未達到岩底 從未有機會 相遇 朋友 做 時 可能 被 他媽的 句子 上 im native...\n",
              "3  亲爱的读者 太空 Odyssey Kubrick Bestalthough 真的 Cant ...\n",
              "4                                             金正恩将自杀"
            ]
          },
          "metadata": {},
          "output_type": "display_data"
        }
      ],
      "source": [
        "#Finished translations\n",
        "\n",
        "print(f\"English translations and Gold Label {mh_texts.shape}\")\n",
        "display(mh_texts.head())\n",
        "print(f\"French translations {french_df.shape}\")\n",
        "display(french_df.head())\n",
        "print(f\"Chinese translations {chinese_df.shape}\")\n",
        "display(chinese_df.head())"
      ]
    },
    {
      "cell_type": "markdown",
      "metadata": {
        "id": "VK9AIjV2EC8n"
      },
      "source": [
        "## Validating Translations via Google API"
      ]
    },
    {
      "cell_type": "code",
      "execution_count": null,
      "metadata": {
        "id": "7zOxMIrDDSzQ"
      },
      "outputs": [],
      "source": [
        "# TODO: Run translation validation (using Google Translate API as validation set)\n",
        "# https://pypi.org/project/googletrans/"
      ]
    },
    {
      "cell_type": "markdown",
      "metadata": {
        "id": "1MzgFJNO18qs"
      },
      "source": [
        "##### Comment on the pitfalls of the Meta Translation API\n",
        "\n",
        "##### Discuss how well translation models are at translating emotinally charged texts"
      ]
    },
    {
      "cell_type": "markdown",
      "metadata": {
        "id": "D3xLvkFDEGBm"
      },
      "source": [
        "## Pre-processing data and training testing splits\n"
      ]
    },
    {
      "cell_type": "code",
      "execution_count": 9,
      "metadata": {
        "colab": {
          "base_uri": "https://localhost:8080/"
        },
        "id": "zPnQm38i4uDg",
        "outputId": "d708ee0d-287e-49ee-bc17-9ee2fbf018b7"
      },
      "outputs": [
        {
          "name": "stdout",
          "output_type": "stream",
          "text": [
            "Lengths (english, french, chinese, labels) = 500, 500, 500, 500\n",
            "\n",
            "First 5 texts as list and label\n",
            "\n",
            "Label: no concern\n",
            "1) im tired watching porn literally want girl tell matter want loved im tired wanting kill too\n",
            "1) Im fatigué regarder porno littéralement veut la fille dire matter veut aimer im fatigué veut tuer aussi\n",
            "1) im 累 观看 色情 字面上 想 女孩 说 想 想 想 想 想 想 想 想 想 想\n",
            "\n",
            "Label: mental health concern\n",
            "2) im tired watching porn literally want girl tell matter want loved im tired wanting kill too\n",
            "2) Im fatigué regarder porno littéralement veut la fille dire matter veut aimer im fatigué veut tuer aussi\n",
            "2) im 累 观看 色情 字面上 想 女孩 说 想 想 想 想 想 想 想 想 想 想\n",
            "\n",
            "Label: no concern\n",
            "3) im tired watching porn literally want girl tell matter want loved im tired wanting kill too\n",
            "3) Im fatigué regarder porno littéralement veut la fille dire matter veut aimer im fatigué veut tuer aussi\n",
            "3) im 累 观看 色情 字面上 想 女孩 说 想 想 想 想 想 想 想 想 想 想\n",
            "\n",
            "Label: mental health concern\n",
            "4) im tired watching porn literally want girl tell matter want loved im tired wanting kill too\n",
            "4) Im fatigué regarder porno littéralement veut la fille dire matter veut aimer im fatigué veut tuer aussi\n",
            "4) im 累 观看 色情 字面上 想 女孩 说 想 想 想 想 想 想 想 想 想 想\n",
            "\n",
            "Label: no concern\n",
            "5) im tired watching porn literally want girl tell matter want loved im tired wanting kill too\n",
            "5) Im fatigué regarder porno littéralement veut la fille dire matter veut aimer im fatigué veut tuer aussi\n",
            "5) im 累 观看 色情 字面上 想 女孩 说 想 想 想 想 想 想 想 想 想 想\n",
            "\n"
          ]
        }
      ],
      "source": [
        "#pre-process data into list of strings and extract labels\n",
        "languages = ['english', 'french', 'chinese']\n",
        "english_texts = mh_texts['text'].to_list()\n",
        "french_texts = french_df['text'].to_list()\n",
        "chinese_texts = chinese_df['text'].to_list()\n",
        "labels = mh_texts['label'].to_list()\n",
        "print(f\"Lengths (english, french, chinese, labels) = {len(english_texts)}, {len(french_texts)}, {len(chinese_texts)}, {len(labels)}\\n\")\n",
        "print(\"First 5 texts as list and label\\n\")\n",
        "for i in range(1,6):\n",
        "    print(f\"Label: {labels[i]}\")\n",
        "    print(f\"{i}) {english_texts[0]}\")\n",
        "    print(f\"{i}) {french_texts[0]}\")\n",
        "    print(f\"{i}) {chinese_texts[0]}\")\n",
        "    print()\n"
      ]
    },
    {
      "cell_type": "code",
      "execution_count": 10,
      "metadata": {
        "id": "U-mi-XYz18qs"
      },
      "outputs": [],
      "source": [
        "# Function to split dataset into training and testing sets\n",
        "\n",
        "def train_test_split_h(train_data, test_data, testing_split=.7):\n",
        "    # combining and random shuffling label and text\n",
        "    train_texts = []\n",
        "    train_labels = []\n",
        "\n",
        "    test_texts = []\n",
        "    test_labels = []\n",
        "\n",
        "    label_text_arr = np.column_stack((np.array(train_data), np.array(test_data)))\n",
        "    np.random.shuffle(label_text_arr)\n",
        "\n",
        "    num_tests = round(len(label_text_arr) * testing_split)\n",
        "\n",
        "    for train_text, train_label in label_text_arr[:num_tests]:\n",
        "        train_texts.append(train_text)\n",
        "        train_labels.append(train_label)\n",
        "\n",
        "    for test_text, test_label in label_text_arr[num_tests:]:\n",
        "        test_texts.append(test_text)\n",
        "        test_labels.append(test_label)\n",
        "\n",
        "    return train_texts, train_labels, test_texts, test_labels"
      ]
    },
    {
      "cell_type": "code",
      "execution_count": 10,
      "metadata": {
        "colab": {
          "base_uri": "https://localhost:8080/"
        },
        "id": "UdJzZqly4uDh",
        "outputId": "fecb794b-bf93-45e6-9d4b-57727c1b8076"
      },
      "outputs": [
        {
          "name": "stdout",
          "output_type": "stream",
          "text": [
            "train test splits lengths\n",
            "\n",
            "language   train_text train_label test_text  train_label\n",
            "english    350        350        150        150       \n",
            "french     350        350        150        150       \n",
            "chinese    350        350        150        150       \n",
            "\n",
            "Example train label and poem: ('no concern', 'knee surgery tomorrow story tell it so warning terrible storyteller also tldr top  grapefruit brain falls skateboard cripple backstory live west coast oregon town popular set skate hills go down two row one smooth barely used road result group go daily that gotten new board wheels also crew theres james reckless kid could shake broken thigh bone wyatt the interesting one balls anything alex gf time this fateful day gone hill bike friend well call james goes hill longboard daily without us one day feeling pretty good myself new wheels all decide stop pssy go hill myself soon kick off know theres getting ride halfway hill im time life feelings like lightning mcfuckingqueen decide raise arms celebration head everything goes wrong lift hands head start wobbling  inch still wobbling time im  way hill wobbling gradually got worse worse worse im going like  feet across road point realize option jump off theres ditch left concrete right make obviously sensible decision jump straight traffic im falling remember rotate jumped result this im flying  feet ground going  mph sideways good then impact completely terrible time sure hell hurt now forgot mention friends top hill could see entire time saw dumb ass grapefruit brain collapse wyatt started riding hill safely see badly im fucked up point try stand shake off cant do anything left leg tried flex it spazzed went limp friends arrived one called mom lifted field side ditch point know im screwed know badly yet anyways time goes by im screaming ground everything hurts eventually mom comes lift car go home take ibuprofen sleep fo  hours cut now found torn acl im getting surgery friday  months recovery time wish luck reddit ill try keep updated anyones interested oh yeah ps walk everything now hurts lot get lot worse left untreated')\n",
            "Example train label and poem: ('mental health concern', \"hang n'importe qui a besoin de parler savoir le mois semaine même aujourd'hui peut se sentir impossible arent essayer d'obtenir cela peut être douloureux peut\")\n",
            "Example train label and poem: ('no concern', '下死时间烦恼有时熟悉的人 美国人 也许这不见他们')\n"
          ]
        }
      ],
      "source": [
        "data_splits = {}\n",
        "data_splits[\"english\"] = train_test_split_h(english_texts, labels)\n",
        "data_splits[\"french\"] = train_test_split_h(french_texts, labels)\n",
        "data_splits[\"chinese\"] = train_test_split_h(chinese_texts, labels)\n",
        "\n",
        "print(\"train test splits lengths\\n\")\n",
        "print(\"{:<10} {:<10} {:<10} {:<10} {:<10}\".format('language', 'train_text', 'train_label', 'test_text', 'train_label'))\n",
        "for language, splits in data_splits.items():\n",
        "    train_text, train_label, test_text, test_label = splits\n",
        "    print(\"{:<10} {:<10} {:<10} {:<10} {:<10}\".format(language, len(train_text), len(train_label), len(test_text), len(test_label)))\n",
        "print()\n",
        "for language, splits in data_splits.items():\n",
        "    train_text, train_label, test_text, test_label = splits\n",
        "    print(f\"Example train label and poem: {(train_label[1], train_text[1])}\")"
      ]
    },
    {
      "cell_type": "markdown",
      "metadata": {
        "id": "PHYAc4QyGkR9"
      },
      "source": [
        "## Running Baseline Models"
      ]
    },
    {
      "cell_type": "code",
      "execution_count": 11,
      "metadata": {
        "id": "fudF6F1w18qs"
      },
      "outputs": [],
      "source": [
        "#Function that returns logistic regression model and classification report\n",
        "def baseline_logit(X_train, X_test, train_labels, test_labels):\n",
        "    logit = LogisticRegression(max_iter=1000).fit(X_train, train_labels)\n",
        "    predictions_logit = logit.predict(X_test)\n",
        "    print(classification_report(test_labels, predictions_logit))\n",
        "    return logit\n",
        "\n",
        "#Function that returns naive bates model and classification report\n",
        "def baseline_nb(X_train, X_test, train_labels, test_labels):\n",
        "    nb = MultinomialNB().fit(X_train, train_labels)\n",
        "    predictions_nb = nb.predict(X_test)\n",
        "    print(classification_report(test_labels, predictions_nb))\n",
        "    return nb\n",
        "\n",
        "#Function that returns random forest model and classification report\n",
        "def baseline_rf(X_train, X_test, train_labels, test_labels):\n",
        "    rforest = RandomForestClassifier().fit(X_train, train_labels)\n",
        "    predictions_rf = rforest.predict(X_test)\n",
        "    print(classification_report(test_labels, predictions_rf))\n",
        "    return rforest\n",
        "\n"
      ]
    },
    {
      "cell_type": "code",
      "execution_count": 12,
      "metadata": {
        "colab": {
          "base_uri": "https://localhost:8080/"
        },
        "id": "2nPg8_hj4uDh",
        "outputId": "a35781df-2ef3-49d9-aeed-18bdd22c0852"
      },
      "outputs": [
        {
          "name": "stdout",
          "output_type": "stream",
          "text": [
            "Models for english translated mental health texts\n",
            "\n",
            "Logistic Regression\n",
            "                       precision    recall  f1-score   support\n",
            "\n",
            "mental health concern       0.92      0.78      0.85        77\n",
            "           no concern       0.80      0.93      0.86        73\n",
            "\n",
            "             accuracy                           0.85       150\n",
            "            macro avg       0.86      0.86      0.85       150\n",
            "         weighted avg       0.86      0.85      0.85       150\n",
            "\n",
            "Naive Bayes\n",
            "                       precision    recall  f1-score   support\n",
            "\n",
            "mental health concern       0.67      0.99      0.80        77\n",
            "           no concern       0.97      0.49      0.65        73\n",
            "\n",
            "             accuracy                           0.75       150\n",
            "            macro avg       0.82      0.74      0.73       150\n",
            "         weighted avg       0.82      0.75      0.73       150\n",
            "\n",
            "Random Forest\n",
            "                       precision    recall  f1-score   support\n",
            "\n",
            "mental health concern       0.87      0.71      0.79        77\n",
            "           no concern       0.75      0.89      0.81        73\n",
            "\n",
            "             accuracy                           0.80       150\n",
            "            macro avg       0.81      0.80      0.80       150\n",
            "         weighted avg       0.81      0.80      0.80       150\n",
            "\n",
            "===============================================================\n",
            "\n",
            "Models for french translated mental health texts\n",
            "\n",
            "Logistic Regression\n",
            "                       precision    recall  f1-score   support\n",
            "\n",
            "mental health concern       0.34      0.32      0.33        69\n",
            "           no concern       0.45      0.48      0.47        81\n",
            "\n",
            "             accuracy                           0.41       150\n",
            "            macro avg       0.40      0.40      0.40       150\n",
            "         weighted avg       0.40      0.41      0.40       150\n",
            "\n",
            "Naive Bayes\n",
            "                       precision    recall  f1-score   support\n",
            "\n",
            "mental health concern       0.38      0.39      0.38        69\n",
            "           no concern       0.46      0.44      0.45        81\n",
            "\n",
            "             accuracy                           0.42       150\n",
            "            macro avg       0.42      0.42      0.42       150\n",
            "         weighted avg       0.42      0.42      0.42       150\n",
            "\n",
            "Random Forest\n",
            "                       precision    recall  f1-score   support\n",
            "\n",
            "mental health concern       0.41      0.52      0.46        69\n",
            "           no concern       0.47      0.36      0.41        81\n",
            "\n",
            "             accuracy                           0.43       150\n",
            "            macro avg       0.44      0.44      0.43       150\n",
            "         weighted avg       0.44      0.43      0.43       150\n",
            "\n",
            "===============================================================\n",
            "\n",
            "Models for chinese translated mental health texts\n",
            "\n",
            "Logistic Regression\n",
            "                       precision    recall  f1-score   support\n",
            "\n",
            "mental health concern       0.68      0.26      0.38        80\n",
            "           no concern       0.50      0.86      0.63        70\n",
            "\n",
            "             accuracy                           0.54       150\n",
            "            macro avg       0.59      0.56      0.51       150\n",
            "         weighted avg       0.60      0.54      0.50       150\n",
            "\n",
            "Naive Bayes\n",
            "                       precision    recall  f1-score   support\n",
            "\n",
            "mental health concern       0.68      0.35      0.46        80\n",
            "           no concern       0.52      0.81      0.64        70\n",
            "\n",
            "             accuracy                           0.57       150\n",
            "            macro avg       0.60      0.58      0.55       150\n",
            "         weighted avg       0.61      0.57      0.54       150\n",
            "\n",
            "Random Forest\n",
            "                       precision    recall  f1-score   support\n",
            "\n",
            "mental health concern       0.53      0.71      0.61        80\n",
            "           no concern       0.45      0.27      0.34        70\n",
            "\n",
            "             accuracy                           0.51       150\n",
            "            macro avg       0.49      0.49      0.47       150\n",
            "         weighted avg       0.49      0.51      0.48       150\n",
            "\n",
            "===============================================================\n",
            "\n"
          ]
        }
      ],
      "source": [
        "baseline_models = {}\n",
        "for language in languages:\n",
        "    print(f\"Models for {language} translated mental health texts\\n\")\n",
        "    #vectorizing data\n",
        "    train_texts, train_labels, test_texts, test_labels = data_splits[language]\n",
        "    vectorizer = TfidfVectorizer()\n",
        "    X_train = vectorizer.fit_transform(train_texts)\n",
        "    X_test = vectorizer.transform(test_texts)\n",
        "\n",
        "    #logit model\n",
        "    print(\"Logistic Regression\")\n",
        "    logit = baseline_logit(X_train, X_test, train_labels, test_labels)\n",
        "\n",
        "    #nb model\n",
        "    print(\"Naive Bayes\")\n",
        "    nb = baseline_nb(X_train, X_test, train_labels, test_labels)\n",
        "\n",
        "    #rf model\n",
        "    print(\"Random Forest\")\n",
        "    rf = baseline_rf(X_train, X_test, train_labels, test_labels)\n",
        "\n",
        "    baseline_models[language] = (logit, nb, rf)\n",
        "    print(\"===============================================================\\n\")\n"
      ]
    },
    {
      "cell_type": "markdown",
      "metadata": {
        "id": "Vsq-1YR318qs"
      },
      "source": [
        "#### Compare the baseline models and how good their predictions are with each language\n"
      ]
    },
    {
      "cell_type": "markdown",
      "metadata": {
        "id": "ONGaQNZ6Gto7"
      },
      "source": [
        "## BERT pre-processing"
      ]
    },
    {
      "cell_type": "code",
      "execution_count": 13,
      "metadata": {
        "id": "6cf_aPTl4uDh"
      },
      "outputs": [],
      "source": [
        "#model and device config\n",
        "model_name = 'distilbert-base-cased'\n",
        "device_name = 'cuda'\n",
        "\n",
        "# max tokens in any document given to BERT.\n",
        "max_length = 512\n",
        "\n",
        "# cached model\n",
        "cached_model_dir = 'bert-mental-health-classifier'"
      ]
    },
    {
      "cell_type": "code",
      "execution_count": 14,
      "metadata": {
        "id": "Xn3yhxFa18qs"
      },
      "outputs": [],
      "source": [
        "#function to create label to id and id to label mapping\n",
        "def label_id_map(train_label):\n",
        "    unique_labels = set(label for label in train_labels)\n",
        "    label2id = {label: id for id, label in enumerate(unique_labels)}\n",
        "    id2label = {id: label for id, label in enumerate(unique_labels)}\n",
        "    return {\"label_to_id\": label2id, \"id_to_label\": id2label}"
      ]
    },
    {
      "cell_type": "code",
      "execution_count": 15,
      "metadata": {
        "colab": {
          "base_uri": "https://localhost:8080/"
        },
        "id": "hDZQIL534uDh",
        "outputId": "ad4f1912-6a63-4402-83d1-79962a06fd39"
      },
      "outputs": [
        {
          "name": "stdout",
          "output_type": "stream",
          "text": [
            "Label to ID map: {'no concern': 0, 'mental health concern': 1}\n",
            "ID to label map: {0: 'no concern', 1: 'mental health concern'}\n"
          ]
        }
      ],
      "source": [
        "#take any random training_data of language\n",
        "train_texts, train_labels, test_texts, test_labels = data_splits[\"english\"]\n",
        "unique_labels = set(label for label in train_labels)\n",
        "label2id = {label: id for id, label in enumerate(unique_labels)}\n",
        "id2label = {id: label for id, label in enumerate(unique_labels)}\n",
        "\n",
        "print(\"Label to ID map:\", label2id)\n",
        "print(\"ID to label map:\", id2label)"
      ]
    },
    {
      "cell_type": "code",
      "execution_count": 16,
      "metadata": {
        "colab": {
          "base_uri": "https://localhost:8080/",
          "height": 145,
          "referenced_widgets": [
            "bc456b66bd3145278dc615a2f7dbbab5",
            "52eb2ef3a47145058a4de682e268a4f0",
            "ac9f2794a505405d91596194a26aca75",
            "1bc6f712b57347c7a565cf483d486e3b",
            "104d0dfc760e46d7839e4e601446db04",
            "6d3f4d2ed0e4465ab0750ebb26fce8a2",
            "efb6b55bfae64a0ea0dfdb3ed04cbd1c",
            "aafc310945674fa788827420a6792591",
            "63d00d3efc5d4464970750e367a1b0ea",
            "9089364c7c0646fd8513d3a28d58e208",
            "ff5a5f99c96044fb96e0431f8c81b072",
            "10075f5d7b444bd9bd26f7dd6d4abb9c",
            "0160c3ac2b0d4df29b70c2a8c3621ea5",
            "bcfdf68844a540aca9e6fa35241f1b5c",
            "bde4070b8ce8435c89a2e50e64606323",
            "4888eb903e0147c58784fe3284d5272c",
            "aabce37365f448bf8b9606572ae76c29",
            "9db6b40e64cc4097a9fafc5df99f8f0e",
            "12aa9d0c25cc43eba754a2c22a6c1bc6",
            "8bb6082fd62045aeb2aa7b913c9ea111",
            "c05f73f3c1e849f9b67f708de9736cb9",
            "5295aac13647413b8a822383d9e0bbcc",
            "ca0373a9ec274befba089a870f187690",
            "af5ddb5eb46e4e7caefdbe2d351fe8d2",
            "d3184b97e5024a43b2f781f7dfcf6b34",
            "2e67e9c112644858b258a87686a31359",
            "7d54e7c1e7684fc5b646df8936bc4d2b",
            "fbde33aa9bb94524a4e1b3483846a59d",
            "721f3951f29d4b9c84271da015b1cca0",
            "96e0d98b60ad4a8f936b25d2d029428c",
            "012fc5befbd9458282173f84d4d6157e",
            "24235241002f45e1aedfadaf0dcba432",
            "92d7b619eac24a4e87f6f3365c38a086",
            "11e6d0b08f9b46bab880d58396506b58",
            "6ca2fdc0ba87416ba4c63c4ae3d67bdf",
            "00866fd5b4a4416496e14d2eab2bf4af",
            "ae9ba48f97d7467b859fe791b22d15e2",
            "5ec4b797463047d498cc01de863cff0d",
            "3e2b4ce2d9a2405eaf66ffbdc08975fb",
            "e5f96806fc8a4149912e6d9b72fdd116",
            "9088854f328d4d148c1f3ced2608389e",
            "c118b0476d1c46aeba532c26c2d3259e",
            "bad1dacbd0194eb5bc01308061c04ee2",
            "4bc00afba07d41e2ad99b19c69019bbb"
          ]
        },
        "id": "hUnN-CoU4uDh",
        "outputId": "a81260aa-2057-4e2d-8440-219d4a9e40e5"
      },
      "outputs": [
        {
          "data": {
            "application/vnd.jupyter.widget-view+json": {
              "model_id": "bc456b66bd3145278dc615a2f7dbbab5",
              "version_major": 2,
              "version_minor": 0
            },
            "text/plain": [
              "tokenizer_config.json:   0%|          | 0.00/29.0 [00:00<?, ?B/s]"
            ]
          },
          "metadata": {},
          "output_type": "display_data"
        },
        {
          "data": {
            "application/vnd.jupyter.widget-view+json": {
              "model_id": "10075f5d7b444bd9bd26f7dd6d4abb9c",
              "version_major": 2,
              "version_minor": 0
            },
            "text/plain": [
              "vocab.txt:   0%|          | 0.00/213k [00:00<?, ?B/s]"
            ]
          },
          "metadata": {},
          "output_type": "display_data"
        },
        {
          "data": {
            "application/vnd.jupyter.widget-view+json": {
              "model_id": "ca0373a9ec274befba089a870f187690",
              "version_major": 2,
              "version_minor": 0
            },
            "text/plain": [
              "tokenizer.json:   0%|          | 0.00/436k [00:00<?, ?B/s]"
            ]
          },
          "metadata": {},
          "output_type": "display_data"
        },
        {
          "data": {
            "application/vnd.jupyter.widget-view+json": {
              "model_id": "11e6d0b08f9b46bab880d58396506b58",
              "version_major": 2,
              "version_minor": 0
            },
            "text/plain": [
              "config.json:   0%|          | 0.00/465 [00:00<?, ?B/s]"
            ]
          },
          "metadata": {},
          "output_type": "display_data"
        }
      ],
      "source": [
        "#generating encodings for each language\n",
        "tokenizer = DistilBertTokenizerFast.from_pretrained(model_name)\n",
        "\n",
        "def train_test_encodings(train_text, test_text):\n",
        "    train_encodings = tokenizer(train_text, truncation=True, padding=True, max_length=max_length)\n",
        "    test_encodings  = tokenizer(test_text, truncation=True, padding=True, max_length=max_length)\n",
        "\n",
        "    train_labels_encoded = [label2id[lab] for lab in train_labels]\n",
        "    test_labels_encoded  = [label2id[lab] for lab in test_labels]\n",
        "\n",
        "    return {\"train encodings\": train_encodings,\n",
        "            \"test encodings\": test_encodings,\n",
        "            \"train label encoded\": train_labels_encoded,\n",
        "            \"test label encoded\": test_labels_encoded}"
      ]
    },
    {
      "cell_type": "code",
      "execution_count": 17,
      "metadata": {
        "colab": {
          "base_uri": "https://localhost:8080/"
        },
        "id": "ayUBg6jI4uDh",
        "outputId": "081e8fd3-99ed-4d94-bc08-1d73e5b39712"
      },
      "outputs": [
        {
          "name": "stdout",
          "output_type": "stream",
          "text": [
            "Tokenized text encodings in English, French and Chinese\n",
            "Train text (english):\n",
            "[CLS] weird sometimes im su ##icidal hell sometimes think all ##on days real ##l su ##icidal point stepped balcony ready jump hands full pills ready swallow it days really think like never head like episode comes goes really randomly [SEP] [PAD] [PAD] [PAD] [PAD] [PAD] [PAD] [PAD] [PAD] [PAD] [PAD] [PAD] [PAD] [PAD] [PAD] [PAD] [PAD] [PAD] [PAD] [PAD] [PAD] [PAD] [PAD] [PAD] [PAD] [PAD] [PAD] [PAD] [PAD] [PAD] [PAD] [PAD] [PAD] [PAD] [PAD] [PAD] [PAD] [PAD] [PAD] [PAD] [PAD] [PAD] [PAD] [PAD] [PAD] [PAD] [PAD] [PAD] [PAD] [PAD] [PAD] [PAD] [PAD] [PAD] [PAD] [PAD] [PAD] [PAD] [PAD] [PAD] [PAD]\n",
            "Test text (english):\n",
            "[CLS] freely one scene another one story another like walking shadowy path open place like wind leaves tree another many different sounds like traveling people meet tell stories part forever knows like walking places full lost expectations another time human thickness world takes breath away ##b ##r br i saw movie friends mine liked it maybe used scenario ##base ##d ready ##made stories know movie silly ones love looking sun sparkling sea walking without hurry hills little villages listening growing grass tells stories underneath six feet under warm wind summer [SEP] [PAD] [PAD] [PAD] [PAD] [PAD] [PAD] [PAD] [PAD] [PAD]\n",
            "\n",
            "Train text (french):\n",
            "[CLS] I ##m fat ##ig ##ué regard ##er p ##orn ##o lit ##té ##ral ##ement ve ##ut la fill ##e dire matter ve ##ut aim ##er im fat ##ig ##ué ve ##ut t ##uer au ##ssi [SEP] [PAD] [PAD] [PAD] [PAD] [PAD] [PAD] [PAD] [PAD] [PAD] [PAD] [PAD] [PAD] [PAD] [PAD] [PAD] [PAD] [PAD] [PAD] [PAD] [PAD] [PAD] [PAD] [PAD] [PAD] [PAD] [PAD] [PAD] [PAD] [PAD] [PAD] [PAD] [PAD] [PAD] [PAD] [PAD] [PAD] [PAD] [PAD] [PAD] [PAD] [PAD]\n",
            "Test text (french):\n",
            "[CLS] Mi ##shima un des plus grand ##s films jam ##ais f ##ait pen ##ser Paul Sc ##hra ##der le plus grand s ##cé ##nar ##ist ##e te ##mps v ##rai ##ment com ##me les films he ##s dir ##ig ##é i ##ve v ##u a ##ve ##c exception a ##ff ##lic ##tion [SEP] [PAD] [PAD] [PAD] [PAD] [PAD] [PAD] [PAD] [PAD] [PAD] [PAD] [PAD] [PAD] [PAD] [PAD] [PAD] [PAD] [PAD] [PAD] [PAD] [PAD] [PAD] [PAD] [PAD] [PAD] [PAD] [PAD]\n",
            "\n",
            "Train text (chinese):\n",
            "[CLS] [UNK] [UNK] [UNK] [UNK] [UNK] [UNK] [UNK] [UNK] [UNK] [UNK] [UNK] [UNK] [UNK] [UNK] [UNK] [UNK] [UNK] [UNK] [UNK] [UNK] [UNK] [UNK] [UNK] [UNK] [UNK] [UNK] [UNK] [UNK] [UNK] [SEP] [PAD] [PAD] [PAD] [PAD] [PAD] [PAD] [PAD] [PAD] [PAD] [PAD] [PAD] [PAD] [PAD] [PAD] [PAD] [PAD] [PAD] [PAD] [PAD] [PAD] [PAD] [PAD] [PAD] [PAD] [PAD] [PAD] [PAD] [PAD] [PAD] [PAD] [PAD] [PAD] [PAD] [PAD] [PAD] [PAD] [PAD] [PAD] [PAD] [PAD] [PAD] [PAD] [PAD] [PAD] [PAD] [PAD] [PAD]\n",
            "Test text (chinese):\n",
            "[CLS] can ##t it ##i wasn ##t [UNK] [UNK] [UNK] [UNK] [UNK] [UNK] [UNK] [UNK] [UNK] [UNK] [UNK] [UNK] [UNK] 子 [UNK] [UNK] [UNK] [UNK] [UNK] [UNK] [UNK] [UNK] [SEP] [PAD] [PAD] [PAD] [PAD] [PAD] [PAD] [PAD] [PAD] [PAD] [PAD] [PAD] [PAD] [PAD] [PAD] [PAD] [PAD] [PAD] [PAD] [PAD] [PAD] [PAD] [PAD] [PAD] [PAD] [PAD] [PAD] [PAD] [PAD] [PAD] [PAD] [PAD] [PAD] [PAD] [PAD] [PAD] [PAD] [PAD] [PAD] [PAD] [PAD] [PAD] [PAD] [PAD] [PAD] [PAD] [PAD] [PAD] [PAD]\n",
            "\n"
          ]
        }
      ],
      "source": [
        "encodings = {}\n",
        "\n",
        "for language in languages:\n",
        "    train_texts, train_labels, test_texts, test_labels = data_splits[language]\n",
        "    encodings[language] = train_test_encodings(train_texts, test_texts)\n",
        "\n",
        "print(\"Tokenized text encodings in English, French and Chinese\")\n",
        "for language in languages:\n",
        "    print(f\"Train text ({language}):\")\n",
        "    print(' '.join(encodings[language][\"train encodings\"][0].tokens[0:100]))\n",
        "    print(f\"Test text ({language}):\")\n",
        "    print(' '.join(encodings[language][\"test encodings\"][0].tokens[0:100]))\n",
        "    print()"
      ]
    },
    {
      "cell_type": "code",
      "execution_count": 19,
      "metadata": {
        "id": "vTHWvtz74uDi"
      },
      "outputs": [],
      "source": [
        "#Creating a custom Torch dataset\n",
        "class MentalHealthData(torch.utils.data.Dataset):\n",
        "    def __init__(self, encodings, labels):\n",
        "        self.encodings = encodings\n",
        "        self.labels = labels\n",
        "\n",
        "    def __getitem__(self, idx):\n",
        "        item = {key: torch.tensor(val[idx]) for key, val in self.encodings.items()}\n",
        "        item['labels'] = torch.tensor(self.labels[idx])\n",
        "        return item\n",
        "\n",
        "    def __len__(self):\n",
        "        return len(self.labels)"
      ]
    },
    {
      "cell_type": "code",
      "execution_count": 20,
      "metadata": {
        "colab": {
          "base_uri": "https://localhost:8080/",
          "height": 703
        },
        "id": "qXMEiXzT4uDi",
        "outputId": "dfa27fff-d158-43db-d108-4f6634e3d942"
      },
      "outputs": [
        {
          "name": "stdout",
          "output_type": "stream",
          "text": [
            "Training Dataset: \n"
          ]
        },
        {
          "data": {
            "application/vnd.google.colaboratory.intrinsic+json": {
              "type": "string"
            },
            "text/plain": [
              "'[CLS] knee surgery tomorrow story tell it so warning terrible story ##tel ##ler also t ##ld ##r top grape ##f ##ruit brain falls skate ##board c ##rip ##ple backs ##tory live west coast ore ##gon town popular set skate hills go down two row one smooth barely used road result group go daily that gotten new board wheels also crew there ##s jam ##es reckless kid could shake broken thigh bone w ##ya ##tt the interesting one balls anything ale ##x g ##f time this fate ##ful day gone hill bike friend well call jam ##es goes hill long ##board'"
            ]
          },
          "metadata": {},
          "output_type": "display_data"
        },
        {
          "name": "stdout",
          "output_type": "stream",
          "text": [
            "\n",
            "Testing Dataset: \n"
          ]
        },
        {
          "data": {
            "application/vnd.google.colaboratory.intrinsic+json": {
              "type": "string"
            },
            "text/plain": [
              "'[CLS] first time saw poster stunned t ##ran ##qui ##lity beauty city is ##tan ##bul haunting mind ever since ##b ##r br not much dialogue much music whole film shot elaborate ##ly aesthetic ##ally like sculpture landscape ##b ##r br actually lot things going film director deliberately omitted dramatic parts leave imagination thus creating really flat life mild s ##po ##iler ##one see ma ##hm ##uts lady ##love crying toilet going without word fight one see ma ##hm ##ut accompanying mother hospital struggle illness dramatic scene film y ##us ##uf laughing loud toy soldier bought niece that ##s almost broke'"
            ]
          },
          "metadata": {},
          "output_type": "display_data"
        },
        {
          "name": "stdout",
          "output_type": "stream",
          "text": [
            "Training Dataset: \n"
          ]
        },
        {
          "data": {
            "application/vnd.google.colaboratory.intrinsic+json": {
              "type": "string"
            },
            "text/plain": [
              "\"[CLS] hang n ' import ##e q ##ui a be ##so ##in de par ##ler sa ##vo ##ir le m ##ois se ##ma ##ine m ##ê ##me au ##jou ##rd ' h ##ui p ##eu ##t se sent ##ir impossible aren ##t essay ##er d ' o ##bt ##eni ##r c ##ela p ##eu ##t ê ##tre do ##ulo ##ure ##ux p ##eu ##t [SEP] [PAD] [PAD] [PAD] [PAD] [PAD] [PAD] [PAD] [PAD] [PAD] [PAD] [PAD] [PAD] [PAD]\""
            ]
          },
          "metadata": {},
          "output_type": "display_data"
        },
        {
          "name": "stdout",
          "output_type": "stream",
          "text": [
            "\n",
            "Testing Dataset: \n"
          ]
        },
        {
          "data": {
            "application/vnd.google.colaboratory.intrinsic+json": {
              "type": "string"
            },
            "text/plain": [
              "'[CLS] é ##co ##le en l ##ign ##e f ##ais ##ant con ##sta ##mme ##nt stress ##é ma ##l ##he ##ure ##ux de ##ux j ##ours par se ##ma ##ine person ##ne à distance main ##tien ##t l ##iv ##rer des tonnes de t ##ra ##va ##il don ##t le te ##mps p ##apa ne la ##isse p ##as les week [SEP] [PAD] [PAD] [PAD] [PAD] [PAD] [PAD] [PAD] [PAD] [PAD] [PAD] [PAD] [PAD] [PAD] [PAD] [PAD] [PAD] [PAD] [PAD]'"
            ]
          },
          "metadata": {},
          "output_type": "display_data"
        },
        {
          "name": "stdout",
          "output_type": "stream",
          "text": [
            "Training Dataset: \n"
          ]
        },
        {
          "data": {
            "application/vnd.google.colaboratory.intrinsic+json": {
              "type": "string"
            },
            "text/plain": [
              "'[CLS] 下 [UNK] [UNK] [UNK] [UNK] [UNK] [UNK] [UNK] [UNK] [UNK] [UNK] 人 美 国 人 [UNK] [UNK] [UNK] [UNK] [UNK] [UNK] [UNK] [SEP] [PAD] [PAD] [PAD] [PAD] [PAD] [PAD] [PAD] [PAD] [PAD] [PAD] [PAD] [PAD] [PAD] [PAD] [PAD] [PAD] [PAD] [PAD] [PAD] [PAD] [PAD] [PAD] [PAD] [PAD] [PAD] [PAD] [PAD] [PAD] [PAD] [PAD] [PAD] [PAD] [PAD] [PAD] [PAD] [PAD] [PAD] [PAD] [PAD] [PAD] [PAD] [PAD] [PAD] [PAD] [PAD] [PAD] [PAD] [PAD] [PAD] [PAD] [PAD] [PAD] [PAD] [PAD]'"
            ]
          },
          "metadata": {},
          "output_type": "display_data"
        },
        {
          "name": "stdout",
          "output_type": "stream",
          "text": [
            "\n",
            "Testing Dataset: \n"
          ]
        },
        {
          "data": {
            "application/vnd.google.colaboratory.intrinsic+json": {
              "type": "string"
            },
            "text/plain": [
              "'[CLS] [UNK] [UNK] [UNK] [UNK] [UNK] [UNK] [UNK] [UNK] [UNK] [UNK] [UNK] [UNK] [UNK] [UNK] [UNK] [UNK] [UNK] [UNK] [UNK] [UNK] [SEP] [PAD] [PAD] [PAD] [PAD] [PAD] [PAD] [PAD] [PAD] [PAD] [PAD] [PAD] [PAD] [PAD] [PAD] [PAD] [PAD] [PAD] [PAD] [PAD] [PAD] [PAD] [PAD] [PAD] [PAD] [PAD] [PAD] [PAD] [PAD] [PAD] [PAD] [PAD] [PAD] [PAD] [PAD] [PAD] [PAD] [PAD] [PAD] [PAD] [PAD] [PAD] [PAD] [PAD] [PAD] [PAD] [PAD] [PAD] [PAD] [PAD] [PAD] [PAD] [PAD] [PAD] [PAD] [PAD] [PAD]'"
            ]
          },
          "metadata": {},
          "output_type": "display_data"
        }
      ],
      "source": [
        "datasets = {}\n",
        "\n",
        "for language in languages:\n",
        "    train_dataset = MentalHealthData(encodings[language][\"train encodings\"], encodings[language][\"train label encoded\"])\n",
        "    test_dataset = MentalHealthData(encodings[language][\"test encodings\"], encodings[language][\"test label encoded\"])\n",
        "    datasets[language] = {\"train_dataset\": train_dataset, \"test_dataset\": test_dataset}\n",
        "    print(\"Training Dataset: \")\n",
        "    display(' '.join(datasets[language]['train_dataset'].encodings[1].tokens[0:100]))\n",
        "\n",
        "    print(\"\\nTesting Dataset: \")\n",
        "    display(' '.join(datasets[language]['test_dataset'].encodings[1].tokens[0:100]))\n"
      ]
    },
    {
      "cell_type": "code",
      "execution_count": 22,
      "metadata": {
        "colab": {
          "base_uri": "https://localhost:8080/"
        },
        "id": "iD4UdURu4uDi",
        "outputId": "1781677c-083d-45b4-a6dc-8bb855f70495"
      },
      "outputs": [
        {
          "name": "stderr",
          "output_type": "stream",
          "text": [
            "Some weights of DistilBertForSequenceClassification were not initialized from the model checkpoint at distilbert-base-cased and are newly initialized: ['pre_classifier.bias', 'classifier.weight', 'pre_classifier.weight', 'classifier.bias']\n",
            "You should probably TRAIN this model on a down-stream task to be able to use it for predictions and inference.\n"
          ]
        }
      ],
      "source": [
        "# Loading pre-trained BERT Model\n",
        "\n",
        "model = DistilBertForSequenceClassification.from_pretrained(\n",
        "    model_name,\n",
        "    num_labels=len(label2id)\n",
        ").to(device_name)"
      ]
    },
    {
      "cell_type": "code",
      "execution_count": 39,
      "metadata": {
        "id": "rkN2b31D4uDi"
      },
      "outputs": [],
      "source": [
        "training_args = TrainingArguments(\n",
        "    num_train_epochs=10,\n",
        "    per_device_train_batch_size=20,\n",
        "    per_device_eval_batch_size=20,\n",
        "    learning_rate=5e-5,\n",
        "    warmup_steps=80,\n",
        "    weight_decay=0.01,\n",
        "    output_dir='./results',\n",
        "    logging_dir='./logs',\n",
        "    logging_steps=60,\n",
        "    evaluation_strategy='steps',\n",
        ")\n"
      ]
    },
    {
      "cell_type": "code",
      "execution_count": 40,
      "metadata": {
        "id": "7vucUzR063f1"
      },
      "outputs": [],
      "source": [
        "#defining metrics\n",
        "\n",
        "def compute_metrics(pred):\n",
        "  labels = pred.label_ids\n",
        "  preds = pred.predictions.argmax(-1)\n",
        "  score = f1_score(labels, preds, average='weighted')\n",
        "  return {\n",
        "      'f1': score,\n",
        "  }"
      ]
    },
    {
      "cell_type": "markdown",
      "metadata": {
        "id": "CTmNFR1YGziQ"
      },
      "source": [
        "## Running BERT"
      ]
    },
    {
      "cell_type": "code",
      "execution_count": 41,
      "metadata": {
        "id": "H0iXqsGU7PUc"
      },
      "outputs": [],
      "source": [
        "trainers = {}\n",
        "\n",
        "for language in languages:\n",
        "  trainer = Trainer(\n",
        "    model=model,\n",
        "    args=training_args,\n",
        "    train_dataset=datasets[language]['train_dataset'],\n",
        "    eval_dataset=datasets[language]['test_dataset'],\n",
        "    compute_metrics=compute_metrics\n",
        "  )\n",
        "  trainers[language] = trainer"
      ]
    },
    {
      "cell_type": "code",
      "execution_count": 42,
      "metadata": {
        "colab": {
          "base_uri": "https://localhost:8080/",
          "height": 581
        },
        "id": "cNt-Zkuf7wLI",
        "outputId": "883ffa0a-315b-4c1b-ade9-17a5cb406972"
      },
      "outputs": [
        {
          "name": "stdout",
          "output_type": "stream",
          "text": [
            "english translated mental health text model\n"
          ]
        },
        {
          "data": {
            "text/html": [
              "\n",
              "    <div>\n",
              "      \n",
              "      <progress value='180' max='180' style='width:300px; height:20px; vertical-align: middle;'></progress>\n",
              "      [180/180 02:35, Epoch 10/10]\n",
              "    </div>\n",
              "    <table border=\"1\" class=\"dataframe\">\n",
              "  <thead>\n",
              " <tr style=\"text-align: left;\">\n",
              "      <th>Step</th>\n",
              "      <th>Training Loss</th>\n",
              "      <th>Validation Loss</th>\n",
              "      <th>F1</th>\n",
              "    </tr>\n",
              "  </thead>\n",
              "  <tbody>\n",
              "    <tr>\n",
              "      <td>60</td>\n",
              "      <td>0.010700</td>\n",
              "      <td>0.839230</td>\n",
              "      <td>0.906667</td>\n",
              "    </tr>\n",
              "    <tr>\n",
              "      <td>120</td>\n",
              "      <td>0.000000</td>\n",
              "      <td>0.956750</td>\n",
              "      <td>0.900013</td>\n",
              "    </tr>\n",
              "    <tr>\n",
              "      <td>180</td>\n",
              "      <td>0.000000</td>\n",
              "      <td>0.981799</td>\n",
              "      <td>0.900013</td>\n",
              "    </tr>\n",
              "  </tbody>\n",
              "</table><p>"
            ],
            "text/plain": [
              "<IPython.core.display.HTML object>"
            ]
          },
          "metadata": {},
          "output_type": "display_data"
        },
        {
          "data": {
            "text/html": [
              "\n",
              "    <div>\n",
              "      \n",
              "      <progress value='8' max='8' style='width:300px; height:20px; vertical-align: middle;'></progress>\n",
              "      [8/8 00:02]\n",
              "    </div>\n",
              "    "
            ],
            "text/plain": [
              "<IPython.core.display.HTML object>"
            ]
          },
          "metadata": {},
          "output_type": "display_data"
        },
        {
          "name": "stdout",
          "output_type": "stream",
          "text": [
            "french translated mental health text model\n"
          ]
        },
        {
          "data": {
            "text/html": [
              "\n",
              "    <div>\n",
              "      \n",
              "      <progress value='180' max='180' style='width:300px; height:20px; vertical-align: middle;'></progress>\n",
              "      [180/180 00:25, Epoch 10/10]\n",
              "    </div>\n",
              "    <table border=\"1\" class=\"dataframe\">\n",
              "  <thead>\n",
              " <tr style=\"text-align: left;\">\n",
              "      <th>Step</th>\n",
              "      <th>Training Loss</th>\n",
              "      <th>Validation Loss</th>\n",
              "      <th>F1</th>\n",
              "    </tr>\n",
              "  </thead>\n",
              "  <tbody>\n",
              "    <tr>\n",
              "      <td>60</td>\n",
              "      <td>0.150100</td>\n",
              "      <td>3.482197</td>\n",
              "      <td>0.493333</td>\n",
              "    </tr>\n",
              "    <tr>\n",
              "      <td>120</td>\n",
              "      <td>0.073400</td>\n",
              "      <td>4.399964</td>\n",
              "      <td>0.469272</td>\n",
              "    </tr>\n",
              "    <tr>\n",
              "      <td>180</td>\n",
              "      <td>0.024700</td>\n",
              "      <td>4.674259</td>\n",
              "      <td>0.470169</td>\n",
              "    </tr>\n",
              "  </tbody>\n",
              "</table><p>"
            ],
            "text/plain": [
              "<IPython.core.display.HTML object>"
            ]
          },
          "metadata": {},
          "output_type": "display_data"
        },
        {
          "data": {
            "text/html": [
              "\n",
              "    <div>\n",
              "      \n",
              "      <progress value='8' max='8' style='width:300px; height:20px; vertical-align: middle;'></progress>\n",
              "      [8/8 00:00]\n",
              "    </div>\n",
              "    "
            ],
            "text/plain": [
              "<IPython.core.display.HTML object>"
            ]
          },
          "metadata": {},
          "output_type": "display_data"
        },
        {
          "name": "stdout",
          "output_type": "stream",
          "text": [
            "chinese translated mental health text model\n"
          ]
        },
        {
          "data": {
            "text/html": [
              "\n",
              "    <div>\n",
              "      \n",
              "      <progress value='180' max='180' style='width:300px; height:20px; vertical-align: middle;'></progress>\n",
              "      [180/180 00:25, Epoch 10/10]\n",
              "    </div>\n",
              "    <table border=\"1\" class=\"dataframe\">\n",
              "  <thead>\n",
              " <tr style=\"text-align: left;\">\n",
              "      <th>Step</th>\n",
              "      <th>Training Loss</th>\n",
              "      <th>Validation Loss</th>\n",
              "      <th>F1</th>\n",
              "    </tr>\n",
              "  </thead>\n",
              "  <tbody>\n",
              "    <tr>\n",
              "      <td>60</td>\n",
              "      <td>0.152700</td>\n",
              "      <td>2.010401</td>\n",
              "      <td>0.686513</td>\n",
              "    </tr>\n",
              "    <tr>\n",
              "      <td>120</td>\n",
              "      <td>0.248900</td>\n",
              "      <td>1.513176</td>\n",
              "      <td>0.677922</td>\n",
              "    </tr>\n",
              "    <tr>\n",
              "      <td>180</td>\n",
              "      <td>0.122900</td>\n",
              "      <td>1.954397</td>\n",
              "      <td>0.680342</td>\n",
              "    </tr>\n",
              "  </tbody>\n",
              "</table><p>"
            ],
            "text/plain": [
              "<IPython.core.display.HTML object>"
            ]
          },
          "metadata": {},
          "output_type": "display_data"
        },
        {
          "data": {
            "text/html": [
              "\n",
              "    <div>\n",
              "      \n",
              "      <progress value='8' max='8' style='width:300px; height:20px; vertical-align: middle;'></progress>\n",
              "      [8/8 00:00]\n",
              "    </div>\n",
              "    "
            ],
            "text/plain": [
              "<IPython.core.display.HTML object>"
            ]
          },
          "metadata": {},
          "output_type": "display_data"
        }
      ],
      "source": [
        "for language in languages:\n",
        "  print(f\"{language} translated mental health text model\")\n",
        "  trainers[language].train()\n",
        "  trainers[language].evaluate()"
      ]
    },
    {
      "cell_type": "code",
      "execution_count": 47,
      "metadata": {
        "colab": {
          "base_uri": "https://localhost:8080/",
          "height": 1000
        },
        "id": "hiRy7D7a8kmM",
        "outputId": "00558bfb-ac04-4242-c867-851dd20aed6b"
      },
      "outputs": [
        {
          "data": {
            "text/html": [],
            "text/plain": [
              "<IPython.core.display.HTML object>"
            ]
          },
          "metadata": {},
          "output_type": "display_data"
        },
        {
          "name": "stdout",
          "output_type": "stream",
          "text": [
            "Predicted labels of english testing data\n"
          ]
        },
        {
          "data": {
            "text/plain": [
              "['no concern',\n",
              " 'no concern',\n",
              " 'no concern',\n",
              " 'mental health concern',\n",
              " 'mental health concern',\n",
              " 'no concern',\n",
              " 'mental health concern',\n",
              " 'mental health concern',\n",
              " 'no concern',\n",
              " 'mental health concern']"
            ]
          },
          "metadata": {},
          "output_type": "display_data"
        },
        {
          "name": "stdout",
          "output_type": "stream",
          "text": [
            "                       precision    recall  f1-score   support\n",
            "\n",
            "mental health concern       0.84      0.94      0.88        77\n",
            "           no concern       0.92      0.81      0.86        73\n",
            "\n",
            "             accuracy                           0.87       150\n",
            "            macro avg       0.88      0.87      0.87       150\n",
            "         weighted avg       0.88      0.87      0.87       150\n",
            "\n"
          ]
        },
        {
          "data": {
            "text/html": [],
            "text/plain": [
              "<IPython.core.display.HTML object>"
            ]
          },
          "metadata": {},
          "output_type": "display_data"
        },
        {
          "name": "stdout",
          "output_type": "stream",
          "text": [
            "Predicted labels of french testing data\n"
          ]
        },
        {
          "data": {
            "text/plain": [
              "['no concern',\n",
              " 'mental health concern',\n",
              " 'no concern',\n",
              " 'mental health concern',\n",
              " 'no concern',\n",
              " 'mental health concern',\n",
              " 'no concern',\n",
              " 'mental health concern',\n",
              " 'mental health concern',\n",
              " 'no concern']"
            ]
          },
          "metadata": {},
          "output_type": "display_data"
        },
        {
          "name": "stdout",
          "output_type": "stream",
          "text": [
            "                       precision    recall  f1-score   support\n",
            "\n",
            "mental health concern       0.43      0.35      0.38        69\n",
            "           no concern       0.52      0.60      0.56        81\n",
            "\n",
            "             accuracy                           0.49       150\n",
            "            macro avg       0.47      0.48      0.47       150\n",
            "         weighted avg       0.48      0.49      0.48       150\n",
            "\n"
          ]
        },
        {
          "data": {
            "text/html": [],
            "text/plain": [
              "<IPython.core.display.HTML object>"
            ]
          },
          "metadata": {},
          "output_type": "display_data"
        },
        {
          "name": "stdout",
          "output_type": "stream",
          "text": [
            "Predicted labels of chinese testing data\n"
          ]
        },
        {
          "data": {
            "text/plain": [
              "['mental health concern',\n",
              " 'no concern',\n",
              " 'mental health concern',\n",
              " 'mental health concern',\n",
              " 'no concern',\n",
              " 'mental health concern',\n",
              " 'no concern',\n",
              " 'no concern',\n",
              " 'no concern',\n",
              " 'mental health concern']"
            ]
          },
          "metadata": {},
          "output_type": "display_data"
        },
        {
          "name": "stdout",
          "output_type": "stream",
          "text": [
            "                       precision    recall  f1-score   support\n",
            "\n",
            "mental health concern       0.72      0.66      0.69        80\n",
            "           no concern       0.64      0.70      0.67        70\n",
            "\n",
            "             accuracy                           0.68       150\n",
            "            macro avg       0.68      0.68      0.68       150\n",
            "         weighted avg       0.68      0.68      0.68       150\n",
            "\n"
          ]
        }
      ],
      "source": [
        "predicted = {}\n",
        "for language in languages:\n",
        "  train_text, train_label, test_text, test_label = data_splits[language]\n",
        "  predicted_results = trainers[language].predict(datasets[language]['test_dataset'])\n",
        "\n",
        "  predicted_labels = predicted_results.predictions.argmax(-1) # Get the highest probability prediction\n",
        "  predicted_labels = predicted_labels.flatten().tolist()      # Flatten the predictions into a 1D list\n",
        "  predicted_labels = [id2label[l] for l in predicted_labels]  # Convert from integers back to strings for readability\n",
        "  print(f\"Predicted labels of {language} testing data\")\n",
        "  display(predicted_labels[:10])\n",
        "  print(classification_report(test_label,\n",
        "                            predicted_labels))\n",
        "  predicted[language] = predicted_labels"
      ]
    },
    {
      "cell_type": "markdown",
      "metadata": {
        "id": "_p0fj9UsG24H"
      },
      "source": [
        "## Analyzing BERT models classifications"
      ]
    },
    {
      "cell_type": "code",
      "execution_count": 54,
      "metadata": {
        "colab": {
          "base_uri": "https://localhost:8080/"
        },
        "id": "42g1Nl43G5xP",
        "outputId": "5b3f7dab-2858-435c-c443-e75f0388259e"
      },
      "outputs": [
        {
          "name": "stdout",
          "output_type": "stream",
          "text": [
            "BERT english model misclassifications\n",
            "\n",
            "TRUE LABEL: mental health concern\n",
            "PREDICTED LABEL: no concern\n",
            "REVIEW TEXT: hey chavalesme presento soy un chaval de madrid espaay creado esta cuenta pues supongo que para desa ...\n",
            "\n",
            "TRUE LABEL: mental health concern\n",
            "PREDICTED LABEL: no concern\n",
            "REVIEW TEXT: gonna kms need helpgot built hook bedroom ceiling need rope long strong enough get one online shoppi ...\n",
            "\n",
            "TRUE LABEL: no concern\n",
            "PREDICTED LABEL: mental health concern\n",
            "REVIEW TEXT: mom doctors told  weeks pregnant today wish luck ...\n",
            "\n",
            "==========================================\n",
            "BERT french model misclassifications\n",
            "\n",
            "TRUE LABEL: mental health concern\n",
            "PREDICTED LABEL: no concern\n",
            "REVIEW TEXT: Pee stocké balls shit stocké ass checks fait cant deny sit fuck ...\n",
            "\n",
            "TRUE LABEL: mental health concern\n",
            "PREDICTED LABEL: no concern\n",
            "REVIEW TEXT: Le désir de mourir pourrait mourir sous rn ...\n",
            "\n",
            "TRUE LABEL: mental health concern\n",
            "PREDICTED LABEL: no concern\n",
            "REVIEW TEXT: dire les gens suicidaires parler au lieu de dire à tous les autres liste chaque texte essayant d'emp ...\n",
            "\n",
            "TRUE LABEL: mental health concern\n",
            "PREDICTED LABEL: no concern\n",
            "REVIEW TEXT: girlfriend découvert page essai frère écrit il y a des années va des détails utilisé vraiment déprim ...\n",
            "\n",
            "TRUE LABEL: no concern\n",
            "PREDICTED LABEL: mental health concern\n",
            "REVIEW TEXT: Cant trust peopleand going lead death wife talking guy facebook merci supportive supporting what bri ...\n",
            "\n",
            "TRUE LABEL: mental health concern\n",
            "PREDICTED LABEL: no concern\n",
            "REVIEW TEXT: famille croit mei a utilisé la blague tuer comment faire face à des amis famille im straight dire do ...\n",
            "\n",
            "TRUE LABEL: no concern\n",
            "PREDICTED LABEL: mental health concern\n",
            "REVIEW TEXT: une chose im goneits fil ouvert bouteilles lysol juste à côté de la salle de bains im prêts heures a ...\n",
            "\n",
            "TRUE LABEL: no concern\n",
            "PREDICTED LABEL: mental health concern\n",
            "REVIEW TEXT: les filles se plaignent de porter autour de la catégorie big tits porter massive nuts filer fichier  ...\n",
            "\n",
            "TRUE LABEL: mental health concern\n",
            "PREDICTED LABEL: no concern\n",
            "REVIEW TEXT: Les amis se tournent vers vouloir seuls, il y a plus de conseils pour faire des amis en personne ...\n",
            "\n",
            "TRUE LABEL: mental health concern\n",
            "PREDICTED LABEL: no concern\n",
            "REVIEW TEXT: Reddit triangles plus cool ...\n",
            "\n",
            "TRUE LABEL: no concern\n",
            "PREDICTED LABEL: mental health concern\n",
            "REVIEW TEXT: N’importe qui sait se débarrasser des pensées négatives ne peut se débarrasser de celles qui devienn ...\n",
            "\n",
            "TRUE LABEL: mental health concern\n",
            "PREDICTED LABEL: no concern\n",
            "REVIEW TEXT: haïs trop rêves stabbing poitrine finalement est allé maman essentiellement voulait me voir comme st ...\n",
            "\n",
            "TRUE LABEL: no concern\n",
            "PREDICTED LABEL: mental health concern\n",
            "REVIEW TEXT: préféré horreur film close nd poltergeist voir une nuit nocturne coups de soleil une nuit nocturne c ...\n",
            "\n",
            "TRUE LABEL: no concern\n",
            "PREDICTED LABEL: mental health concern\n",
            "REVIEW TEXT: Tout le monde a vu le post chat hier aujourd'hui merci beaucoup de commentaires positifs gars littér ...\n",
            "\n",
            "TRUE LABEL: no concern\n",
            "PREDICTED LABEL: mental health concern\n",
            "REVIEW TEXT: am décompressionnon amis désagréable solitaire famille inquiet penser fait paraître mauvais un vivan ...\n",
            "\n",
            "TRUE LABEL: mental health concern\n",
            "PREDICTED LABEL: no concern\n",
            "REVIEW TEXT: Je préfère savoir qu'un ami est mort et qu'un drapeau rouge préfère penser à un accident tragique et ...\n",
            "\n",
            "TRUE LABEL: no concern\n",
            "PREDICTED LABEL: mental health concern\n",
            "REVIEW TEXT: whys hardlast night got drunk a écrit redflag note laid journaux remplis chaque suicide dépressive p ...\n",
            "\n",
            "==========================================\n",
            "BERT chinese model misclassifications\n",
            "\n",
            "TRUE LABEL: mental health concern\n",
            "PREDICTED LABEL: no concern\n",
            "REVIEW TEXT: 思考 扔 前列车 他妈的 悲惨 失败者 ...\n",
            "\n",
            "TRUE LABEL: no concern\n",
            "PREDICTED LABEL: mental health concern\n",
            "REVIEW TEXT: 幸运的是,有兴趣听到替代摇滚专辑乐队发布了第一张专辑,希望能找到喜欢的人。 ...\n",
            "\n",
            "TRUE LABEL: mental health concern\n",
            "PREDICTED LABEL: no concern\n",
            "REVIEW TEXT: 讨厌 太 梦想 抓 胸部 最终 去了 妈妈 基本上 想要 我 如 Stroppy 青少年 做 说 去 ...\n",
            "\n",
            "TRUE LABEL: mental health concern\n",
            "PREDICTED LABEL: no concern\n",
            "REVIEW TEXT: 一切都感觉像很多努力恨自己,一切都会更好死去想死去。 ...\n",
            "\n",
            "TRUE LABEL: no concern\n",
            "PREDICTED LABEL: mental health concern\n",
            "REVIEW TEXT: 眼睛揭示声音冷 utod_ want 眼睛揭示 ...\n",
            "\n",
            "TRUE LABEL: no concern\n",
            "PREDICTED LABEL: mental health concern\n",
            "REVIEW TEXT: 天天天天天天天天天天天天天天天天天天天 ...\n",
            "\n",
            "TRUE LABEL: no concern\n",
            "PREDICTED LABEL: mental health concern\n",
            "REVIEW TEXT: 电影毫无疑问一个伟大的景点历史电影观看电影我们 retrospectively注意世界电影的纯人文戏剧类似强有力的适当使用 ...\n",
            "\n",
            "TRUE LABEL: no concern\n",
            "PREDICTED LABEL: mental health concern\n",
            "REVIEW TEXT: 感觉像 im gonna die 男人 过敏 鼻子 连接 两个 鼻子 气息 气息 喉<unk> 疼痛 气 ...\n",
            "\n",
            "TRUE LABEL: mental health concern\n",
            "PREDICTED LABEL: no concern\n",
            "REVIEW TEXT: notive 從未使用 reddit idk im 正好 昨天 社區 im ganged 一 男孩 屏幕拍攝 看起來 種族主義 ...\n",
            "\n",
            "==========================================\n"
          ]
        }
      ],
      "source": [
        "#missclassifications\n",
        "for language in languages:\n",
        "  train_text, train_label, test_text, test_label = data_splits[language]\n",
        "  print(f\"BERT {language} model misclassifications\\n\")\n",
        "  for _true_label, _predicted_label, _text in random.sample(list(zip(test_label, predicted[language], test_text)), 30):\n",
        "    if _true_label != _predicted_label:\n",
        "      print('TRUE LABEL:', _true_label)\n",
        "      print('PREDICTED LABEL:', _predicted_label)\n",
        "      print('REVIEW TEXT:', _text[:100], '...')\n",
        "      print()\n",
        "  print(\"==========================================\")"
      ]
    },
    {
      "cell_type": "code",
      "execution_count": 91,
      "metadata": {
        "id": "ty9yPMhXLJnC"
      },
      "outputs": [],
      "source": [
        "#function to create classification plots\n",
        "def plot_classif(language, test_label, predicted):\n",
        "  poem_classifications_dict = defaultdict(int)\n",
        "\n",
        "  for _true_label, _predicted_label in zip(test_label, predicted):\n",
        "    poem_classifications_dict[(_true_label, _predicted_label)] += 1\n",
        "\n",
        "  dicts_to_plot = []\n",
        "  for (_true_genre, _predicted_genre), _count in poem_classifications_dict.items():\n",
        "    dicts_to_plot.append({'True Label': _true_genre,\n",
        "                          'Predicted Label': _predicted_genre,\n",
        "                          'Number of Classifications': _count})\n",
        "\n",
        "  df_to_plot = pd.DataFrame(dicts_to_plot)\n",
        "  df_wide = df_to_plot.pivot_table(index='True Label',\n",
        "                                  columns='Predicted Label',\n",
        "                                  values='Number of Classifications')\n",
        "\n",
        "  plt.figure(figsize=(5,6))\n",
        "  plt.subplot\n",
        "  sns.set(style='ticks', font_scale=1.2)\n",
        "  sns.heatmap(df_wide, linewidths=1, cmap='Reds')\n",
        "  plt.title(f\"{language} classifications\")\n",
        "  plt.xticks(rotation=20, ha='right')\n",
        "  plt.yticks(rotation=90, ha='right')\n",
        "  plt.tight_layout()\n",
        "  plt.show()"
      ]
    },
    {
      "cell_type": "code",
      "execution_count": 92,
      "metadata": {
        "colab": {
          "base_uri": "https://localhost:8080/",
          "height": 593
        },
        "id": "eOTiOTUqOAFO",
        "outputId": "b8f05ccd-47e0-4f82-bbf1-354f104cac57"
      },
      "outputs": [
        {
          "data": {
            "image/png": "[encoded data removed]",
            "text/plain": [
              "<Figure size 500x600 with 2 Axes>"
            ]
          },
          "metadata": {},
          "output_type": "display_data"
        }
      ],
      "source": [
        "plot_classif(\"English\", data_splits[\"english\"][3], predicted['english'])"
      ]
    },
    {
      "cell_type": "code",
      "execution_count": 93,
      "metadata": {
        "colab": {
          "base_uri": "https://localhost:8080/",
          "height": 593
        },
        "id": "RI5vj7f3OBM6",
        "outputId": "998d6123-c7d5-45a6-b28f-f6701db79871"
      },
      "outputs": [
        {
          "data": {
            "image/png": "[encoded data removed]",
            "text/plain": [
              "<Figure size 500x600 with 2 Axes>"
            ]
          },
          "metadata": {},
          "output_type": "display_data"
        }
      ],
      "source": [
        "plot_classif(\"French\", data_splits[\"french\"][3], predicted['french'])"
      ]
    },
    {
      "cell_type": "code",
      "execution_count": 94,
      "metadata": {
        "colab": {
          "base_uri": "https://localhost:8080/",
          "height": 593
        },
        "id": "fhHSG27nOFpr",
        "outputId": "2a7b0b70-893e-4f37-8902-bf59a30c09c2"
      },
      "outputs": [
        {
          "data": {
            "image/png": "[encoded data removed]",
            "text/plain": [
              "<Figure size 500x600 with 2 Axes>"
            ]
          },
          "metadata": {},
          "output_type": "display_data"
        }
      ],
      "source": [
        "\n",
        "plot_classif(\"Chinese\", data_splits[\"chinese\"][3], predicted['chinese'])"
      ]
    },
    {
      "cell_type": "markdown",
      "metadata": {
        "id": "w4UtY9iF18qs"
      },
      "source": [
        "## 3. Results"
      ]
    },
    {
      "cell_type": "markdown",
      "metadata": {
        "id": "B8qAuWBr18qs"
      },
      "source": [
        "## 4. Discussion and conclusions"
      ]
    },
    {
      "cell_type": "markdown",
      "metadata": {
        "id": "XhMaYb4WBSpd"
      },
      "source": [
        "Baselines:\n",
        "\n",
        "English: 0.85-0.86\n",
        "\n",
        "French: 0.43\n",
        "\n",
        "Chinese: 0.56-0.57\n",
        "\n",
        "1) BERT beats these explain why and describe it\n",
        "\n",
        "2) Model predicts mental health concerns better in English, then Chinese then French. Explains why signs of mental health may be different in each language.\n",
        "\n",
        "- touch on cultural precedences and topic of mental health\n",
        "\n",
        "- vastness in words (# of words existing in each language)\n",
        "\n",
        "- does it beat hypothesis ?"
      ]
    },
    {
      "cell_type": "markdown",
      "metadata": {
        "id": "hcfM4WiHCjL8"
      },
      "source": [
        "#### Pitfalls/Critiques\n",
        "\n",
        "- BERT large language model has more overall more training parameters and learning dedicated to English than any other language. It is multilingual, however it's classification capabilities vary across languages\n",
        "- Words may not directly translate over from generic english semantics\n",
        "- Google translate may have shortcomings in terms of translations"
      ]
    },
    {
      "cell_type": "code",
      "execution_count": null,
      "metadata": {
        "id": "m9GA0A0718qs",
        "outputId": "dcee379d-48d9-43e8-cf90-0491c0ea289b"
      },
      "outputs": [
        {
          "name": "stdout",
          "output_type": "stream",
          "text": [
            "model device:  cpu\n"
          ]
        }
      ],
      "source": []
    }
  ],
  "metadata": {
    "accelerator": "GPU",
    "colab": {
      "gpuType": "T4",
      "provenance": []
    },
    "kernelspec": {
      "display_name": "Python 3",
      "name": "python3"
    },
    "language_info": {
      "codemirror_mode": {
        "name": "ipython",
        "version": 3
      },
      "file_extension": ".py",
      "mimetype": "text/x-python",
      "name": "python",
      "nbconvert_exporter": "python",
      "pygments_lexer": "ipython3",
      "version": "3.10.12"
    },
    "widgets": {
      "application/vnd.jupyter.widget-state+json": {
        "00866fd5b4a4416496e14d2eab2bf4af": {
          "model_module": "@jupyter-widgets/controls",
          "model_module_version": "1.5.0",
          "model_name": "FloatProgressModel",
          "state": {
            "_dom_classes": [],
            "_model_module": "@jupyter-widgets/controls",
            "_model_module_version": "1.5.0",
            "_model_name": "FloatProgressModel",
            "_view_count": null,
            "_view_module": "@jupyter-widgets/controls",
            "_view_module_version": "1.5.0",
            "_view_name": "ProgressView",
            "bar_style": "success",
            "description": "",
            "description_tooltip": null,
            "layout": "IPY_MODEL_9088854f328d4d148c1f3ced2608389e",
            "max": 465,
            "min": 0,
            "orientation": "horizontal",
            "style": "IPY_MODEL_c118b0476d1c46aeba532c26c2d3259e",
            "value": 465
          }
        },
        "012fc5befbd9458282173f84d4d6157e": {
          "model_module": "@jupyter-widgets/controls",
          "model_module_version": "1.5.0",
          "model_name": "ProgressStyleModel",
          "state": {
            "_model_module": "@jupyter-widgets/controls",
            "_model_module_version": "1.5.0",
            "_model_name": "ProgressStyleModel",
            "_view_count": null,
            "_view_module": "@jupyter-widgets/base",
            "_view_module_version": "1.2.0",
            "_view_name": "StyleView",
            "bar_color": null,
            "description_width": ""
          }
        },
        "0160c3ac2b0d4df29b70c2a8c3621ea5": {
          "model_module": "@jupyter-widgets/controls",
          "model_module_version": "1.5.0",
          "model_name": "HTMLModel",
          "state": {
            "_dom_classes": [],
            "_model_module": "@jupyter-widgets/controls",
            "_model_module_version": "1.5.0",
            "_model_name": "HTMLModel",
            "_view_count": null,
            "_view_module": "@jupyter-widgets/controls",
            "_view_module_version": "1.5.0",
            "_view_name": "HTMLView",
            "description": "",
            "description_tooltip": null,
            "layout": "IPY_MODEL_aabce37365f448bf8b9606572ae76c29",
            "placeholder": "​",
            "style": "IPY_MODEL_9db6b40e64cc4097a9fafc5df99f8f0e",
            "value": "vocab.txt: 100%"
          }
        },
        "10075f5d7b444bd9bd26f7dd6d4abb9c": {
          "model_module": "@jupyter-widgets/controls",
          "model_module_version": "1.5.0",
          "model_name": "HBoxModel",
          "state": {
            "_dom_classes": [],
            "_model_module": "@jupyter-widgets/controls",
            "_model_module_version": "1.5.0",
            "_model_name": "HBoxModel",
            "_view_count": null,
            "_view_module": "@jupyter-widgets/controls",
            "_view_module_version": "1.5.0",
            "_view_name": "HBoxView",
            "box_style": "",
            "children": [
              "IPY_MODEL_0160c3ac2b0d4df29b70c2a8c3621ea5",
              "IPY_MODEL_bcfdf68844a540aca9e6fa35241f1b5c",
              "IPY_MODEL_bde4070b8ce8435c89a2e50e64606323"
            ],
            "layout": "IPY_MODEL_4888eb903e0147c58784fe3284d5272c"
          }
        },
        "104d0dfc760e46d7839e4e601446db04": {
          "model_module": "@jupyter-widgets/base",
          "model_module_version": "1.2.0",
          "model_name": "LayoutModel",
          "state": {
            "_model_module": "@jupyter-widgets/base",
            "_model_module_version": "1.2.0",
            "_model_name": "LayoutModel",
            "_view_count": null,
            "_view_module": "@jupyter-widgets/base",
            "_view_module_version": "1.2.0",
            "_view_name": "LayoutView",
            "align_content": null,
            "align_items": null,
            "align_self": null,
            "border": null,
            "bottom": null,
            "display": null,
            "flex": null,
            "flex_flow": null,
            "grid_area": null,
            "grid_auto_columns": null,
            "grid_auto_flow": null,
            "grid_auto_rows": null,
            "grid_column": null,
            "grid_gap": null,
            "grid_row": null,
            "grid_template_areas": null,
            "grid_template_columns": null,
            "grid_template_rows": null,
            "height": null,
            "justify_content": null,
            "justify_items": null,
            "left": null,
            "margin": null,
            "max_height": null,
            "max_width": null,
            "min_height": null,
            "min_width": null,
            "object_fit": null,
            "object_position": null,
            "order": null,
            "overflow": null,
            "overflow_x": null,
            "overflow_y": null,
            "padding": null,
            "right": null,
            "top": null,
            "visibility": null,
            "width": null
          }
        },
        "11e6d0b08f9b46bab880d58396506b58": {
          "model_module": "@jupyter-widgets/controls",
          "model_module_version": "1.5.0",
          "model_name": "HBoxModel",
          "state": {
            "_dom_classes": [],
            "_model_module": "@jupyter-widgets/controls",
            "_model_module_version": "1.5.0",
            "_model_name": "HBoxModel",
            "_view_count": null,
            "_view_module": "@jupyter-widgets/controls",
            "_view_module_version": "1.5.0",
            "_view_name": "HBoxView",
            "box_style": "",
            "children": [
              "IPY_MODEL_6ca2fdc0ba87416ba4c63c4ae3d67bdf",
              "IPY_MODEL_00866fd5b4a4416496e14d2eab2bf4af",
              "IPY_MODEL_ae9ba48f97d7467b859fe791b22d15e2"
            ],
            "layout": "IPY_MODEL_5ec4b797463047d498cc01de863cff0d"
          }
        },
        "12aa9d0c25cc43eba754a2c22a6c1bc6": {
          "model_module": "@jupyter-widgets/base",
          "model_module_version": "1.2.0",
          "model_name": "LayoutModel",
          "state": {
            "_model_module": "@jupyter-widgets/base",
            "_model_module_version": "1.2.0",
            "_model_name": "LayoutModel",
            "_view_count": null,
            "_view_module": "@jupyter-widgets/base",
            "_view_module_version": "1.2.0",
            "_view_name": "LayoutView",
            "align_content": null,
            "align_items": null,
            "align_self": null,
            "border": null,
            "bottom": null,
            "display": null,
            "flex": null,
            "flex_flow": null,
            "grid_area": null,
            "grid_auto_columns": null,
            "grid_auto_flow": null,
            "grid_auto_rows": null,
            "grid_column": null,
            "grid_gap": null,
            "grid_row": null,
            "grid_template_areas": null,
            "grid_template_columns": null,
            "grid_template_rows": null,
            "height": null,
            "justify_content": null,
            "justify_items": null,
            "left": null,
            "margin": null,
            "max_height": null,
            "max_width": null,
            "min_height": null,
            "min_width": null,
            "object_fit": null,
            "object_position": null,
            "order": null,
            "overflow": null,
            "overflow_x": null,
            "overflow_y": null,
            "padding": null,
            "right": null,
            "top": null,
            "visibility": null,
            "width": null
          }
        },
        "1bc6f712b57347c7a565cf483d486e3b": {
          "model_module": "@jupyter-widgets/controls",
          "model_module_version": "1.5.0",
          "model_name": "HTMLModel",
          "state": {
            "_dom_classes": [],
            "_model_module": "@jupyter-widgets/controls",
            "_model_module_version": "1.5.0",
            "_model_name": "HTMLModel",
            "_view_count": null,
            "_view_module": "@jupyter-widgets/controls",
            "_view_module_version": "1.5.0",
            "_view_name": "HTMLView",
            "description": "",
            "description_tooltip": null,
            "layout": "IPY_MODEL_9089364c7c0646fd8513d3a28d58e208",
            "placeholder": "​",
            "style": "IPY_MODEL_ff5a5f99c96044fb96e0431f8c81b072",
            "value": " 29.0/29.0 [00:00&lt;00:00, 1.73kB/s]"
          }
        },
        "24235241002f45e1aedfadaf0dcba432": {
          "model_module": "@jupyter-widgets/base",
          "model_module_version": "1.2.0",
          "model_name": "LayoutModel",
          "state": {
            "_model_module": "@jupyter-widgets/base",
            "_model_module_version": "1.2.0",
            "_model_name": "LayoutModel",
            "_view_count": null,
            "_view_module": "@jupyter-widgets/base",
            "_view_module_version": "1.2.0",
            "_view_name": "LayoutView",
            "align_content": null,
            "align_items": null,
            "align_self": null,
            "border": null,
            "bottom": null,
            "display": null,
            "flex": null,
            "flex_flow": null,
            "grid_area": null,
            "grid_auto_columns": null,
            "grid_auto_flow": null,
            "grid_auto_rows": null,
            "grid_column": null,
            "grid_gap": null,
            "grid_row": null,
            "grid_template_areas": null,
            "grid_template_columns": null,
            "grid_template_rows": null,
            "height": null,
            "justify_content": null,
            "justify_items": null,
            "left": null,
            "margin": null,
            "max_height": null,
            "max_width": null,
            "min_height": null,
            "min_width": null,
            "object_fit": null,
            "object_position": null,
            "order": null,
            "overflow": null,
            "overflow_x": null,
            "overflow_y": null,
            "padding": null,
            "right": null,
            "top": null,
            "visibility": null,
            "width": null
          }
        },
        "2e67e9c112644858b258a87686a31359": {
          "model_module": "@jupyter-widgets/controls",
          "model_module_version": "1.5.0",
          "model_name": "HTMLModel",
          "state": {
            "_dom_classes": [],
            "_model_module": "@jupyter-widgets/controls",
            "_model_module_version": "1.5.0",
            "_model_name": "HTMLModel",
            "_view_count": null,
            "_view_module": "@jupyter-widgets/controls",
            "_view_module_version": "1.5.0",
            "_view_name": "HTMLView",
            "description": "",
            "description_tooltip": null,
            "layout": "IPY_MODEL_24235241002f45e1aedfadaf0dcba432",
            "placeholder": "​",
            "style": "IPY_MODEL_92d7b619eac24a4e87f6f3365c38a086",
            "value": " 436k/436k [00:00&lt;00:00, 4.50MB/s]"
          }
        },
        "3e2b4ce2d9a2405eaf66ffbdc08975fb": {
          "model_module": "@jupyter-widgets/base",
          "model_module_version": "1.2.0",
          "model_name": "LayoutModel",
          "state": {
            "_model_module": "@jupyter-widgets/base",
            "_model_module_version": "1.2.0",
            "_model_name": "LayoutModel",
            "_view_count": null,
            "_view_module": "@jupyter-widgets/base",
            "_view_module_version": "1.2.0",
            "_view_name": "LayoutView",
            "align_content": null,
            "align_items": null,
            "align_self": null,
            "border": null,
            "bottom": null,
            "display": null,
            "flex": null,
            "flex_flow": null,
            "grid_area": null,
            "grid_auto_columns": null,
            "grid_auto_flow": null,
            "grid_auto_rows": null,
            "grid_column": null,
            "grid_gap": null,
            "grid_row": null,
            "grid_template_areas": null,
            "grid_template_columns": null,
            "grid_template_rows": null,
            "height": null,
            "justify_content": null,
            "justify_items": null,
            "left": null,
            "margin": null,
            "max_height": null,
            "max_width": null,
            "min_height": null,
            "min_width": null,
            "object_fit": null,
            "object_position": null,
            "order": null,
            "overflow": null,
            "overflow_x": null,
            "overflow_y": null,
            "padding": null,
            "right": null,
            "top": null,
            "visibility": null,
            "width": null
          }
        },
        "4888eb903e0147c58784fe3284d5272c": {
          "model_module": "@jupyter-widgets/base",
          "model_module_version": "1.2.0",
          "model_name": "LayoutModel",
          "state": {
            "_model_module": "@jupyter-widgets/base",
            "_model_module_version": "1.2.0",
            "_model_name": "LayoutModel",
            "_view_count": null,
            "_view_module": "@jupyter-widgets/base",
            "_view_module_version": "1.2.0",
            "_view_name": "LayoutView",
            "align_content": null,
            "align_items": null,
            "align_self": null,
            "border": null,
            "bottom": null,
            "display": null,
            "flex": null,
            "flex_flow": null,
            "grid_area": null,
            "grid_auto_columns": null,
            "grid_auto_flow": null,
            "grid_auto_rows": null,
            "grid_column": null,
            "grid_gap": null,
            "grid_row": null,
            "grid_template_areas": null,
            "grid_template_columns": null,
            "grid_template_rows": null,
            "height": null,
            "justify_content": null,
            "justify_items": null,
            "left": null,
            "margin": null,
            "max_height": null,
            "max_width": null,
            "min_height": null,
            "min_width": null,
            "object_fit": null,
            "object_position": null,
            "order": null,
            "overflow": null,
            "overflow_x": null,
            "overflow_y": null,
            "padding": null,
            "right": null,
            "top": null,
            "visibility": null,
            "width": null
          }
        },
        "4bc00afba07d41e2ad99b19c69019bbb": {
          "model_module": "@jupyter-widgets/controls",
          "model_module_version": "1.5.0",
          "model_name": "DescriptionStyleModel",
          "state": {
            "_model_module": "@jupyter-widgets/controls",
            "_model_module_version": "1.5.0",
            "_model_name": "DescriptionStyleModel",
            "_view_count": null,
            "_view_module": "@jupyter-widgets/base",
            "_view_module_version": "1.2.0",
            "_view_name": "StyleView",
            "description_width": ""
          }
        },
        "5295aac13647413b8a822383d9e0bbcc": {
          "model_module": "@jupyter-widgets/controls",
          "model_module_version": "1.5.0",
          "model_name": "DescriptionStyleModel",
          "state": {
            "_model_module": "@jupyter-widgets/controls",
            "_model_module_version": "1.5.0",
            "_model_name": "DescriptionStyleModel",
            "_view_count": null,
            "_view_module": "@jupyter-widgets/base",
            "_view_module_version": "1.2.0",
            "_view_name": "StyleView",
            "description_width": ""
          }
        },
        "52eb2ef3a47145058a4de682e268a4f0": {
          "model_module": "@jupyter-widgets/controls",
          "model_module_version": "1.5.0",
          "model_name": "HTMLModel",
          "state": {
            "_dom_classes": [],
            "_model_module": "@jupyter-widgets/controls",
            "_model_module_version": "1.5.0",
            "_model_name": "HTMLModel",
            "_view_count": null,
            "_view_module": "@jupyter-widgets/controls",
            "_view_module_version": "1.5.0",
            "_view_name": "HTMLView",
            "description": "",
            "description_tooltip": null,
            "layout": "IPY_MODEL_6d3f4d2ed0e4465ab0750ebb26fce8a2",
            "placeholder": "​",
            "style": "IPY_MODEL_efb6b55bfae64a0ea0dfdb3ed04cbd1c",
            "value": "tokenizer_config.json: 100%"
          }
        },
        "5ec4b797463047d498cc01de863cff0d": {
          "model_module": "@jupyter-widgets/base",
          "model_module_version": "1.2.0",
          "model_name": "LayoutModel",
          "state": {
            "_model_module": "@jupyter-widgets/base",
            "_model_module_version": "1.2.0",
            "_model_name": "LayoutModel",
            "_view_count": null,
            "_view_module": "@jupyter-widgets/base",
            "_view_module_version": "1.2.0",
            "_view_name": "LayoutView",
            "align_content": null,
            "align_items": null,
            "align_self": null,
            "border": null,
            "bottom": null,
            "display": null,
            "flex": null,
            "flex_flow": null,
            "grid_area": null,
            "grid_auto_columns": null,
            "grid_auto_flow": null,
            "grid_auto_rows": null,
            "grid_column": null,
            "grid_gap": null,
            "grid_row": null,
            "grid_template_areas": null,
            "grid_template_columns": null,
            "grid_template_rows": null,
            "height": null,
            "justify_content": null,
            "justify_items": null,
            "left": null,
            "margin": null,
            "max_height": null,
            "max_width": null,
            "min_height": null,
            "min_width": null,
            "object_fit": null,
            "object_position": null,
            "order": null,
            "overflow": null,
            "overflow_x": null,
            "overflow_y": null,
            "padding": null,
            "right": null,
            "top": null,
            "visibility": null,
            "width": null
          }
        },
        "63d00d3efc5d4464970750e367a1b0ea": {
          "model_module": "@jupyter-widgets/controls",
          "model_module_version": "1.5.0",
          "model_name": "ProgressStyleModel",
          "state": {
            "_model_module": "@jupyter-widgets/controls",
            "_model_module_version": "1.5.0",
            "_model_name": "ProgressStyleModel",
            "_view_count": null,
            "_view_module": "@jupyter-widgets/base",
            "_view_module_version": "1.2.0",
            "_view_name": "StyleView",
            "bar_color": null,
            "description_width": ""
          }
        },
        "6ca2fdc0ba87416ba4c63c4ae3d67bdf": {
          "model_module": "@jupyter-widgets/controls",
          "model_module_version": "1.5.0",
          "model_name": "HTMLModel",
          "state": {
            "_dom_classes": [],
            "_model_module": "@jupyter-widgets/controls",
            "_model_module_version": "1.5.0",
            "_model_name": "HTMLModel",
            "_view_count": null,
            "_view_module": "@jupyter-widgets/controls",
            "_view_module_version": "1.5.0",
            "_view_name": "HTMLView",
            "description": "",
            "description_tooltip": null,
            "layout": "IPY_MODEL_3e2b4ce2d9a2405eaf66ffbdc08975fb",
            "placeholder": "​",
            "style": "IPY_MODEL_e5f96806fc8a4149912e6d9b72fdd116",
            "value": "config.json: 100%"
          }
        },
        "6d3f4d2ed0e4465ab0750ebb26fce8a2": {
          "model_module": "@jupyter-widgets/base",
          "model_module_version": "1.2.0",
          "model_name": "LayoutModel",
          "state": {
            "_model_module": "@jupyter-widgets/base",
            "_model_module_version": "1.2.0",
            "_model_name": "LayoutModel",
            "_view_count": null,
            "_view_module": "@jupyter-widgets/base",
            "_view_module_version": "1.2.0",
            "_view_name": "LayoutView",
            "align_content": null,
            "align_items": null,
            "align_self": null,
            "border": null,
            "bottom": null,
            "display": null,
            "flex": null,
            "flex_flow": null,
            "grid_area": null,
            "grid_auto_columns": null,
            "grid_auto_flow": null,
            "grid_auto_rows": null,
            "grid_column": null,
            "grid_gap": null,
            "grid_row": null,
            "grid_template_areas": null,
            "grid_template_columns": null,
            "grid_template_rows": null,
            "height": null,
            "justify_content": null,
            "justify_items": null,
            "left": null,
            "margin": null,
            "max_height": null,
            "max_width": null,
            "min_height": null,
            "min_width": null,
            "object_fit": null,
            "object_position": null,
            "order": null,
            "overflow": null,
            "overflow_x": null,
            "overflow_y": null,
            "padding": null,
            "right": null,
            "top": null,
            "visibility": null,
            "width": null
          }
        },
        "721f3951f29d4b9c84271da015b1cca0": {
          "model_module": "@jupyter-widgets/controls",
          "model_module_version": "1.5.0",
          "model_name": "DescriptionStyleModel",
          "state": {
            "_model_module": "@jupyter-widgets/controls",
            "_model_module_version": "1.5.0",
            "_model_name": "DescriptionStyleModel",
            "_view_count": null,
            "_view_module": "@jupyter-widgets/base",
            "_view_module_version": "1.2.0",
            "_view_name": "StyleView",
            "description_width": ""
          }
        },
        "7d54e7c1e7684fc5b646df8936bc4d2b": {
          "model_module": "@jupyter-widgets/base",
          "model_module_version": "1.2.0",
          "model_name": "LayoutModel",
          "state": {
            "_model_module": "@jupyter-widgets/base",
            "_model_module_version": "1.2.0",
            "_model_name": "LayoutModel",
            "_view_count": null,
            "_view_module": "@jupyter-widgets/base",
            "_view_module_version": "1.2.0",
            "_view_name": "LayoutView",
            "align_content": null,
            "align_items": null,
            "align_self": null,
            "border": null,
            "bottom": null,
            "display": null,
            "flex": null,
            "flex_flow": null,
            "grid_area": null,
            "grid_auto_columns": null,
            "grid_auto_flow": null,
            "grid_auto_rows": null,
            "grid_column": null,
            "grid_gap": null,
            "grid_row": null,
            "grid_template_areas": null,
            "grid_template_columns": null,
            "grid_template_rows": null,
            "height": null,
            "justify_content": null,
            "justify_items": null,
            "left": null,
            "margin": null,
            "max_height": null,
            "max_width": null,
            "min_height": null,
            "min_width": null,
            "object_fit": null,
            "object_position": null,
            "order": null,
            "overflow": null,
            "overflow_x": null,
            "overflow_y": null,
            "padding": null,
            "right": null,
            "top": null,
            "visibility": null,
            "width": null
          }
        },
        "8bb6082fd62045aeb2aa7b913c9ea111": {
          "model_module": "@jupyter-widgets/controls",
          "model_module_version": "1.5.0",
          "model_name": "ProgressStyleModel",
          "state": {
            "_model_module": "@jupyter-widgets/controls",
            "_model_module_version": "1.5.0",
            "_model_name": "ProgressStyleModel",
            "_view_count": null,
            "_view_module": "@jupyter-widgets/base",
            "_view_module_version": "1.2.0",
            "_view_name": "StyleView",
            "bar_color": null,
            "description_width": ""
          }
        },
        "9088854f328d4d148c1f3ced2608389e": {
          "model_module": "@jupyter-widgets/base",
          "model_module_version": "1.2.0",
          "model_name": "LayoutModel",
          "state": {
            "_model_module": "@jupyter-widgets/base",
            "_model_module_version": "1.2.0",
            "_model_name": "LayoutModel",
            "_view_count": null,
            "_view_module": "@jupyter-widgets/base",
            "_view_module_version": "1.2.0",
            "_view_name": "LayoutView",
            "align_content": null,
            "align_items": null,
            "align_self": null,
            "border": null,
            "bottom": null,
            "display": null,
            "flex": null,
            "flex_flow": null,
            "grid_area": null,
            "grid_auto_columns": null,
            "grid_auto_flow": null,
            "grid_auto_rows": null,
            "grid_column": null,
            "grid_gap": null,
            "grid_row": null,
            "grid_template_areas": null,
            "grid_template_columns": null,
            "grid_template_rows": null,
            "height": null,
            "justify_content": null,
            "justify_items": null,
            "left": null,
            "margin": null,
            "max_height": null,
            "max_width": null,
            "min_height": null,
            "min_width": null,
            "object_fit": null,
            "object_position": null,
            "order": null,
            "overflow": null,
            "overflow_x": null,
            "overflow_y": null,
            "padding": null,
            "right": null,
            "top": null,
            "visibility": null,
            "width": null
          }
        },
        "9089364c7c0646fd8513d3a28d58e208": {
          "model_module": "@jupyter-widgets/base",
          "model_module_version": "1.2.0",
          "model_name": "LayoutModel",
          "state": {
            "_model_module": "@jupyter-widgets/base",
            "_model_module_version": "1.2.0",
            "_model_name": "LayoutModel",
            "_view_count": null,
            "_view_module": "@jupyter-widgets/base",
            "_view_module_version": "1.2.0",
            "_view_name": "LayoutView",
            "align_content": null,
            "align_items": null,
            "align_self": null,
            "border": null,
            "bottom": null,
            "display": null,
            "flex": null,
            "flex_flow": null,
            "grid_area": null,
            "grid_auto_columns": null,
            "grid_auto_flow": null,
            "grid_auto_rows": null,
            "grid_column": null,
            "grid_gap": null,
            "grid_row": null,
            "grid_template_areas": null,
            "grid_template_columns": null,
            "grid_template_rows": null,
            "height": null,
            "justify_content": null,
            "justify_items": null,
            "left": null,
            "margin": null,
            "max_height": null,
            "max_width": null,
            "min_height": null,
            "min_width": null,
            "object_fit": null,
            "object_position": null,
            "order": null,
            "overflow": null,
            "overflow_x": null,
            "overflow_y": null,
            "padding": null,
            "right": null,
            "top": null,
            "visibility": null,
            "width": null
          }
        },
        "92d7b619eac24a4e87f6f3365c38a086": {
          "model_module": "@jupyter-widgets/controls",
          "model_module_version": "1.5.0",
          "model_name": "DescriptionStyleModel",
          "state": {
            "_model_module": "@jupyter-widgets/controls",
            "_model_module_version": "1.5.0",
            "_model_name": "DescriptionStyleModel",
            "_view_count": null,
            "_view_module": "@jupyter-widgets/base",
            "_view_module_version": "1.2.0",
            "_view_name": "StyleView",
            "description_width": ""
          }
        },
        "96e0d98b60ad4a8f936b25d2d029428c": {
          "model_module": "@jupyter-widgets/base",
          "model_module_version": "1.2.0",
          "model_name": "LayoutModel",
          "state": {
            "_model_module": "@jupyter-widgets/base",
            "_model_module_version": "1.2.0",
            "_model_name": "LayoutModel",
            "_view_count": null,
            "_view_module": "@jupyter-widgets/base",
            "_view_module_version": "1.2.0",
            "_view_name": "LayoutView",
            "align_content": null,
            "align_items": null,
            "align_self": null,
            "border": null,
            "bottom": null,
            "display": null,
            "flex": null,
            "flex_flow": null,
            "grid_area": null,
            "grid_auto_columns": null,
            "grid_auto_flow": null,
            "grid_auto_rows": null,
            "grid_column": null,
            "grid_gap": null,
            "grid_row": null,
            "grid_template_areas": null,
            "grid_template_columns": null,
            "grid_template_rows": null,
            "height": null,
            "justify_content": null,
            "justify_items": null,
            "left": null,
            "margin": null,
            "max_height": null,
            "max_width": null,
            "min_height": null,
            "min_width": null,
            "object_fit": null,
            "object_position": null,
            "order": null,
            "overflow": null,
            "overflow_x": null,
            "overflow_y": null,
            "padding": null,
            "right": null,
            "top": null,
            "visibility": null,
            "width": null
          }
        },
        "9db6b40e64cc4097a9fafc5df99f8f0e": {
          "model_module": "@jupyter-widgets/controls",
          "model_module_version": "1.5.0",
          "model_name": "DescriptionStyleModel",
          "state": {
            "_model_module": "@jupyter-widgets/controls",
            "_model_module_version": "1.5.0",
            "_model_name": "DescriptionStyleModel",
            "_view_count": null,
            "_view_module": "@jupyter-widgets/base",
            "_view_module_version": "1.2.0",
            "_view_name": "StyleView",
            "description_width": ""
          }
        },
        "aabce37365f448bf8b9606572ae76c29": {
          "model_module": "@jupyter-widgets/base",
          "model_module_version": "1.2.0",
          "model_name": "LayoutModel",
          "state": {
            "_model_module": "@jupyter-widgets/base",
            "_model_module_version": "1.2.0",
            "_model_name": "LayoutModel",
            "_view_count": null,
            "_view_module": "@jupyter-widgets/base",
            "_view_module_version": "1.2.0",
            "_view_name": "LayoutView",
            "align_content": null,
            "align_items": null,
            "align_self": null,
            "border": null,
            "bottom": null,
            "display": null,
            "flex": null,
            "flex_flow": null,
            "grid_area": null,
            "grid_auto_columns": null,
            "grid_auto_flow": null,
            "grid_auto_rows": null,
            "grid_column": null,
            "grid_gap": null,
            "grid_row": null,
            "grid_template_areas": null,
            "grid_template_columns": null,
            "grid_template_rows": null,
            "height": null,
            "justify_content": null,
            "justify_items": null,
            "left": null,
            "margin": null,
            "max_height": null,
            "max_width": null,
            "min_height": null,
            "min_width": null,
            "object_fit": null,
            "object_position": null,
            "order": null,
            "overflow": null,
            "overflow_x": null,
            "overflow_y": null,
            "padding": null,
            "right": null,
            "top": null,
            "visibility": null,
            "width": null
          }
        },
        "aafc310945674fa788827420a6792591": {
          "model_module": "@jupyter-widgets/base",
          "model_module_version": "1.2.0",
          "model_name": "LayoutModel",
          "state": {
            "_model_module": "@jupyter-widgets/base",
            "_model_module_version": "1.2.0",
            "_model_name": "LayoutModel",
            "_view_count": null,
            "_view_module": "@jupyter-widgets/base",
            "_view_module_version": "1.2.0",
            "_view_name": "LayoutView",
            "align_content": null,
            "align_items": null,
            "align_self": null,
            "border": null,
            "bottom": null,
            "display": null,
            "flex": null,
            "flex_flow": null,
            "grid_area": null,
            "grid_auto_columns": null,
            "grid_auto_flow": null,
            "grid_auto_rows": null,
            "grid_column": null,
            "grid_gap": null,
            "grid_row": null,
            "grid_template_areas": null,
            "grid_template_columns": null,
            "grid_template_rows": null,
            "height": null,
            "justify_content": null,
            "justify_items": null,
            "left": null,
            "margin": null,
            "max_height": null,
            "max_width": null,
            "min_height": null,
            "min_width": null,
            "object_fit": null,
            "object_position": null,
            "order": null,
            "overflow": null,
            "overflow_x": null,
            "overflow_y": null,
            "padding": null,
            "right": null,
            "top": null,
            "visibility": null,
            "width": null
          }
        },
        "ac9f2794a505405d91596194a26aca75": {
          "model_module": "@jupyter-widgets/controls",
          "model_module_version": "1.5.0",
          "model_name": "FloatProgressModel",
          "state": {
            "_dom_classes": [],
            "_model_module": "@jupyter-widgets/controls",
            "_model_module_version": "1.5.0",
            "_model_name": "FloatProgressModel",
            "_view_count": null,
            "_view_module": "@jupyter-widgets/controls",
            "_view_module_version": "1.5.0",
            "_view_name": "ProgressView",
            "bar_style": "success",
            "description": "",
            "description_tooltip": null,
            "layout": "IPY_MODEL_aafc310945674fa788827420a6792591",
            "max": 29,
            "min": 0,
            "orientation": "horizontal",
            "style": "IPY_MODEL_63d00d3efc5d4464970750e367a1b0ea",
            "value": 29
          }
        },
        "ae9ba48f97d7467b859fe791b22d15e2": {
          "model_module": "@jupyter-widgets/controls",
          "model_module_version": "1.5.0",
          "model_name": "HTMLModel",
          "state": {
            "_dom_classes": [],
            "_model_module": "@jupyter-widgets/controls",
            "_model_module_version": "1.5.0",
            "_model_name": "HTMLModel",
            "_view_count": null,
            "_view_module": "@jupyter-widgets/controls",
            "_view_module_version": "1.5.0",
            "_view_name": "HTMLView",
            "description": "",
            "description_tooltip": null,
            "layout": "IPY_MODEL_bad1dacbd0194eb5bc01308061c04ee2",
            "placeholder": "​",
            "style": "IPY_MODEL_4bc00afba07d41e2ad99b19c69019bbb",
            "value": " 465/465 [00:00&lt;00:00, 6.01kB/s]"
          }
        },
        "af5ddb5eb46e4e7caefdbe2d351fe8d2": {
          "model_module": "@jupyter-widgets/controls",
          "model_module_version": "1.5.0",
          "model_name": "HTMLModel",
          "state": {
            "_dom_classes": [],
            "_model_module": "@jupyter-widgets/controls",
            "_model_module_version": "1.5.0",
            "_model_name": "HTMLModel",
            "_view_count": null,
            "_view_module": "@jupyter-widgets/controls",
            "_view_module_version": "1.5.0",
            "_view_name": "HTMLView",
            "description": "",
            "description_tooltip": null,
            "layout": "IPY_MODEL_fbde33aa9bb94524a4e1b3483846a59d",
            "placeholder": "​",
            "style": "IPY_MODEL_721f3951f29d4b9c84271da015b1cca0",
            "value": "tokenizer.json: 100%"
          }
        },
        "bad1dacbd0194eb5bc01308061c04ee2": {
          "model_module": "@jupyter-widgets/base",
          "model_module_version": "1.2.0",
          "model_name": "LayoutModel",
          "state": {
            "_model_module": "@jupyter-widgets/base",
            "_model_module_version": "1.2.0",
            "_model_name": "LayoutModel",
            "_view_count": null,
            "_view_module": "@jupyter-widgets/base",
            "_view_module_version": "1.2.0",
            "_view_name": "LayoutView",
            "align_content": null,
            "align_items": null,
            "align_self": null,
            "border": null,
            "bottom": null,
            "display": null,
            "flex": null,
            "flex_flow": null,
            "grid_area": null,
            "grid_auto_columns": null,
            "grid_auto_flow": null,
            "grid_auto_rows": null,
            "grid_column": null,
            "grid_gap": null,
            "grid_row": null,
            "grid_template_areas": null,
            "grid_template_columns": null,
            "grid_template_rows": null,
            "height": null,
            "justify_content": null,
            "justify_items": null,
            "left": null,
            "margin": null,
            "max_height": null,
            "max_width": null,
            "min_height": null,
            "min_width": null,
            "object_fit": null,
            "object_position": null,
            "order": null,
            "overflow": null,
            "overflow_x": null,
            "overflow_y": null,
            "padding": null,
            "right": null,
            "top": null,
            "visibility": null,
            "width": null
          }
        },
        "bc456b66bd3145278dc615a2f7dbbab5": {
          "model_module": "@jupyter-widgets/controls",
          "model_module_version": "1.5.0",
          "model_name": "HBoxModel",
          "state": {
            "_dom_classes": [],
            "_model_module": "@jupyter-widgets/controls",
            "_model_module_version": "1.5.0",
            "_model_name": "HBoxModel",
            "_view_count": null,
            "_view_module": "@jupyter-widgets/controls",
            "_view_module_version": "1.5.0",
            "_view_name": "HBoxView",
            "box_style": "",
            "children": [
              "IPY_MODEL_52eb2ef3a47145058a4de682e268a4f0",
              "IPY_MODEL_ac9f2794a505405d91596194a26aca75",
              "IPY_MODEL_1bc6f712b57347c7a565cf483d486e3b"
            ],
            "layout": "IPY_MODEL_104d0dfc760e46d7839e4e601446db04"
          }
        },
        "bcfdf68844a540aca9e6fa35241f1b5c": {
          "model_module": "@jupyter-widgets/controls",
          "model_module_version": "1.5.0",
          "model_name": "FloatProgressModel",
          "state": {
            "_dom_classes": [],
            "_model_module": "@jupyter-widgets/controls",
            "_model_module_version": "1.5.0",
            "_model_name": "FloatProgressModel",
            "_view_count": null,
            "_view_module": "@jupyter-widgets/controls",
            "_view_module_version": "1.5.0",
            "_view_name": "ProgressView",
            "bar_style": "success",
            "description": "",
            "description_tooltip": null,
            "layout": "IPY_MODEL_12aa9d0c25cc43eba754a2c22a6c1bc6",
            "max": 213450,
            "min": 0,
            "orientation": "horizontal",
            "style": "IPY_MODEL_8bb6082fd62045aeb2aa7b913c9ea111",
            "value": 213450
          }
        },
        "bde4070b8ce8435c89a2e50e64606323": {
          "model_module": "@jupyter-widgets/controls",
          "model_module_version": "1.5.0",
          "model_name": "HTMLModel",
          "state": {
            "_dom_classes": [],
            "_model_module": "@jupyter-widgets/controls",
            "_model_module_version": "1.5.0",
            "_model_name": "HTMLModel",
            "_view_count": null,
            "_view_module": "@jupyter-widgets/controls",
            "_view_module_version": "1.5.0",
            "_view_name": "HTMLView",
            "description": "",
            "description_tooltip": null,
            "layout": "IPY_MODEL_c05f73f3c1e849f9b67f708de9736cb9",
            "placeholder": "​",
            "style": "IPY_MODEL_5295aac13647413b8a822383d9e0bbcc",
            "value": " 213k/213k [00:00&lt;00:00, 7.59MB/s]"
          }
        },
        "c05f73f3c1e849f9b67f708de9736cb9": {
          "model_module": "@jupyter-widgets/base",
          "model_module_version": "1.2.0",
          "model_name": "LayoutModel",
          "state": {
            "_model_module": "@jupyter-widgets/base",
            "_model_module_version": "1.2.0",
            "_model_name": "LayoutModel",
            "_view_count": null,
            "_view_module": "@jupyter-widgets/base",
            "_view_module_version": "1.2.0",
            "_view_name": "LayoutView",
            "align_content": null,
            "align_items": null,
            "align_self": null,
            "border": null,
            "bottom": null,
            "display": null,
            "flex": null,
            "flex_flow": null,
            "grid_area": null,
            "grid_auto_columns": null,
            "grid_auto_flow": null,
            "grid_auto_rows": null,
            "grid_column": null,
            "grid_gap": null,
            "grid_row": null,
            "grid_template_areas": null,
            "grid_template_columns": null,
            "grid_template_rows": null,
            "height": null,
            "justify_content": null,
            "justify_items": null,
            "left": null,
            "margin": null,
            "max_height": null,
            "max_width": null,
            "min_height": null,
            "min_width": null,
            "object_fit": null,
            "object_position": null,
            "order": null,
            "overflow": null,
            "overflow_x": null,
            "overflow_y": null,
            "padding": null,
            "right": null,
            "top": null,
            "visibility": null,
            "width": null
          }
        },
        "c118b0476d1c46aeba532c26c2d3259e": {
          "model_module": "@jupyter-widgets/controls",
          "model_module_version": "1.5.0",
          "model_name": "ProgressStyleModel",
          "state": {
            "_model_module": "@jupyter-widgets/controls",
            "_model_module_version": "1.5.0",
            "_model_name": "ProgressStyleModel",
            "_view_count": null,
            "_view_module": "@jupyter-widgets/base",
            "_view_module_version": "1.2.0",
            "_view_name": "StyleView",
            "bar_color": null,
            "description_width": ""
          }
        },
        "ca0373a9ec274befba089a870f187690": {
          "model_module": "@jupyter-widgets/controls",
          "model_module_version": "1.5.0",
          "model_name": "HBoxModel",
          "state": {
            "_dom_classes": [],
            "_model_module": "@jupyter-widgets/controls",
            "_model_module_version": "1.5.0",
            "_model_name": "HBoxModel",
            "_view_count": null,
            "_view_module": "@jupyter-widgets/controls",
            "_view_module_version": "1.5.0",
            "_view_name": "HBoxView",
            "box_style": "",
            "children": [
              "IPY_MODEL_af5ddb5eb46e4e7caefdbe2d351fe8d2",
              "IPY_MODEL_d3184b97e5024a43b2f781f7dfcf6b34",
              "IPY_MODEL_2e67e9c112644858b258a87686a31359"
            ],
            "layout": "IPY_MODEL_7d54e7c1e7684fc5b646df8936bc4d2b"
          }
        },
        "d3184b97e5024a43b2f781f7dfcf6b34": {
          "model_module": "@jupyter-widgets/controls",
          "model_module_version": "1.5.0",
          "model_name": "FloatProgressModel",
          "state": {
            "_dom_classes": [],
            "_model_module": "@jupyter-widgets/controls",
            "_model_module_version": "1.5.0",
            "_model_name": "FloatProgressModel",
            "_view_count": null,
            "_view_module": "@jupyter-widgets/controls",
            "_view_module_version": "1.5.0",
            "_view_name": "ProgressView",
            "bar_style": "success",
            "description": "",
            "description_tooltip": null,
            "layout": "IPY_MODEL_96e0d98b60ad4a8f936b25d2d029428c",
            "max": 435797,
            "min": 0,
            "orientation": "horizontal",
            "style": "IPY_MODEL_012fc5befbd9458282173f84d4d6157e",
            "value": 435797
          }
        },
        "e5f96806fc8a4149912e6d9b72fdd116": {
          "model_module": "@jupyter-widgets/controls",
          "model_module_version": "1.5.0",
          "model_name": "DescriptionStyleModel",
          "state": {
            "_model_module": "@jupyter-widgets/controls",
            "_model_module_version": "1.5.0",
            "_model_name": "DescriptionStyleModel",
            "_view_count": null,
            "_view_module": "@jupyter-widgets/base",
            "_view_module_version": "1.2.0",
            "_view_name": "StyleView",
            "description_width": ""
          }
        },
        "efb6b55bfae64a0ea0dfdb3ed04cbd1c": {
          "model_module": "@jupyter-widgets/controls",
          "model_module_version": "1.5.0",
          "model_name": "DescriptionStyleModel",
          "state": {
            "_model_module": "@jupyter-widgets/controls",
            "_model_module_version": "1.5.0",
            "_model_name": "DescriptionStyleModel",
            "_view_count": null,
            "_view_module": "@jupyter-widgets/base",
            "_view_module_version": "1.2.0",
            "_view_name": "StyleView",
            "description_width": ""
          }
        },
        "fbde33aa9bb94524a4e1b3483846a59d": {
          "model_module": "@jupyter-widgets/base",
          "model_module_version": "1.2.0",
          "model_name": "LayoutModel",
          "state": {
            "_model_module": "@jupyter-widgets/base",
            "_model_module_version": "1.2.0",
            "_model_name": "LayoutModel",
            "_view_count": null,
            "_view_module": "@jupyter-widgets/base",
            "_view_module_version": "1.2.0",
            "_view_name": "LayoutView",
            "align_content": null,
            "align_items": null,
            "align_self": null,
            "border": null,
            "bottom": null,
            "display": null,
            "flex": null,
            "flex_flow": null,
            "grid_area": null,
            "grid_auto_columns": null,
            "grid_auto_flow": null,
            "grid_auto_rows": null,
            "grid_column": null,
            "grid_gap": null,
            "grid_row": null,
            "grid_template_areas": null,
            "grid_template_columns": null,
            "grid_template_rows": null,
            "height": null,
            "justify_content": null,
            "justify_items": null,
            "left": null,
            "margin": null,
            "max_height": null,
            "max_width": null,
            "min_height": null,
            "min_width": null,
            "object_fit": null,
            "object_position": null,
            "order": null,
            "overflow": null,
            "overflow_x": null,
            "overflow_y": null,
            "padding": null,
            "right": null,
            "top": null,
            "visibility": null,
            "width": null
          }
        },
        "ff5a5f99c96044fb96e0431f8c81b072": {
          "model_module": "@jupyter-widgets/controls",
          "model_module_version": "1.5.0",
          "model_name": "DescriptionStyleModel",
          "state": {
            "_model_module": "@jupyter-widgets/controls",
            "_model_module_version": "1.5.0",
            "_model_name": "DescriptionStyleModel",
            "_view_count": null,
            "_view_module": "@jupyter-widgets/base",
            "_view_module_version": "1.2.0",
            "_view_name": "StyleView",
            "description_width": ""
          }
        }
      }
    }
  },
  "nbformat": 4,
  "nbformat_minor": 0
}
