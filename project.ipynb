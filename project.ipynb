{
  "cells": [
    {
      "cell_type": "markdown",
      "metadata": {
        "id": "3k-oUL5118qn"
      },
      "source": [
        "# Final project guidelines\n",
        "\n",
        "**Note:** Use these guidelines if and only if you are pursuing a **final project of your own design**. For those taking the final exam instead of the project, see the (separate) final exam notebook.\n",
        "\n",
        "## Guidelines\n",
        "\n",
        "These guidelines are intended for **undergraduates enrolled in INFO 3350**. If you are a graduate student enrolled in INFO 6350, you're welcome to consult the information below, but you have wider latitude to design and develop your project in line with your research goals.\n",
        "\n",
        "### The task\n",
        "\n",
        "Your task is to: identify an interesting problem connected to the humanities or humanistic social sciences that's addressable with the help of computational methods, formulate a hypothesis about it, devise an experiment or experiments to test your hypothesis, present the results of your investigations, and discuss your findings.\n",
        "\n",
        "These tasks essentially replicate the process of writing an academic paper. You can think of your project as a paper in miniature.\n",
        "\n",
        "You are free to present each of these tasks as you see fit. You should use narrative text (that is, your own writing in a markdown cell), citations of others' work, numerical results, tables of data, and static and/or interactive visualizations as appropriate. Total length is flexible and depends on the number of people involved in the work, as well as the specific balance you strike between the ambition of your question and the sophistication of your methods. But be aware that numbers never, ever speak for themselves. Quantitative results presented without substantial discussion will not earn high marks.\n",
        "\n",
        "Your project should reflect, at minimum, ten **or more** hours of work by each participant, though you will be graded on the quality of your work, not the amount of time it took you to produce it. Most high-quality projects represent twenty or more hours of work by each member.\n",
        "\n",
        "#### Pick an important and interesting problem!\n",
        "\n",
        "No amount of technical sophistication will overcome a fundamentally uninteresting problem at the core of your work. You have seen many pieces of successful computational humanities research over the course of the semester. You might use these as a guide to the kinds of problems that interest scholars in a range of humanities disciplines. You may also want to spend some time in the library, reading recent books and articles in the professional literature. **Problem selection and motivation are integral parts of the project.** Do not neglect them.\n",
        "\n",
        "### Format\n",
        "\n",
        "You should submit your project as a Jupyter notebook, along with all data necessary to reproduce your analysis. If your dataset is too large to share easily, let us know in advance so that we can find a workaround. If you have a reason to prefer a presentation format other than a notebook, likewise let us know so that we can discuss the options.\n",
        "\n",
        "Your report should have four basic sections (provided in cells below for ease of reference):\n",
        "\n",
        "1. **Introduction and hypothesis.** What problem are you working on? Why is it interesting and important? What have other people said about it? What do you expect to find?\n",
        "2. **Corpus, data, and methods.** What data have you used? Where did it come from? How did you collect it? What are its limitations or omissions? What major methods will you use to analyze it? Why are those methods the appropriate ones?\n",
        "3. **Results.** What did you find? How did you find it? How should we read your figures? Be sure to include confidence intervals or other measures of statistical significance or uncetainty where appropriate.\n",
        "4. **Discussion and conclusions.** What does it all mean? Do your results support your hypothesis? Why or why not? What are the limitations of your study and how might those limitations be addressed in future work?\n",
        "\n",
        "Within each of those sections, you may use as many code and markdown cells as you like. You may, of course, address additional questions or issues not listed above.\n",
        "\n",
        "All code used in the project should be present in the notebook (except for widely-available libraries that you import), but **be sure that we can read and understand your report in full without rerunning the code**. Be sure, too, to explain what you're doing along the way, both by describing your data and methods and by writing clean, well commented code.\n",
        "\n",
        "### Grading\n",
        "\n",
        "This project takes the place of the take-home final exam for the course. It is worth 35% of your overall grade. You will be graded on the quality and ambition of each aspect of the project. No single component is more important than the others.\n",
        "\n",
        "### Practical details\n",
        "\n",
        "* The project is due at **noon on Saturday, December 9** via upload to CMS of a single zip file containing your fully executed Jupyter notebook and all associated data.\n",
        "* You may work alone or in a group of up to three total members.\n",
        "    * If you work in a group, be sure to list the names of the group members.\n",
        "    * For groups, create your group on CMS and submit one notebook for the entire group. **Each group should also submit a statement of responsibility** that describes in general terms who performed which parts of the project.\n",
        "* You may post questions on Ed, but should do so privately (visible to course staff only).\n",
        "* Interactive visualizations do not always work when embedded in shared notebooks. If you plan to use interactives, you may need to host them elsewhere and link to them.\n",
        "\n",
        "---"
      ]
    },
    {
      "cell_type": "markdown",
      "metadata": {
        "id": "6hXOeZK218qo"
      },
      "source": [
        "Are signs of Mental health received differently across various languages? Can the \"emotionally involved\" semantics of a word be translated across various languages?\n",
        "\n",
        "https://www.kaggle.com/datasets/reihanenamdari/mental-health-corpus/data\n",
        "\n",
        "1) Data cleaning and visualization\n",
        "2) Build translation of english texts (using FlanT5 and M2M)\n",
        "\n",
        "- choose a easy translatable language (English -> Spanish) and then a hard one (English -> Farsi)\n",
        "\n",
        "3) Validate it (??? somehow, Google translate API, https://github.com/matheuss/google-translate-api)\n",
        "\n",
        "- comment on pitfalls of google translate's innaccuracy\n",
        "\n",
        "- discuss how well translation models are at translating emotionally charged texts\n",
        "    - compare it to a baseline (maybe google and see what the average performance is likee)\n",
        "\n",
        "4) Baseline models (log reg, random forest, naive bayes)\n",
        "\n",
        "5) Run BERT and attempt to compare labels\n",
        "\n",
        "6) repeat 4 and 5 for all the other languages we test\n",
        "\n",
        "7) validate scores\n",
        "\n",
        "8) Compare scores between languages (Perform some t-test shit idk)\n",
        "\n",
        "\n",
        "https://www.kaggle.com/datasets/reihanenamdari/mental-health-corpus/data"
      ]
    },
    {
      "cell_type": "markdown",
      "metadata": {
        "id": "6J6gtSPY18qo"
      },
      "source": [
        "## Your info\n",
        "* NetID(s): an448, ms2935\n",
        "* Name(s): Asad Nabi, Muhaimin Sarker\n",
        "---"
      ]
    },
    {
      "cell_type": "markdown",
      "metadata": {
        "id": "884kZHpg18qo"
      },
      "source": [
        "## 1. Introduction and hypothesis"
      ]
    },
    {
      "cell_type": "markdown",
      "metadata": {
        "id": "mEb8p3gc18qp"
      },
      "source": [
        "##### Introduction\n",
        "In the current technological advanced world that we live in, messaging and social media have become ways for us to express ourselves and communicate almost instantaneously. Due to this, often times, people find themselves \"chronically online\" and writing multiple messages to friends and people for many to see. As a result of COVID-19 and the variety of situations, mental health is on the decline and there is a necessity to understand what text messages people with mental health issues send so that we can help them before it is too late. However, mental health is not just an issue within the United States and it is imperative for us to analyze and understand how signs of mental health might be received across different languages. Additionally, within such texts, an active question comes out to whether or not we can translate \"emotionally involved semantics\" in English into different languages to allow for true understanding of the issue at hand. This is especially as some cultures may not readily communicate mental health issues within text messages due to various stigmas against it. As a result, there may not be datasets that record such instances within text messages and there is a need to understand this as well.\n",
        "\n",
        "#### Hypothesis\n",
        "In this analysis of text messages, we hypothesize that signs of mental health issues that received differently across different languages. We believe that this is because of difference in cultures and due to the reasoning that within each culture, mental health is treated differently. For example, based on an article from UCLA Health (https://www.uclahealth.org/news/confronting-mental-health-barriers-asian-american-and-2), Asian Americans are 50% less likely to seek mental health services due to an stigmatization of the topic. As a result, text messages from Asian langauges/cultures indicated mental health issues might be less pronounced than those in other cultures. We also hypothesize that translating from these English messages with \"emotionally involved semantics\" to different languages will not be successful. We believe that this is because during the translation process, the meaning behind the texts will be lost and unable to be conveyed in another language correctly due to the apparent linguistical differences.    \n"
      ]
    },
    {
      "cell_type": "code",
      "source": [
        "# Install packages that we need (Colab only)\n",
        "# !pip install sentencepiece\n",
        "# !pip install transformers"
      ],
      "metadata": {
        "id": "4JDTbHA82Rzb"
      },
      "execution_count": 1,
      "outputs": []
    },
    {
      "cell_type": "code",
      "execution_count": 2,
      "metadata": {
        "id": "dIJH-qHl18qp"
      },
      "outputs": [],
      "source": [
        "# Importing necessary libraries\n",
        "from transformers import T5Tokenizer, T5ForConditionalGeneration, M2M100ForConditionalGeneration, M2M100Tokenizer\n",
        "import torch\n",
        "import numpy as np\n",
        "import pandas as pd\n",
        "import matplotlib.pyplot as plt\n",
        "import seaborn as sns\n",
        "import pickle\n",
        "\n",
        "from sklearn.metrics import classification_report\n",
        "\n",
        "from sklearn.model_selection import train_test_split\n",
        "from transformers import DistilBertTokenizerFast, DistilBertForSequenceClassification, AdamW\n",
        "from transformers import Trainer, TrainingArguments\n",
        "\n",
        "from sklearn.naive_bayes import MultinomialNB\n",
        "from sklearn.feature_extraction.text import TfidfVectorizer\n",
        "from sklearn.linear_model import LogisticRegression"
      ]
    },
    {
      "cell_type": "markdown",
      "metadata": {
        "id": "WjlU6EHO18qp"
      },
      "source": [
        "## 2. Data and methods"
      ]
    },
    {
      "cell_type": "markdown",
      "metadata": {
        "id": "fFtSb2pB18qq"
      },
      "source": [
        "##### Dataset\n",
        "We ended up using a Kaggle dataset called \"Mental Health Corpus\" which contains a corpus of text messages from people who have depression, anxiety, and other mental health issues. Each of these texts are labeled based on whether or not there is a mental health concern from the text message or if there isn't. We will use these text messages to allow us to answer our research questions and understand whether or not our hypothesis is correct. Additionally, we will translate these text messages into different languages to help us understand the \"emotionally involved semantics\" within these texts in different languages and whether or not that is lost in the translation process."
      ]
    },
    {
      "cell_type": "code",
      "execution_count": 3,
      "metadata": {
        "colab": {
          "base_uri": "https://localhost:8080/",
          "height": 376
        },
        "id": "IK1HTrlf18qq",
        "outputId": "c7b56e46-491d-477b-a27c-91b568e6d41e"
      },
      "outputs": [
        {
          "output_type": "stream",
          "name": "stdout",
          "text": [
            "Total number of texts in the dataset (Shape): (27977, 2)\n"
          ]
        },
        {
          "output_type": "execute_result",
          "data": {
            "text/plain": [
              "                                                text                  label\n",
              "0  dear american teens question dutch person hear...             no concern\n",
              "1  nothing look forward lifei dont many reasons k...  mental health concern\n",
              "2  music recommendations im looking expand playli...             no concern\n",
              "3  im done trying feel betterthe reason im still ...  mental health concern\n",
              "4  worried  year old girl subject domestic physic...  mental health concern\n",
              "5  hey rredflag sure right place post this goes  ...  mental health concern\n",
              "6  feel like someone needs hear tonight feeling r...             no concern\n",
              "7  deserve liveif died right noone would carei re...  mental health concern\n",
              "8  feels good ive set dateim killing friday nice ...  mental health concern\n",
              "9  live guiltok made stupid random choice  its ge...  mental health concern"
            ],
            "text/html": [
              "\n",
              "  <div id=\"df-8d844c43-b111-4442-97f8-6039129bd4e9\" class=\"colab-df-container\">\n",
              "    <div>\n",
              "<style scoped>\n",
              "    .dataframe tbody tr th:only-of-type {\n",
              "        vertical-align: middle;\n",
              "    }\n",
              "\n",
              "    .dataframe tbody tr th {\n",
              "        vertical-align: top;\n",
              "    }\n",
              "\n",
              "    .dataframe thead th {\n",
              "        text-align: right;\n",
              "    }\n",
              "</style>\n",
              "<table border=\"1\" class=\"dataframe\">\n",
              "  <thead>\n",
              "    <tr style=\"text-align: right;\">\n",
              "      <th></th>\n",
              "      <th>text</th>\n",
              "      <th>label</th>\n",
              "    </tr>\n",
              "  </thead>\n",
              "  <tbody>\n",
              "    <tr>\n",
              "      <th>0</th>\n",
              "      <td>dear american teens question dutch person hear...</td>\n",
              "      <td>no concern</td>\n",
              "    </tr>\n",
              "    <tr>\n",
              "      <th>1</th>\n",
              "      <td>nothing look forward lifei dont many reasons k...</td>\n",
              "      <td>mental health concern</td>\n",
              "    </tr>\n",
              "    <tr>\n",
              "      <th>2</th>\n",
              "      <td>music recommendations im looking expand playli...</td>\n",
              "      <td>no concern</td>\n",
              "    </tr>\n",
              "    <tr>\n",
              "      <th>3</th>\n",
              "      <td>im done trying feel betterthe reason im still ...</td>\n",
              "      <td>mental health concern</td>\n",
              "    </tr>\n",
              "    <tr>\n",
              "      <th>4</th>\n",
              "      <td>worried  year old girl subject domestic physic...</td>\n",
              "      <td>mental health concern</td>\n",
              "    </tr>\n",
              "    <tr>\n",
              "      <th>5</th>\n",
              "      <td>hey rredflag sure right place post this goes  ...</td>\n",
              "      <td>mental health concern</td>\n",
              "    </tr>\n",
              "    <tr>\n",
              "      <th>6</th>\n",
              "      <td>feel like someone needs hear tonight feeling r...</td>\n",
              "      <td>no concern</td>\n",
              "    </tr>\n",
              "    <tr>\n",
              "      <th>7</th>\n",
              "      <td>deserve liveif died right noone would carei re...</td>\n",
              "      <td>mental health concern</td>\n",
              "    </tr>\n",
              "    <tr>\n",
              "      <th>8</th>\n",
              "      <td>feels good ive set dateim killing friday nice ...</td>\n",
              "      <td>mental health concern</td>\n",
              "    </tr>\n",
              "    <tr>\n",
              "      <th>9</th>\n",
              "      <td>live guiltok made stupid random choice  its ge...</td>\n",
              "      <td>mental health concern</td>\n",
              "    </tr>\n",
              "  </tbody>\n",
              "</table>\n",
              "</div>\n",
              "    <div class=\"colab-df-buttons\">\n",
              "\n",
              "  <div class=\"colab-df-container\">\n",
              "    <button class=\"colab-df-convert\" onclick=\"convertToInteractive('df-8d844c43-b111-4442-97f8-6039129bd4e9')\"\n",
              "            title=\"Convert this dataframe to an interactive table.\"\n",
              "            style=\"display:none;\">\n",
              "\n",
              "  <svg xmlns=\"http://www.w3.org/2000/svg\" height=\"24px\" viewBox=\"0 -960 960 960\">\n",
              "    <path d=\"M120-120v-720h720v720H120Zm60-500h600v-160H180v160Zm220 220h160v-160H400v160Zm0 220h160v-160H400v160ZM180-400h160v-160H180v160Zm440 0h160v-160H620v160ZM180-180h160v-160H180v160Zm440 0h160v-160H620v160Z\"/>\n",
              "  </svg>\n",
              "    </button>\n",
              "\n",
              "  <style>\n",
              "    .colab-df-container {\n",
              "      display:flex;\n",
              "      gap: 12px;\n",
              "    }\n",
              "\n",
              "    .colab-df-convert {\n",
              "      background-color: #E8F0FE;\n",
              "      border: none;\n",
              "      border-radius: 50%;\n",
              "      cursor: pointer;\n",
              "      display: none;\n",
              "      fill: #1967D2;\n",
              "      height: 32px;\n",
              "      padding: 0 0 0 0;\n",
              "      width: 32px;\n",
              "    }\n",
              "\n",
              "    .colab-df-convert:hover {\n",
              "      background-color: #E2EBFA;\n",
              "      box-shadow: 0px 1px 2px rgba(60, 64, 67, 0.3), 0px 1px 3px 1px rgba(60, 64, 67, 0.15);\n",
              "      fill: #174EA6;\n",
              "    }\n",
              "\n",
              "    .colab-df-buttons div {\n",
              "      margin-bottom: 4px;\n",
              "    }\n",
              "\n",
              "    [theme=dark] .colab-df-convert {\n",
              "      background-color: #3B4455;\n",
              "      fill: #D2E3FC;\n",
              "    }\n",
              "\n",
              "    [theme=dark] .colab-df-convert:hover {\n",
              "      background-color: #434B5C;\n",
              "      box-shadow: 0px 1px 3px 1px rgba(0, 0, 0, 0.15);\n",
              "      filter: drop-shadow(0px 1px 2px rgba(0, 0, 0, 0.3));\n",
              "      fill: #FFFFFF;\n",
              "    }\n",
              "  </style>\n",
              "\n",
              "    <script>\n",
              "      const buttonEl =\n",
              "        document.querySelector('#df-8d844c43-b111-4442-97f8-6039129bd4e9 button.colab-df-convert');\n",
              "      buttonEl.style.display =\n",
              "        google.colab.kernel.accessAllowed ? 'block' : 'none';\n",
              "\n",
              "      async function convertToInteractive(key) {\n",
              "        const element = document.querySelector('#df-8d844c43-b111-4442-97f8-6039129bd4e9');\n",
              "        const dataTable =\n",
              "          await google.colab.kernel.invokeFunction('convertToInteractive',\n",
              "                                                    [key], {});\n",
              "        if (!dataTable) return;\n",
              "\n",
              "        const docLinkHtml = 'Like what you see? Visit the ' +\n",
              "          '<a target=\"_blank\" href=https://colab.research.google.com/notebooks/data_table.ipynb>data table notebook</a>'\n",
              "          + ' to learn more about interactive tables.';\n",
              "        element.innerHTML = '';\n",
              "        dataTable['output_type'] = 'display_data';\n",
              "        await google.colab.output.renderOutput(dataTable, element);\n",
              "        const docLink = document.createElement('div');\n",
              "        docLink.innerHTML = docLinkHtml;\n",
              "        element.appendChild(docLink);\n",
              "      }\n",
              "    </script>\n",
              "  </div>\n",
              "\n",
              "\n",
              "<div id=\"df-2a023942-d5bc-46c8-a226-dc70f1b39713\">\n",
              "  <button class=\"colab-df-quickchart\" onclick=\"quickchart('df-2a023942-d5bc-46c8-a226-dc70f1b39713')\"\n",
              "            title=\"Suggest charts\"\n",
              "            style=\"display:none;\">\n",
              "\n",
              "<svg xmlns=\"http://www.w3.org/2000/svg\" height=\"24px\"viewBox=\"0 0 24 24\"\n",
              "     width=\"24px\">\n",
              "    <g>\n",
              "        <path d=\"M19 3H5c-1.1 0-2 .9-2 2v14c0 1.1.9 2 2 2h14c1.1 0 2-.9 2-2V5c0-1.1-.9-2-2-2zM9 17H7v-7h2v7zm4 0h-2V7h2v10zm4 0h-2v-4h2v4z\"/>\n",
              "    </g>\n",
              "</svg>\n",
              "  </button>\n",
              "\n",
              "<style>\n",
              "  .colab-df-quickchart {\n",
              "      --bg-color: #E8F0FE;\n",
              "      --fill-color: #1967D2;\n",
              "      --hover-bg-color: #E2EBFA;\n",
              "      --hover-fill-color: #174EA6;\n",
              "      --disabled-fill-color: #AAA;\n",
              "      --disabled-bg-color: #DDD;\n",
              "  }\n",
              "\n",
              "  [theme=dark] .colab-df-quickchart {\n",
              "      --bg-color: #3B4455;\n",
              "      --fill-color: #D2E3FC;\n",
              "      --hover-bg-color: #434B5C;\n",
              "      --hover-fill-color: #FFFFFF;\n",
              "      --disabled-bg-color: #3B4455;\n",
              "      --disabled-fill-color: #666;\n",
              "  }\n",
              "\n",
              "  .colab-df-quickchart {\n",
              "    background-color: var(--bg-color);\n",
              "    border: none;\n",
              "    border-radius: 50%;\n",
              "    cursor: pointer;\n",
              "    display: none;\n",
              "    fill: var(--fill-color);\n",
              "    height: 32px;\n",
              "    padding: 0;\n",
              "    width: 32px;\n",
              "  }\n",
              "\n",
              "  .colab-df-quickchart:hover {\n",
              "    background-color: var(--hover-bg-color);\n",
              "    box-shadow: 0 1px 2px rgba(60, 64, 67, 0.3), 0 1px 3px 1px rgba(60, 64, 67, 0.15);\n",
              "    fill: var(--button-hover-fill-color);\n",
              "  }\n",
              "\n",
              "  .colab-df-quickchart-complete:disabled,\n",
              "  .colab-df-quickchart-complete:disabled:hover {\n",
              "    background-color: var(--disabled-bg-color);\n",
              "    fill: var(--disabled-fill-color);\n",
              "    box-shadow: none;\n",
              "  }\n",
              "\n",
              "  .colab-df-spinner {\n",
              "    border: 2px solid var(--fill-color);\n",
              "    border-color: transparent;\n",
              "    border-bottom-color: var(--fill-color);\n",
              "    animation:\n",
              "      spin 1s steps(1) infinite;\n",
              "  }\n",
              "\n",
              "  @keyframes spin {\n",
              "    0% {\n",
              "      border-color: transparent;\n",
              "      border-bottom-color: var(--fill-color);\n",
              "      border-left-color: var(--fill-color);\n",
              "    }\n",
              "    20% {\n",
              "      border-color: transparent;\n",
              "      border-left-color: var(--fill-color);\n",
              "      border-top-color: var(--fill-color);\n",
              "    }\n",
              "    30% {\n",
              "      border-color: transparent;\n",
              "      border-left-color: var(--fill-color);\n",
              "      border-top-color: var(--fill-color);\n",
              "      border-right-color: var(--fill-color);\n",
              "    }\n",
              "    40% {\n",
              "      border-color: transparent;\n",
              "      border-right-color: var(--fill-color);\n",
              "      border-top-color: var(--fill-color);\n",
              "    }\n",
              "    60% {\n",
              "      border-color: transparent;\n",
              "      border-right-color: var(--fill-color);\n",
              "    }\n",
              "    80% {\n",
              "      border-color: transparent;\n",
              "      border-right-color: var(--fill-color);\n",
              "      border-bottom-color: var(--fill-color);\n",
              "    }\n",
              "    90% {\n",
              "      border-color: transparent;\n",
              "      border-bottom-color: var(--fill-color);\n",
              "    }\n",
              "  }\n",
              "</style>\n",
              "\n",
              "  <script>\n",
              "    async function quickchart(key) {\n",
              "      const quickchartButtonEl =\n",
              "        document.querySelector('#' + key + ' button');\n",
              "      quickchartButtonEl.disabled = true;  // To prevent multiple clicks.\n",
              "      quickchartButtonEl.classList.add('colab-df-spinner');\n",
              "      try {\n",
              "        const charts = await google.colab.kernel.invokeFunction(\n",
              "            'suggestCharts', [key], {});\n",
              "      } catch (error) {\n",
              "        console.error('Error during call to suggestCharts:', error);\n",
              "      }\n",
              "      quickchartButtonEl.classList.remove('colab-df-spinner');\n",
              "      quickchartButtonEl.classList.add('colab-df-quickchart-complete');\n",
              "    }\n",
              "    (() => {\n",
              "      let quickchartButtonEl =\n",
              "        document.querySelector('#df-2a023942-d5bc-46c8-a226-dc70f1b39713 button');\n",
              "      quickchartButtonEl.style.display =\n",
              "        google.colab.kernel.accessAllowed ? 'block' : 'none';\n",
              "    })();\n",
              "  </script>\n",
              "</div>\n",
              "    </div>\n",
              "  </div>\n"
            ]
          },
          "metadata": {},
          "execution_count": 3
        }
      ],
      "source": [
        "# Loading and observing dataset\n",
        "mh_df = pd.read_csv(\"data/mental_health.csv\")\n",
        "mh_df['label'] = mh_df['label'].map({0: 'no concern', 1: 'mental health concern'})\n",
        "print(\"Total number of texts in the dataset (Shape):\", mh_df.shape)\n",
        "mh_df.head(10)"
      ]
    },
    {
      "cell_type": "code",
      "source": [
        "# IF too big, random sample the dataframe\n",
        "\n",
        "mh_texts = mh_df.sample(n=500, replace=True, random_state=1)\n",
        "print(\"Shape of random sampled dataset:\", mh_texts.shape)\n",
        "mh_texts.head()"
      ],
      "metadata": {
        "colab": {
          "base_uri": "https://localhost:8080/",
          "height": 221
        },
        "id": "MD5rKKcr__45",
        "outputId": "472a8b4c-c090-4b15-f4a4-97d8cbc712da"
      },
      "execution_count": 4,
      "outputs": [
        {
          "output_type": "stream",
          "name": "stdout",
          "text": [
            "Shape of random sampled dataset: (500, 2)\n"
          ]
        },
        {
          "output_type": "execute_result",
          "data": {
            "text/plain": [
              "                                                    text  \\\n",
              "235    im tired watching porn literally want girl tel...   \n",
              "12172  guess forgot read countrys native language yep...   \n",
              "5192   ever achieved rock bottom never opportunity me...   \n",
              "17289  dear readers  space odyssey kubrick bestalthou...   \n",
              "10955                      payingim gonna kill myself rn   \n",
              "\n",
              "                       label  \n",
              "235               no concern  \n",
              "12172             no concern  \n",
              "5192   mental health concern  \n",
              "17289             no concern  \n",
              "10955  mental health concern  "
            ],
            "text/html": [
              "\n",
              "  <div id=\"df-4f9db709-96ec-4120-b14d-bccc12c3be04\" class=\"colab-df-container\">\n",
              "    <div>\n",
              "<style scoped>\n",
              "    .dataframe tbody tr th:only-of-type {\n",
              "        vertical-align: middle;\n",
              "    }\n",
              "\n",
              "    .dataframe tbody tr th {\n",
              "        vertical-align: top;\n",
              "    }\n",
              "\n",
              "    .dataframe thead th {\n",
              "        text-align: right;\n",
              "    }\n",
              "</style>\n",
              "<table border=\"1\" class=\"dataframe\">\n",
              "  <thead>\n",
              "    <tr style=\"text-align: right;\">\n",
              "      <th></th>\n",
              "      <th>text</th>\n",
              "      <th>label</th>\n",
              "    </tr>\n",
              "  </thead>\n",
              "  <tbody>\n",
              "    <tr>\n",
              "      <th>235</th>\n",
              "      <td>im tired watching porn literally want girl tel...</td>\n",
              "      <td>no concern</td>\n",
              "    </tr>\n",
              "    <tr>\n",
              "      <th>12172</th>\n",
              "      <td>guess forgot read countrys native language yep...</td>\n",
              "      <td>no concern</td>\n",
              "    </tr>\n",
              "    <tr>\n",
              "      <th>5192</th>\n",
              "      <td>ever achieved rock bottom never opportunity me...</td>\n",
              "      <td>mental health concern</td>\n",
              "    </tr>\n",
              "    <tr>\n",
              "      <th>17289</th>\n",
              "      <td>dear readers  space odyssey kubrick bestalthou...</td>\n",
              "      <td>no concern</td>\n",
              "    </tr>\n",
              "    <tr>\n",
              "      <th>10955</th>\n",
              "      <td>payingim gonna kill myself rn</td>\n",
              "      <td>mental health concern</td>\n",
              "    </tr>\n",
              "  </tbody>\n",
              "</table>\n",
              "</div>\n",
              "    <div class=\"colab-df-buttons\">\n",
              "\n",
              "  <div class=\"colab-df-container\">\n",
              "    <button class=\"colab-df-convert\" onclick=\"convertToInteractive('df-4f9db709-96ec-4120-b14d-bccc12c3be04')\"\n",
              "            title=\"Convert this dataframe to an interactive table.\"\n",
              "            style=\"display:none;\">\n",
              "\n",
              "  <svg xmlns=\"http://www.w3.org/2000/svg\" height=\"24px\" viewBox=\"0 -960 960 960\">\n",
              "    <path d=\"M120-120v-720h720v720H120Zm60-500h600v-160H180v160Zm220 220h160v-160H400v160Zm0 220h160v-160H400v160ZM180-400h160v-160H180v160Zm440 0h160v-160H620v160ZM180-180h160v-160H180v160Zm440 0h160v-160H620v160Z\"/>\n",
              "  </svg>\n",
              "    </button>\n",
              "\n",
              "  <style>\n",
              "    .colab-df-container {\n",
              "      display:flex;\n",
              "      gap: 12px;\n",
              "    }\n",
              "\n",
              "    .colab-df-convert {\n",
              "      background-color: #E8F0FE;\n",
              "      border: none;\n",
              "      border-radius: 50%;\n",
              "      cursor: pointer;\n",
              "      display: none;\n",
              "      fill: #1967D2;\n",
              "      height: 32px;\n",
              "      padding: 0 0 0 0;\n",
              "      width: 32px;\n",
              "    }\n",
              "\n",
              "    .colab-df-convert:hover {\n",
              "      background-color: #E2EBFA;\n",
              "      box-shadow: 0px 1px 2px rgba(60, 64, 67, 0.3), 0px 1px 3px 1px rgba(60, 64, 67, 0.15);\n",
              "      fill: #174EA6;\n",
              "    }\n",
              "\n",
              "    .colab-df-buttons div {\n",
              "      margin-bottom: 4px;\n",
              "    }\n",
              "\n",
              "    [theme=dark] .colab-df-convert {\n",
              "      background-color: #3B4455;\n",
              "      fill: #D2E3FC;\n",
              "    }\n",
              "\n",
              "    [theme=dark] .colab-df-convert:hover {\n",
              "      background-color: #434B5C;\n",
              "      box-shadow: 0px 1px 3px 1px rgba(0, 0, 0, 0.15);\n",
              "      filter: drop-shadow(0px 1px 2px rgba(0, 0, 0, 0.3));\n",
              "      fill: #FFFFFF;\n",
              "    }\n",
              "  </style>\n",
              "\n",
              "    <script>\n",
              "      const buttonEl =\n",
              "        document.querySelector('#df-4f9db709-96ec-4120-b14d-bccc12c3be04 button.colab-df-convert');\n",
              "      buttonEl.style.display =\n",
              "        google.colab.kernel.accessAllowed ? 'block' : 'none';\n",
              "\n",
              "      async function convertToInteractive(key) {\n",
              "        const element = document.querySelector('#df-4f9db709-96ec-4120-b14d-bccc12c3be04');\n",
              "        const dataTable =\n",
              "          await google.colab.kernel.invokeFunction('convertToInteractive',\n",
              "                                                    [key], {});\n",
              "        if (!dataTable) return;\n",
              "\n",
              "        const docLinkHtml = 'Like what you see? Visit the ' +\n",
              "          '<a target=\"_blank\" href=https://colab.research.google.com/notebooks/data_table.ipynb>data table notebook</a>'\n",
              "          + ' to learn more about interactive tables.';\n",
              "        element.innerHTML = '';\n",
              "        dataTable['output_type'] = 'display_data';\n",
              "        await google.colab.output.renderOutput(dataTable, element);\n",
              "        const docLink = document.createElement('div');\n",
              "        docLink.innerHTML = docLinkHtml;\n",
              "        element.appendChild(docLink);\n",
              "      }\n",
              "    </script>\n",
              "  </div>\n",
              "\n",
              "\n",
              "<div id=\"df-94e1a10a-c11d-4202-83f6-4e8310441d58\">\n",
              "  <button class=\"colab-df-quickchart\" onclick=\"quickchart('df-94e1a10a-c11d-4202-83f6-4e8310441d58')\"\n",
              "            title=\"Suggest charts\"\n",
              "            style=\"display:none;\">\n",
              "\n",
              "<svg xmlns=\"http://www.w3.org/2000/svg\" height=\"24px\"viewBox=\"0 0 24 24\"\n",
              "     width=\"24px\">\n",
              "    <g>\n",
              "        <path d=\"M19 3H5c-1.1 0-2 .9-2 2v14c0 1.1.9 2 2 2h14c1.1 0 2-.9 2-2V5c0-1.1-.9-2-2-2zM9 17H7v-7h2v7zm4 0h-2V7h2v10zm4 0h-2v-4h2v4z\"/>\n",
              "    </g>\n",
              "</svg>\n",
              "  </button>\n",
              "\n",
              "<style>\n",
              "  .colab-df-quickchart {\n",
              "      --bg-color: #E8F0FE;\n",
              "      --fill-color: #1967D2;\n",
              "      --hover-bg-color: #E2EBFA;\n",
              "      --hover-fill-color: #174EA6;\n",
              "      --disabled-fill-color: #AAA;\n",
              "      --disabled-bg-color: #DDD;\n",
              "  }\n",
              "\n",
              "  [theme=dark] .colab-df-quickchart {\n",
              "      --bg-color: #3B4455;\n",
              "      --fill-color: #D2E3FC;\n",
              "      --hover-bg-color: #434B5C;\n",
              "      --hover-fill-color: #FFFFFF;\n",
              "      --disabled-bg-color: #3B4455;\n",
              "      --disabled-fill-color: #666;\n",
              "  }\n",
              "\n",
              "  .colab-df-quickchart {\n",
              "    background-color: var(--bg-color);\n",
              "    border: none;\n",
              "    border-radius: 50%;\n",
              "    cursor: pointer;\n",
              "    display: none;\n",
              "    fill: var(--fill-color);\n",
              "    height: 32px;\n",
              "    padding: 0;\n",
              "    width: 32px;\n",
              "  }\n",
              "\n",
              "  .colab-df-quickchart:hover {\n",
              "    background-color: var(--hover-bg-color);\n",
              "    box-shadow: 0 1px 2px rgba(60, 64, 67, 0.3), 0 1px 3px 1px rgba(60, 64, 67, 0.15);\n",
              "    fill: var(--button-hover-fill-color);\n",
              "  }\n",
              "\n",
              "  .colab-df-quickchart-complete:disabled,\n",
              "  .colab-df-quickchart-complete:disabled:hover {\n",
              "    background-color: var(--disabled-bg-color);\n",
              "    fill: var(--disabled-fill-color);\n",
              "    box-shadow: none;\n",
              "  }\n",
              "\n",
              "  .colab-df-spinner {\n",
              "    border: 2px solid var(--fill-color);\n",
              "    border-color: transparent;\n",
              "    border-bottom-color: var(--fill-color);\n",
              "    animation:\n",
              "      spin 1s steps(1) infinite;\n",
              "  }\n",
              "\n",
              "  @keyframes spin {\n",
              "    0% {\n",
              "      border-color: transparent;\n",
              "      border-bottom-color: var(--fill-color);\n",
              "      border-left-color: var(--fill-color);\n",
              "    }\n",
              "    20% {\n",
              "      border-color: transparent;\n",
              "      border-left-color: var(--fill-color);\n",
              "      border-top-color: var(--fill-color);\n",
              "    }\n",
              "    30% {\n",
              "      border-color: transparent;\n",
              "      border-left-color: var(--fill-color);\n",
              "      border-top-color: var(--fill-color);\n",
              "      border-right-color: var(--fill-color);\n",
              "    }\n",
              "    40% {\n",
              "      border-color: transparent;\n",
              "      border-right-color: var(--fill-color);\n",
              "      border-top-color: var(--fill-color);\n",
              "    }\n",
              "    60% {\n",
              "      border-color: transparent;\n",
              "      border-right-color: var(--fill-color);\n",
              "    }\n",
              "    80% {\n",
              "      border-color: transparent;\n",
              "      border-right-color: var(--fill-color);\n",
              "      border-bottom-color: var(--fill-color);\n",
              "    }\n",
              "    90% {\n",
              "      border-color: transparent;\n",
              "      border-bottom-color: var(--fill-color);\n",
              "    }\n",
              "  }\n",
              "</style>\n",
              "\n",
              "  <script>\n",
              "    async function quickchart(key) {\n",
              "      const quickchartButtonEl =\n",
              "        document.querySelector('#' + key + ' button');\n",
              "      quickchartButtonEl.disabled = true;  // To prevent multiple clicks.\n",
              "      quickchartButtonEl.classList.add('colab-df-spinner');\n",
              "      try {\n",
              "        const charts = await google.colab.kernel.invokeFunction(\n",
              "            'suggestCharts', [key], {});\n",
              "      } catch (error) {\n",
              "        console.error('Error during call to suggestCharts:', error);\n",
              "      }\n",
              "      quickchartButtonEl.classList.remove('colab-df-spinner');\n",
              "      quickchartButtonEl.classList.add('colab-df-quickchart-complete');\n",
              "    }\n",
              "    (() => {\n",
              "      let quickchartButtonEl =\n",
              "        document.querySelector('#df-94e1a10a-c11d-4202-83f6-4e8310441d58 button');\n",
              "      quickchartButtonEl.style.display =\n",
              "        google.colab.kernel.accessAllowed ? 'block' : 'none';\n",
              "    })();\n",
              "  </script>\n",
              "</div>\n",
              "    </div>\n",
              "  </div>\n"
            ]
          },
          "metadata": {},
          "execution_count": 4
        }
      ]
    },
    {
      "cell_type": "code",
      "execution_count": 5,
      "metadata": {
        "colab": {
          "base_uri": "https://localhost:8080/",
          "height": 442
        },
        "id": "6426Lczi18qq",
        "outputId": "c3d8ccea-f9cc-4909-bbcc-e6ae5a640406"
      },
      "outputs": [
        {
          "output_type": "display_data",
          "data": {
            "text/plain": [
              "<Figure size 640x480 with 1 Axes>"
            ],
            "image/png": "[encoded data removed]"
          },
          "metadata": {}
        }
      ],
      "source": [
        "# Plotting a pie chart\n",
        "# Calculate the value counts of the 'category' column\n",
        "freq_count = mh_texts['label'].value_counts()\n",
        "\n",
        "plt.pie(freq_count, labels=['no concern', 'mental health\\nconcern'], autopct='%1.1f%%', startangle=90, colors=['skyblue', 'lightcoral'])\n",
        "plt.title('Frequency of concerns')\n",
        "plt.legend(bbox_to_anchor=(.15, .15))\n",
        "plt.show()"
      ]
    },
    {
      "cell_type": "code",
      "execution_count": 6,
      "metadata": {
        "colab": {
          "base_uri": "https://localhost:8080/",
          "height": 472
        },
        "id": "atdtgVzY18qr",
        "outputId": "75c6bbd9-0d35-4d2f-a2d5-76bfb23dd86c"
      },
      "outputs": [
        {
          "output_type": "display_data",
          "data": {
            "text/plain": [
              "<Figure size 640x480 with 1 Axes>"
            ],
            "image/png": "[encoded data removed]"
          },
          "metadata": {}
        }
      ],
      "source": [
        "freq_count.plot(kind='barh', color=['skyblue', 'lightcoral'])\n",
        "plt.title('Frequency of concerns')\n",
        "plt.xlabel('Frequency')\n",
        "plt.ylabel('Concern')\n",
        "plt.show()"
      ]
    },
    {
      "cell_type": "code",
      "execution_count": 11,
      "metadata": {
        "id": "tUVXb5Lw18qr"
      },
      "outputs": [],
      "source": [
        "# Load models\n",
        "device = \"cuda\"\n",
        "\n",
        "m2m_model = M2M100ForConditionalGeneration.from_pretrained(\"facebook/m2m100_418M\")\n",
        "m2m_tokenizer = M2M100Tokenizer.from_pretrained(\"facebook/m2m100_418M\")"
      ]
    },
    {
      "cell_type": "code",
      "source": [
        "from google.colab import drive\n",
        "drive.mount('/content/drive')"
      ],
      "metadata": {
        "colab": {
          "base_uri": "https://localhost:8080/"
        },
        "id": "PYDJFAGbUQXU",
        "outputId": "2821a65b-ec9d-42ff-a5e0-93a218b93c57"
      },
      "execution_count": 18,
      "outputs": [
        {
          "output_type": "stream",
          "name": "stdout",
          "text": [
            "Drive already mounted at /content/drive; to attempt to forcibly remount, call drive.mount(\"/content/drive\", force_remount=True).\n"
          ]
        }
      ]
    },
    {
      "cell_type": "code",
      "source": [
        "# model_id = \"google/flan-t5-large\"\n",
        "# model = T5ForConditionalGeneration.from_pretrained(model_id).to(device)\n",
        "# tokenizer = T5Tokenizer.from_pretrained(model_id)"
      ],
      "metadata": {
        "id": "xWO44hOOMZbj"
      },
      "execution_count": 8,
      "outputs": []
    },
    {
      "cell_type": "code",
      "source": [
        "# english_input = 'I live in a small house on a large hill.'\n",
        "# m2m_tokenizer.src_lang = \"en\"\n",
        "# encoded_en = m2m_tokenizer(english_input, return_tensors=\"pt\")"
      ],
      "metadata": {
        "id": "kCvX3tY--1Ji"
      },
      "execution_count": 9,
      "outputs": []
    },
    {
      "cell_type": "code",
      "execution_count": 19,
      "metadata": {
        "colab": {
          "base_uri": "https://localhost:8080/"
        },
        "id": "bs8stW6_18qr",
        "outputId": "eabab023-dbf6-4072-859e-542dbee473b9"
      },
      "outputs": [
        {
          "output_type": "stream",
          "name": "stdout",
          "text": [
            "0) ['Im fatigué regarder porno littéralement veut la fille dire matter veut aimer im fatigué veut tuer aussi']\n",
            "1) [\"J'ai oublié de lire la langue maternelle des pays et j'ai oublié de lire la langue maternelle des pays et j'ai oublié de\"]\n",
            "2) [\"jamais atteint rock bottom jamais l'occasion de rencontrer des amis fait des temps probablement fucked phrase au-dessus im native alright ampxb amour tous les\"]\n"
          ]
        }
      ],
      "source": [
        "# Save sampled df to drive\n",
        "mh_texts.to_csv(\"drive/MyDrive/sampled_mh\", sep=',', index=False, encoding='utf-8')\n",
        "\n",
        "\n",
        "# Translate from English to French (easy language)\n",
        "\n",
        "#15 seconds per translation\n",
        "french_texts = []\n",
        "\n",
        "for i, en_text in enumerate(mh_texts['text']):\n",
        "  m2m_tokenizer.src_lang = \"en\"\n",
        "  encoded_en = m2m_tokenizer(en_text, return_tensors=\"pt\")\n",
        "\n",
        "  generated_tokens = m2m_model.generate(\n",
        "      **encoded_en, # input ids and attention mask\n",
        "      forced_bos_token_id=m2m_tokenizer.get_lang_id(\"fr\"), # to French\n",
        "      max_new_tokens=40\n",
        "  )\n",
        "  translation = m2m_tokenizer.batch_decode(generated_tokens, skip_special_tokens=True)\n",
        "  french_texts.append(translation)\n",
        "  print(f\"{i}) {translation}\")\n",
        "\n",
        "\n",
        "# (GOOGLE T5) 5 seconds per translation but sucks\n",
        "# for en_text in mh_texts['text'][:10]:\n",
        "#   inputs = tokenizer(\"translate: English to French: \" + en_text, return_tensors=\"pt\")\n",
        "#   input_ids = inputs.input_ids.to(device)\n",
        "#   outputs = model.generate(input_ids, max_new_tokens=40)\n",
        "#   translation = tokenizer.batch_decode(outputs, skip_special_tokens=True)\n",
        "#   french_texts.append(translation)\n",
        "#   print(translation)\n",
        "\n",
        "# Saving when done\n",
        "french_df = pd.DataFrame(french_texts)\n",
        "french_df.to_csv(\"drive/MyDrive/french_texts\", sep=',', index=False, encoding='utf-8')"
      ]
    },
    {
      "cell_type": "code",
      "execution_count": null,
      "metadata": {
        "id": "ZX61Huzz18qr"
      },
      "outputs": [],
      "source": [
        "# Translate from French to English (to validate translation)"
      ]
    },
    {
      "cell_type": "code",
      "execution_count": 21,
      "metadata": {
        "colab": {
          "base_uri": "https://localhost:8080/"
        },
        "id": "TkSImGCK18qs",
        "outputId": "d8d9cf89-5679-43c5-cec6-6730fff54867"
      },
      "outputs": [
        {
          "output_type": "stream",
          "name": "stdout",
          "text": [
            "['im 累 观看 色情 字面上 想 女孩 说 想 想 想 想 想 想 想 想 想 想']\n",
            "['假设忘记阅读乡村母语Yep假设正确Kingqueen meeeeeeeeeeeeeeeee']\n"
          ]
        }
      ],
      "source": [
        "# Translate from English to Chinese (hard language)\n",
        "\n",
        "chinese_texts = []\n",
        "\n",
        "for en_text in mh_texts['text']:\n",
        "  m2m_tokenizer.src_lang = \"en\"\n",
        "  encoded_en = m2m_tokenizer(en_text, return_tensors=\"pt\")\n",
        "\n",
        "  generated_tokens = m2m_model.generate(\n",
        "      **encoded_en, # input ids and attention mask\n",
        "      forced_bos_token_id=m2m_tokenizer.get_lang_id(\"zh\"), # to Chinese\n",
        "      max_new_tokens=40\n",
        "  )\n",
        "  chinese_translation = m2m_tokenizer.batch_decode(generated_tokens, skip_special_tokens=True)\n",
        "  chinese_texts.append(chinese_translation)\n",
        "  print(chinese_translation)\n",
        "\n",
        "\n",
        "# Saving when done\n",
        "chinese_df = pd.DataFrame(chinese_texts)\n",
        "chinese_df.to_csv(\"drive/MyDrive/chinese_texts\", sep=',', index=False, encoding='utf-8')\n",
        "# Loading\n",
        "# genre_reviews_dict = pickle.load(open(DATA_PATH+'chinese_texts.pickle', 'rb'))\n"
      ]
    },
    {
      "cell_type": "code",
      "source": [],
      "metadata": {
        "id": "-SHfe3orT8fu"
      },
      "execution_count": null,
      "outputs": []
    },
    {
      "cell_type": "code",
      "execution_count": null,
      "metadata": {
        "id": "tcJgJtA318qs"
      },
      "outputs": [],
      "source": [
        "# Translate from Chinese to English (to validate translation)"
      ]
    },
    {
      "cell_type": "markdown",
      "metadata": {
        "id": "1MzgFJNO18qs"
      },
      "source": [
        "##### Comment on the pitfalls of the Meta Translation API\n",
        "\n",
        "##### Discuss how well translation models are at translating emotinally charged texts"
      ]
    },
    {
      "cell_type": "code",
      "execution_count": null,
      "metadata": {
        "id": "U-mi-XYz18qs"
      },
      "outputs": [],
      "source": [
        "# Split the dataset into training and testing sets\n",
        "texts = [\"text\", \"fr_text\", \"cn_text\"]\n",
        "curr_text = mh_texts[\"text\"]\n",
        "labels = mh_texts[\"label\"]\n",
        "train_texts, test_texts, train_labels, test_labels = train_test_split(curr_text, labels, test_size=0.2, random_state=42)\n",
        "print(\"First 10 Training Texts:\", train_texts[:9])\n",
        "print(\"Training Labels:\", train_labels)\n",
        "print(\"First 10 Test texts:\", test_texts[:10])\n",
        "print(\"Test labels:\", test_labels)"
      ]
    },
    {
      "cell_type": "code",
      "execution_count": null,
      "metadata": {
        "id": "fudF6F1w18qs"
      },
      "outputs": [],
      "source": [
        "#Run a baseline model (Logistic Regression)\n",
        "vectorizer = TfidfVectorizer()\n",
        "X_train = vectorizer.fit_transform(train_texts)\n",
        "X_test = vectorizer.transform(test_texts)\n",
        "clf = LogisticRegression(max_iter=1000).fit(X_train, train_labels)\n",
        "predictions = clf.predict(X_test)\n",
        "print(\"Logistic Regression Baseline Model:\")\n",
        "print(classification_report(test_labels, predictions))\n",
        "\n",
        "# Baseline model: Multinomial Naive Bayes\n",
        "nb_clf = MultinomialNB()\n",
        "nb_clf.fit(X_train, train_labels)\n",
        "nb_predictions = nb_clf.predict(X_test)\n",
        "\n",
        "# Print classification report for the Multinomial Naive Bayes baseline model\n",
        "print(\"Multinomial Naive Bayes Baseline Model:\")\n",
        "print(classification_report(test_labels, nb_predictions))\n"
      ]
    },
    {
      "cell_type": "markdown",
      "metadata": {
        "id": "Vsq-1YR318qs"
      },
      "source": [
        "#### Compare the baseline models and how good their predictions are with each language\n"
      ]
    },
    {
      "cell_type": "markdown",
      "metadata": {
        "id": "w4UtY9iF18qs"
      },
      "source": [
        "## 3. Results"
      ]
    },
    {
      "cell_type": "code",
      "execution_count": null,
      "metadata": {
        "id": "Xn3yhxFa18qs"
      },
      "outputs": [],
      "source": []
    },
    {
      "cell_type": "markdown",
      "metadata": {
        "id": "B8qAuWBr18qs"
      },
      "source": [
        "## 4. Discussion and conclusions"
      ]
    },
    {
      "cell_type": "code",
      "execution_count": null,
      "metadata": {
        "id": "m9GA0A0718qs"
      },
      "outputs": [],
      "source": []
    }
  ],
  "metadata": {
    "kernelspec": {
      "display_name": "Python 3",
      "name": "python3"
    },
    "language_info": {
      "codemirror_mode": {
        "name": "ipython",
        "version": 3
      },
      "file_extension": ".py",
      "mimetype": "text/x-python",
      "name": "python",
      "nbconvert_exporter": "python",
      "pygments_lexer": "ipython3",
      "version": "3.11.5"
    },
    "colab": {
      "provenance": [],
      "gpuType": "T4"
    },
    "accelerator": "GPU"
  },
  "nbformat": 4,
  "nbformat_minor": 0
}