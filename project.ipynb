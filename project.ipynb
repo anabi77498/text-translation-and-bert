{
 "cells": [
  {
   "cell_type": "markdown",
   "metadata": {},
   "source": [
    "# Final project guidelines\n",
    "\n",
    "**Note:** Use these guidelines if and only if you are pursuing a **final project of your own design**. For those taking the final exam instead of the project, see the (separate) final exam notebook.\n",
    "\n",
    "## Guidelines\n",
    "\n",
    "These guidelines are intended for **undergraduates enrolled in INFO 3350**. If you are a graduate student enrolled in INFO 6350, you're welcome to consult the information below, but you have wider latitude to design and develop your project in line with your research goals.\n",
    "\n",
    "### The task\n",
    "\n",
    "Your task is to: identify an interesting problem connected to the humanities or humanistic social sciences that's addressable with the help of computational methods, formulate a hypothesis about it, devise an experiment or experiments to test your hypothesis, present the results of your investigations, and discuss your findings.\n",
    "\n",
    "These tasks essentially replicate the process of writing an academic paper. You can think of your project as a paper in miniature.\n",
    "\n",
    "You are free to present each of these tasks as you see fit. You should use narrative text (that is, your own writing in a markdown cell), citations of others' work, numerical results, tables of data, and static and/or interactive visualizations as appropriate. Total length is flexible and depends on the number of people involved in the work, as well as the specific balance you strike between the ambition of your question and the sophistication of your methods. But be aware that numbers never, ever speak for themselves. Quantitative results presented without substantial discussion will not earn high marks. \n",
    "\n",
    "Your project should reflect, at minimum, ten **or more** hours of work by each participant, though you will be graded on the quality of your work, not the amount of time it took you to produce it. Most high-quality projects represent twenty or more hours of work by each member.\n",
    "\n",
    "#### Pick an important and interesting problem!\n",
    "\n",
    "No amount of technical sophistication will overcome a fundamentally uninteresting problem at the core of your work. You have seen many pieces of successful computational humanities research over the course of the semester. You might use these as a guide to the kinds of problems that interest scholars in a range of humanities disciplines. You may also want to spend some time in the library, reading recent books and articles in the professional literature. **Problem selection and motivation are integral parts of the project.** Do not neglect them.\n",
    "\n",
    "### Format\n",
    "\n",
    "You should submit your project as a Jupyter notebook, along with all data necessary to reproduce your analysis. If your dataset is too large to share easily, let us know in advance so that we can find a workaround. If you have a reason to prefer a presentation format other than a notebook, likewise let us know so that we can discuss the options.\n",
    "\n",
    "Your report should have four basic sections (provided in cells below for ease of reference):\n",
    "\n",
    "1. **Introduction and hypothesis.** What problem are you working on? Why is it interesting and important? What have other people said about it? What do you expect to find?\n",
    "2. **Corpus, data, and methods.** What data have you used? Where did it come from? How did you collect it? What are its limitations or omissions? What major methods will you use to analyze it? Why are those methods the appropriate ones?\n",
    "3. **Results.** What did you find? How did you find it? How should we read your figures? Be sure to include confidence intervals or other measures of statistical significance or uncetainty where appropriate.\n",
    "4. **Discussion and conclusions.** What does it all mean? Do your results support your hypothesis? Why or why not? What are the limitations of your study and how might those limitations be addressed in future work?\n",
    "\n",
    "Within each of those sections, you may use as many code and markdown cells as you like. You may, of course, address additional questions or issues not listed above.\n",
    "\n",
    "All code used in the project should be present in the notebook (except for widely-available libraries that you import), but **be sure that we can read and understand your report in full without rerunning the code**. Be sure, too, to explain what you're doing along the way, both by describing your data and methods and by writing clean, well commented code.\n",
    "\n",
    "### Grading\n",
    "\n",
    "This project takes the place of the take-home final exam for the course. It is worth 35% of your overall grade. You will be graded on the quality and ambition of each aspect of the project. No single component is more important than the others.\n",
    "\n",
    "### Practical details\n",
    "\n",
    "* The project is due at **noon on Saturday, December 9** via upload to CMS of a single zip file containing your fully executed Jupyter notebook and all associated data.\n",
    "* You may work alone or in a group of up to three total members.\n",
    "    * If you work in a group, be sure to list the names of the group members.\n",
    "    * For groups, create your group on CMS and submit one notebook for the entire group. **Each group should also submit a statement of responsibility** that describes in general terms who performed which parts of the project.\n",
    "* You may post questions on Ed, but should do so privately (visible to course staff only).\n",
    "* Interactive visualizations do not always work when embedded in shared notebooks. If you plan to use interactives, you may need to host them elsewhere and link to them.\n",
    "\n",
    "---"
   ]
  },
  {
   "cell_type": "markdown",
   "metadata": {},
   "source": [
    "Are signs of Mental health received differently across various languages? Can the \"emotionally involved\" semantics of a word be translated across various languages? \n",
    "\n",
    "https://www.kaggle.com/datasets/reihanenamdari/mental-health-corpus/data\n",
    "\n",
    "1) Data cleaning and visualization\n",
    "2) Build translation of english texts (using FlanT5 and M2M)\n",
    "\n",
    "- choose a easy translatable language (English -> Spanish) and then a hard one (English -> Farsi)\n",
    "\n",
    "3) Validate it (??? somehow, Google translate API, https://github.com/matheuss/google-translate-api) \n",
    "\n",
    "- comment on pitfalls of google translate's innaccuracy \n",
    "\n",
    "- discuss how well translation models are at translating emotionally charged texts\n",
    "    - compare it to a baseline (maybe google and see what the average performance is likee)\n",
    "\n",
    "4) Baseline models (log reg, random forest, naive bayes)\n",
    "\n",
    "5) Run BERT and attempt to compare labels\n",
    "\n",
    "6) repeat 4 and 5 for all the other languages we test\n",
    "\n",
    "7) validate scores\n",
    "\n",
    "8) Compare scores between languages (Perform some t-test shit idk)\n",
    "\n",
    "\n",
    "https://www.kaggle.com/datasets/reihanenamdari/mental-health-corpus/data"
   ]
  },
  {
   "cell_type": "markdown",
   "metadata": {},
   "source": [
    "## Your info\n",
    "* NetID(s): an448, ms2935\n",
    "* Name(s): Asad Nabi, Muhaimin Sarker\n",
    "---"
   ]
  },
  {
   "cell_type": "markdown",
   "metadata": {},
   "source": [
    "## 1. Introduction and hypothesis"
   ]
  },
  {
   "cell_type": "markdown",
   "metadata": {},
   "source": [
    "##### Introduction \n",
    "In the current technological advanced world that we live in, messaging and social media have become ways for us to express ourselves and communicate almost instantaneously. Due to this, often times, people find themselves \"chronically online\" and writing multiple messages to friends and people for many to see. As a result of COVID-19 and the variety of situations, mental health is on the decline and there is a necessity to understand what text messages people with mental health issues send so that we can help them before it is too late. However, mental health is not just an issue within the United States and it is imperative for us to analyze and understand how signs of mental health might be received across different languages. Additionally, within such texts, an active question comes out to whether or not we can translate \"emotionally involved semantics\" in English into different languages to allow for true understanding of the issue at hand. This is especially as some cultures may not readily communicate mental health issues within text messages due to various stigmas against it. As a result, there may not be datasets that record such instances within text messages and there is a need to understand this as well. \n",
    "\n",
    "#### Hypothesis\n",
    "In this analysis of text messages, we hypothesize that signs of mental health issues that received differently across different languages. We believe that this is because of difference in cultures and due to the reasoning that within each culture, mental health is treated differently. For example, based on an article from UCLA Health (https://www.uclahealth.org/news/confronting-mental-health-barriers-asian-american-and-2), Asian Americans are 50% less likely to seek mental health services due to an stigmatization of the topic. As a result, text messages from Asian langauges/cultures indicated mental health issues might be less pronounced than those in other cultures. We also hypothesize that translating from these English messages with \"emotionally involved semantics\" to different languages will not be successful. We believe that this is because during the translation process, the meaning behind the texts will be lost and unable to be conveyed in another language correctly due to the apparent linguistical differences.    \n"
   ]
  },
  {
   "cell_type": "code",
   "execution_count": 1,
   "metadata": {},
   "outputs": [],
   "source": [
    "# Importing necessary libraries\n",
    "from transformers import T5Tokenizer, T5ForConditionalGeneration, M2M100ForConditionalGeneration, M2M100Tokenizer\n",
    "import torch\n",
    "import numpy as np\n",
    "import pandas as pd\n",
    "import matplotlib.pyplot as plt\n",
    "import seaborn as sns\n",
    "\n",
    "from sklearn.metrics import classification_report\n",
    "\n",
    "from sklearn.model_selection import train_test_split\n",
    "from transformers import DistilBertTokenizerFast, DistilBertForSequenceClassification, AdamW\n",
    "from transformers import Trainer, TrainingArguments\n",
    "\n",
    "from sklearn.naive_bayes import MultinomialNB\n",
    "from sklearn.feature_extraction.text import TfidfVectorizer\n",
    "from sklearn.linear_model import LogisticRegression"
   ]
  },
  {
   "cell_type": "markdown",
   "metadata": {},
   "source": [
    "## 2. Data and methods"
   ]
  },
  {
   "cell_type": "markdown",
   "metadata": {},
   "source": [
    "##### Dataset\n",
    "We ended up using a Kaggle dataset called \"Mental Health Corpus\" which contains a corpus of text messages from people who have depression, anxiety, and other mental health issues. Each of these texts are labeled based on whether or not there is a mental health concern from the text message or if there isn't. We will use these text messages to allow us to answer our research questions and understand whether or not our hypothesis is correct. Additionally, we will translate these text messages into different languages to help us understand the \"emotionally involved semantics\" within these texts in different languages and whether or not that is lost in the translation process. "
   ]
  },
  {
   "cell_type": "code",
   "execution_count": 2,
   "metadata": {},
   "outputs": [
    {
     "name": "stdout",
     "output_type": "stream",
     "text": [
      "Total number of texts in the dataset: 27977\n"
     ]
    },
    {
     "data": {
      "text/html": [
       "<div>\n",
       "<style scoped>\n",
       "    .dataframe tbody tr th:only-of-type {\n",
       "        vertical-align: middle;\n",
       "    }\n",
       "\n",
       "    .dataframe tbody tr th {\n",
       "        vertical-align: top;\n",
       "    }\n",
       "\n",
       "    .dataframe thead th {\n",
       "        text-align: right;\n",
       "    }\n",
       "</style>\n",
       "<table border=\"1\" class=\"dataframe\">\n",
       "  <thead>\n",
       "    <tr style=\"text-align: right;\">\n",
       "      <th></th>\n",
       "      <th>text</th>\n",
       "      <th>label</th>\n",
       "    </tr>\n",
       "  </thead>\n",
       "  <tbody>\n",
       "    <tr>\n",
       "      <th>0</th>\n",
       "      <td>dear american teens question dutch person hear...</td>\n",
       "      <td>no concern</td>\n",
       "    </tr>\n",
       "    <tr>\n",
       "      <th>1</th>\n",
       "      <td>nothing look forward lifei dont many reasons k...</td>\n",
       "      <td>mental health concern</td>\n",
       "    </tr>\n",
       "    <tr>\n",
       "      <th>2</th>\n",
       "      <td>music recommendations im looking expand playli...</td>\n",
       "      <td>no concern</td>\n",
       "    </tr>\n",
       "    <tr>\n",
       "      <th>3</th>\n",
       "      <td>im done trying feel betterthe reason im still ...</td>\n",
       "      <td>mental health concern</td>\n",
       "    </tr>\n",
       "    <tr>\n",
       "      <th>4</th>\n",
       "      <td>worried  year old girl subject domestic physic...</td>\n",
       "      <td>mental health concern</td>\n",
       "    </tr>\n",
       "    <tr>\n",
       "      <th>5</th>\n",
       "      <td>hey rredflag sure right place post this goes  ...</td>\n",
       "      <td>mental health concern</td>\n",
       "    </tr>\n",
       "    <tr>\n",
       "      <th>6</th>\n",
       "      <td>feel like someone needs hear tonight feeling r...</td>\n",
       "      <td>no concern</td>\n",
       "    </tr>\n",
       "    <tr>\n",
       "      <th>7</th>\n",
       "      <td>deserve liveif died right noone would carei re...</td>\n",
       "      <td>mental health concern</td>\n",
       "    </tr>\n",
       "    <tr>\n",
       "      <th>8</th>\n",
       "      <td>feels good ive set dateim killing friday nice ...</td>\n",
       "      <td>mental health concern</td>\n",
       "    </tr>\n",
       "    <tr>\n",
       "      <th>9</th>\n",
       "      <td>live guiltok made stupid random choice  its ge...</td>\n",
       "      <td>mental health concern</td>\n",
       "    </tr>\n",
       "  </tbody>\n",
       "</table>\n",
       "</div>"
      ],
      "text/plain": [
       "                                                text                  label\n",
       "0  dear american teens question dutch person hear...             no concern\n",
       "1  nothing look forward lifei dont many reasons k...  mental health concern\n",
       "2  music recommendations im looking expand playli...             no concern\n",
       "3  im done trying feel betterthe reason im still ...  mental health concern\n",
       "4  worried  year old girl subject domestic physic...  mental health concern\n",
       "5  hey rredflag sure right place post this goes  ...  mental health concern\n",
       "6  feel like someone needs hear tonight feeling r...             no concern\n",
       "7  deserve liveif died right noone would carei re...  mental health concern\n",
       "8  feels good ive set dateim killing friday nice ...  mental health concern\n",
       "9  live guiltok made stupid random choice  its ge...  mental health concern"
      ]
     },
     "execution_count": 2,
     "metadata": {},
     "output_type": "execute_result"
    }
   ],
   "source": [
    "# Loading and observing dataset\n",
    "mh_texts = pd.read_csv(\"data/mental_health.csv\")\n",
    "mh_texts['label'] = mh_texts['label'].map({0: 'no concern', 1: 'mental health concern'})\n",
    "print(\"Total number of texts in the dataset:\", len(mh_texts[\"text\"]))\n",
    "mh_texts.head(10)"
   ]
  },
  {
   "cell_type": "code",
   "execution_count": 3,
   "metadata": {},
   "outputs": [
    {
     "data": {
      "image/png": "[encoded data removed]",
      "text/plain": [
       "<Figure size 640x480 with 1 Axes>"
      ]
     },
     "metadata": {},
     "output_type": "display_data"
    }
   ],
   "source": [
    "# Plotting a pie chart\n",
    "# Calculate the value counts of the 'category' column\n",
    "freq_count = mh_texts['label'].value_counts()\n",
    "\n",
    "plt.pie(freq_count, labels=['no concern', 'mental health\\nconcern'], autopct='%1.1f%%', startangle=90, colors=['skyblue', 'lightcoral'])\n",
    "plt.title('Frequency of concerns')\n",
    "plt.legend(bbox_to_anchor=(.15, .15))\n",
    "plt.show()"
   ]
  },
  {
   "cell_type": "code",
   "execution_count": 4,
   "metadata": {},
   "outputs": [
    {
     "data": {
      "image/png": "[encoded data removed]",
      "text/plain": [
       "<Figure size 640x480 with 1 Axes>"
      ]
     },
     "metadata": {},
     "output_type": "display_data"
    }
   ],
   "source": [
    "freq_count.plot(kind='barh', color=['skyblue', 'lightcoral'])\n",
    "plt.title('Frequency of concerns')\n",
    "plt.xlabel('Frequency')\n",
    "plt.ylabel('Concern')\n",
    "plt.show()"
   ]
  },
  {
   "cell_type": "code",
   "execution_count": 6,
   "metadata": {},
   "outputs": [
    {
     "ename": "TypeError",
     "evalue": "'NoneType' object is not callable",
     "output_type": "error",
     "traceback": [
      "\u001b[1;31m---------------------------------------------------------------------------\u001b[0m",
      "\u001b[1;31mTypeError\u001b[0m                                 Traceback (most recent call last)",
      "\u001b[1;32mc:\\Users\\sarke\\Desktop\\Cornell University\\Senior Year\\1st Semester\\INFO 3350 Text Mining History and Literature\\text-translation-and-bert\\project.ipynb Cell 12\u001b[0m line \u001b[0;36m3\n\u001b[0;32m      <a href='vscode-notebook-cell:/c%3A/Users/sarke/Desktop/Cornell%20University/Senior%20Year/1st%20Semester/INFO%203350%20Text%20Mining%20History%20and%20Literature/text-translation-and-bert/project.ipynb#X14sZmlsZQ%3D%3D?line=0'>1</a>\u001b[0m \u001b[39m# Load models\u001b[39;00m\n\u001b[0;32m      <a href='vscode-notebook-cell:/c%3A/Users/sarke/Desktop/Cornell%20University/Senior%20Year/1st%20Semester/INFO%203350%20Text%20Mining%20History%20and%20Literature/text-translation-and-bert/project.ipynb#X14sZmlsZQ%3D%3D?line=1'>2</a>\u001b[0m m2m_model \u001b[39m=\u001b[39m M2M100ForConditionalGeneration\u001b[39m.\u001b[39mfrom_pretrained(\u001b[39m\"\u001b[39m\u001b[39mfacebook/m2m100_418M\u001b[39m\u001b[39m\"\u001b[39m)\n\u001b[1;32m----> <a href='vscode-notebook-cell:/c%3A/Users/sarke/Desktop/Cornell%20University/Senior%20Year/1st%20Semester/INFO%203350%20Text%20Mining%20History%20and%20Literature/text-translation-and-bert/project.ipynb#X14sZmlsZQ%3D%3D?line=2'>3</a>\u001b[0m m2m_tokenizer \u001b[39m=\u001b[39m M2M100Tokenizer\u001b[39m.\u001b[39;49mfrom_pretrained(\u001b[39m\"\u001b[39;49m\u001b[39mfacebook/m2m100_418M\u001b[39;49m\u001b[39m\"\u001b[39;49m)\n",
      "\u001b[1;31mTypeError\u001b[0m: 'NoneType' object is not callable"
     ]
    }
   ],
   "source": [
    "# Load models\n",
    "m2m_model = M2M100ForConditionalGeneration.from_pretrained(\"facebook/m2m100_418M\")\n",
    "m2m_tokenizer = M2M100Tokenizer.from_pretrained(\"facebook/m2m100_418M\")"
   ]
  },
  {
   "cell_type": "code",
   "execution_count": null,
   "metadata": {},
   "outputs": [],
   "source": [
    "# Translate from English to French (easy language)"
   ]
  },
  {
   "cell_type": "code",
   "execution_count": null,
   "metadata": {},
   "outputs": [],
   "source": [
    "# Translate from French to English (to validate translation)"
   ]
  },
  {
   "cell_type": "code",
   "execution_count": null,
   "metadata": {},
   "outputs": [],
   "source": [
    "# Translate from English to Chinese (hard language)"
   ]
  },
  {
   "cell_type": "code",
   "execution_count": null,
   "metadata": {},
   "outputs": [],
   "source": [
    "# Translate from Chinese to English (to validate translation)"
   ]
  },
  {
   "cell_type": "markdown",
   "metadata": {},
   "source": [
    "##### Comment on the pitfalls of the Meta Translation API\n",
    "\n",
    "##### Discuss how well translation models are at translating emotinally charged texts"
   ]
  },
  {
   "cell_type": "code",
   "execution_count": null,
   "metadata": {},
   "outputs": [],
   "source": [
    "# Split the dataset into training and testing sets\n",
    "texts = [\"text\", \"fr_text\", \"cn_text\"]\n",
    "curr_text = mh_texts[\"text\"]\n",
    "labels = mh_texts[\"label\"]\n",
    "train_texts, test_texts, train_labels, test_labels = train_test_split(curr_text, labels, test_size=0.2, random_state=42)\n",
    "print(\"First 10 Training Texts:\", train_texts[:9])\n",
    "print(\"Training Labels:\", train_labels)\n",
    "print(\"First 10 Test texts:\", test_texts[:10])\n",
    "print(\"Test labels:\", test_labels)"
   ]
  },
  {
   "cell_type": "code",
   "execution_count": null,
   "metadata": {},
   "outputs": [],
   "source": [
    "#Run a baseline model (Logistic Regression)\n",
    "vectorizer = TfidfVectorizer()\n",
    "X_train = vectorizer.fit_transform(train_texts)\n",
    "X_test = vectorizer.transform(test_texts)\n",
    "clf = LogisticRegression(max_iter=1000).fit(X_train, train_labels)\n",
    "predictions = clf.predict(X_test)\n",
    "print(\"Logistic Regression Baseline Model:\")\n",
    "print(classification_report(test_labels, predictions))\n",
    "\n",
    "# Baseline model: Multinomial Naive Bayes\n",
    "nb_clf = MultinomialNB()\n",
    "nb_clf.fit(X_train, train_labels)\n",
    "nb_predictions = nb_clf.predict(X_test)\n",
    "\n",
    "# Print classification report for the Multinomial Naive Bayes baseline model\n",
    "print(\"Multinomial Naive Bayes Baseline Model:\")\n",
    "print(classification_report(test_labels, nb_predictions))\n"
   ]
  },
  {
   "cell_type": "markdown",
   "metadata": {},
   "source": [
    "#### Compare the baseline models and how good their predictions are with each language\n"
   ]
  },
  {
   "cell_type": "markdown",
   "metadata": {},
   "source": [
    "## 3. Results"
   ]
  },
  {
   "cell_type": "code",
   "execution_count": null,
   "metadata": {},
   "outputs": [],
   "source": []
  },
  {
   "cell_type": "markdown",
   "metadata": {},
   "source": [
    "## 4. Discussion and conclusions"
   ]
  },
  {
   "cell_type": "code",
   "execution_count": null,
   "metadata": {},
   "outputs": [],
   "source": []
  }
 ],
 "metadata": {
  "kernelspec": {
   "display_name": "Python 3 (ipykernel)",
   "language": "python",
   "name": "python3"
  },
  "language_info": {
   "codemirror_mode": {
    "name": "ipython",
    "version": 3
   },
   "file_extension": ".py",
   "mimetype": "text/x-python",
   "name": "python",
   "nbconvert_exporter": "python",
   "pygments_lexer": "ipython3",
   "version": "3.10.12"
  }
 },
 "nbformat": 4,
 "nbformat_minor": 4
}
